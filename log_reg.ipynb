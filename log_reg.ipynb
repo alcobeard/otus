{
  "nbformat": 4,
  "nbformat_minor": 0,
  "metadata": {
    "kernelspec": {
      "display_name": "Python 3",
      "language": "python",
      "name": "python3"
    },
    "language_info": {
      "codemirror_mode": {
        "name": "ipython",
        "version": 3
      },
      "file_extension": ".py",
      "mimetype": "text/x-python",
      "name": "python",
      "nbconvert_exporter": "python",
      "pygments_lexer": "ipython3",
      "version": "3.6.3"
    },
    "colab": {
      "name": "log_reg.ipynb",
      "provenance": [],
      "include_colab_link": true
    },
    "accelerator": "GPU"
  },
  "cells": [
    {
      "cell_type": "markdown",
      "metadata": {
        "id": "view-in-github",
        "colab_type": "text"
      },
      "source": [
        "<a href=\"https://colab.research.google.com/github/alcobeard/otus/blob/master/log_reg.ipynb\" target=\"_parent\"><img src=\"https://colab.research.google.com/assets/colab-badge.svg\" alt=\"Open In Colab\"/></a>"
      ]
    },
    {
      "cell_type": "code",
      "metadata": {
        "id": "kmi2NheXspiQ",
        "colab_type": "code",
        "colab": {}
      },
      "source": [
        "import torch\n",
        "import torch.nn as nn\n",
        "import torch.nn.functional as F\n",
        "import torch.optim as optim\n",
        "\n",
        "import numpy as np\n",
        "import scipy.stats as stats\n",
        "import matplotlib.pyplot as plt\n",
        "\n",
        "%matplotlib inline"
      ],
      "execution_count": 0,
      "outputs": []
    },
    {
      "cell_type": "code",
      "metadata": {
        "id": "T1nQWCW9spiT",
        "colab_type": "code",
        "colab": {}
      },
      "source": [
        "# параметры распределений\n",
        "mu0, sigma0 = -5., 1. # матожидание и среднеквадратическое отклонение\n",
        "mu1, sigma1 = 2., 1."
      ],
      "execution_count": 0,
      "outputs": []
    },
    {
      "cell_type": "code",
      "metadata": {
        "id": "QiL2fLnSspiX",
        "colab_type": "code",
        "colab": {}
      },
      "source": [
        "# задаем непрерывную функцию распределения\n",
        "d0 = torch.distributions.Normal(torch.tensor([mu0]), torch.tensor([sigma0]))\n",
        "d1 = torch.distributions.Normal(torch.tensor([mu1]), torch.tensor([sigma1]))"
      ],
      "execution_count": 0,
      "outputs": []
    },
    {
      "cell_type": "code",
      "metadata": {
        "id": "AmLjV544spiV",
        "colab_type": "code",
        "colab": {}
      },
      "source": [
        "def sample(d0, d1, n=32):\n",
        "    # из распределений набираем экземпляры обучающей выборки (n случайных элементов из каждого распределения)\n",
        "    x0 = d0.sample((n,))\n",
        "    x1 = d1.sample((n,))\n",
        "\n",
        "    # добавляем правильные ответы. считаем что принадлежность к  \n",
        "    y0 = torch.zeros((n, 1)) # d0 это класс 0\n",
        "    y1 = torch.ones((n, 1))  # d1 это класс 1 \n",
        "\n",
        "    # в результате надо вернуть два тензора. \n",
        "    # первый - со значениями функций\n",
        "    # второй - \"класс\" функции которому принадлежит соответствующее значение\n",
        "    return torch.cat([x0, x1], 0), torch.cat([y0, y1], 0)"
      ],
      "execution_count": 0,
      "outputs": []
    },
    {
      "cell_type": "code",
      "metadata": {
        "id": "n8WNB3QFuoI7",
        "colab_type": "code",
        "outputId": "32a41797-79ba-42fb-f087-753feff494b7",
        "colab": {
          "base_uri": "https://localhost:8080/",
          "height": 134
        }
      },
      "source": [
        "sample(d0, d1, 2)"
      ],
      "execution_count": 5,
      "outputs": [
        {
          "output_type": "execute_result",
          "data": {
            "text/plain": [
              "(tensor([[-4.0726],\n",
              "         [-4.3602],\n",
              "         [ 2.2984],\n",
              "         [ 1.2596]]), tensor([[0.],\n",
              "         [0.],\n",
              "         [1.],\n",
              "         [1.]]))"
            ]
          },
          "metadata": {
            "tags": []
          },
          "execution_count": 5
        }
      ]
    },
    {
      "cell_type": "code",
      "metadata": {
        "id": "j-IRad27spiZ",
        "colab_type": "code",
        "outputId": "f495780f-c5e9-491f-b5f8-98018bad0687",
        "colab": {
          "base_uri": "https://localhost:8080/",
          "height": 67
        }
      },
      "source": [
        "# Сделаем нейросетку из одного слоя и одного нейрона (1 вход и 1 выход)\n",
        "# Applies a linear transformation to the incoming data: y = xA^T + b\n",
        "layer = nn.Linear(1, 1)\n",
        "\n",
        "# посмотрим на параметры и данные:\n",
        "print(layer.parameters)\n",
        "for p in layer.parameters():\n",
        "    print(p.data)\n",
        "\n",
        "# теперь как будем оптимизировать ошибку:\n",
        "layer_opt = optim.SGD(lr=1e-3, params=list(layer.parameters()))"
      ],
      "execution_count": 6,
      "outputs": [
        {
          "output_type": "stream",
          "text": [
            "<bound method Module.parameters of Linear(in_features=1, out_features=1, bias=True)>\n",
            "tensor([[0.7511]])\n",
            "tensor([-0.5532])\n"
          ],
          "name": "stdout"
        }
      ]
    },
    {
      "cell_type": "code",
      "metadata": {
        "id": "6P3Tvrpzspic",
        "colab_type": "code",
        "outputId": "b2957971-75e5-49f7-d995-d4aea9f6f2e9",
        "colab": {
          "base_uri": "https://localhost:8080/",
          "height": 351
        }
      },
      "source": [
        "# начинаем обучение\n",
        "log_freq = 500\n",
        "\n",
        "# обучаем 10000 итераций\n",
        "for i in range(10000):\n",
        "    # проверяем качество раз в 500 итераций\n",
        "    if i % log_freq == 0:\n",
        "        # этот блок будет выполнен без подсчета градиентов вообще\n",
        "        with torch.no_grad():\n",
        "            # тестовой выборки у нас нет, но есть знания о распределениях\n",
        "            # поэтому просто насемплируем новых данных, которых сеть не видела\n",
        "            # и на которых не обучалась - будет эквивалент тестовой выборки\n",
        "            x, y = sample(d0, d1, 100000)\n",
        "\n",
        "            # тут два действия в одном - пропускаем через сумматор (layer)\n",
        "            # и выходы сумматора пропускаем через функцию активации\n",
        "            out = torch.sigmoid(layer(x))\n",
        "\n",
        "            # в качестве метрики ошибки считаем бинарную кросс-энтропию между ответами сети \n",
        "            # и реальными значениями классов\n",
        "            loss = F.binary_cross_entropy(out, y)\n",
        "        print(f\"Ошибка после {i} итераций: {round(loss.item(),4)}\")\n",
        "\n",
        "    # torch накапливает градиенты, поэтому принудительно перед их новым подсчетом обнуляем накопленные значений    \n",
        "    layer_opt.zero_grad()\n",
        "\n",
        "    # нужно относительно чего-то считать ошибку\n",
        "    # вот по этим ответам и посчитаем:\n",
        "    x, y = sample(d0, d1, 1024)\n",
        "    out = torch.sigmoid(layer(x))\n",
        "\n",
        "    # относительно полученного лосса и будем делать\n",
        "    loss = F.binary_cross_entropy(out, y)\n",
        "\n",
        "    # бэкпроп - считаем градиенты\n",
        "    loss.backward()\n",
        "\n",
        "    # обновляем веса по подсчитанным градиентам \n",
        "    layer_opt.step()"
      ],
      "execution_count": 7,
      "outputs": [
        {
          "output_type": "stream",
          "text": [
            "Ошибка после 0 итераций: 0.2001\n",
            "Ошибка после 500 итераций: 0.1644\n",
            "Ошибка после 1000 итераций: 0.1406\n",
            "Ошибка после 1500 итераций: 0.1237\n",
            "Ошибка после 2000 итераций: 0.112\n",
            "Ошибка после 2500 итераций: 0.1016\n",
            "Ошибка после 3000 итераций: 0.0935\n",
            "Ошибка после 3500 итераций: 0.0876\n",
            "Ошибка после 4000 итераций: 0.082\n",
            "Ошибка после 4500 итераций: 0.0767\n",
            "Ошибка после 5000 итераций: 0.0729\n",
            "Ошибка после 5500 итераций: 0.0696\n",
            "Ошибка после 6000 итераций: 0.0671\n",
            "Ошибка после 6500 итераций: 0.0637\n",
            "Ошибка после 7000 итераций: 0.061\n",
            "Ошибка после 7500 итераций: 0.0596\n",
            "Ошибка после 8000 итераций: 0.0568\n",
            "Ошибка после 8500 итераций: 0.055\n",
            "Ошибка после 9000 итераций: 0.0529\n",
            "Ошибка после 9500 итераций: 0.0518\n"
          ],
          "name": "stdout"
        }
      ]
    },
    {
      "cell_type": "code",
      "metadata": {
        "id": "fJOvORgm2Cwi",
        "colab_type": "code",
        "colab": {
          "base_uri": "https://localhost:8080/",
          "height": 1000
        },
        "outputId": "54891631-d3c9-46a7-d1ab-ac885c6525a3"
      },
      "source": [
        "!pip install jupyterthemes"
      ],
      "execution_count": 8,
      "outputs": [
        {
          "output_type": "stream",
          "text": [
            "Collecting jupyterthemes\n",
            "\u001b[?25l  Downloading https://files.pythonhosted.org/packages/8a/08/9dee6dfd7f2aad6c30282d55c8f495b4dc1e4747b4e2bdbeb80572ddf312/jupyterthemes-0.20.0-py2.py3-none-any.whl (7.0MB)\n",
            "\u001b[K     |████████████████████████████████| 7.0MB 2.7MB/s \n",
            "\u001b[?25hRequirement already satisfied: matplotlib>=1.4.3 in /usr/local/lib/python3.6/dist-packages (from jupyterthemes) (3.2.1)\n",
            "Collecting notebook>=5.6.0\n",
            "\u001b[?25l  Downloading https://files.pythonhosted.org/packages/b1/f1/0a67f09ef53a342403ffa66646ee39273e0ac79ffa5de5dbe2f3e28b5bdf/notebook-6.0.3-py3-none-any.whl (9.7MB)\n",
            "\u001b[K     |████████████████████████████████| 9.7MB 41.2MB/s \n",
            "\u001b[?25hRequirement already satisfied: ipython>=5.4.1 in /usr/local/lib/python3.6/dist-packages (from jupyterthemes) (5.5.0)\n",
            "Collecting lesscpy>=0.11.2\n",
            "\u001b[?25l  Downloading https://files.pythonhosted.org/packages/f8/d2/665cda6614e3556eaeb7553a3a2963624c2e3bc9636777a1bb654b87b027/lesscpy-0.14.0-py2.py3-none-any.whl (46kB)\n",
            "\u001b[K     |████████████████████████████████| 51kB 6.6MB/s \n",
            "\u001b[?25hRequirement already satisfied: jupyter-core in /usr/local/lib/python3.6/dist-packages (from jupyterthemes) (4.6.3)\n",
            "Requirement already satisfied: pyparsing!=2.0.4,!=2.1.2,!=2.1.6,>=2.0.1 in /usr/local/lib/python3.6/dist-packages (from matplotlib>=1.4.3->jupyterthemes) (2.4.7)\n",
            "Requirement already satisfied: cycler>=0.10 in /usr/local/lib/python3.6/dist-packages (from matplotlib>=1.4.3->jupyterthemes) (0.10.0)\n",
            "Requirement already satisfied: kiwisolver>=1.0.1 in /usr/local/lib/python3.6/dist-packages (from matplotlib>=1.4.3->jupyterthemes) (1.2.0)\n",
            "Requirement already satisfied: python-dateutil>=2.1 in /usr/local/lib/python3.6/dist-packages (from matplotlib>=1.4.3->jupyterthemes) (2.8.1)\n",
            "Requirement already satisfied: numpy>=1.11 in /usr/local/lib/python3.6/dist-packages (from matplotlib>=1.4.3->jupyterthemes) (1.18.4)\n",
            "Requirement already satisfied: Send2Trash in /usr/local/lib/python3.6/dist-packages (from notebook>=5.6.0->jupyterthemes) (1.5.0)\n",
            "Requirement already satisfied: jupyter-client>=5.3.4 in /usr/local/lib/python3.6/dist-packages (from notebook>=5.6.0->jupyterthemes) (5.3.4)\n",
            "Requirement already satisfied: nbformat in /usr/local/lib/python3.6/dist-packages (from notebook>=5.6.0->jupyterthemes) (5.0.6)\n",
            "Requirement already satisfied: ipykernel in /usr/local/lib/python3.6/dist-packages (from notebook>=5.6.0->jupyterthemes) (4.10.1)\n",
            "Requirement already satisfied: traitlets>=4.2.1 in /usr/local/lib/python3.6/dist-packages (from notebook>=5.6.0->jupyterthemes) (4.3.3)\n",
            "Requirement already satisfied: ipython-genutils in /usr/local/lib/python3.6/dist-packages (from notebook>=5.6.0->jupyterthemes) (0.2.0)\n",
            "Requirement already satisfied: jinja2 in /usr/local/lib/python3.6/dist-packages (from notebook>=5.6.0->jupyterthemes) (2.11.2)\n",
            "Requirement already satisfied: prometheus-client in /usr/local/lib/python3.6/dist-packages (from notebook>=5.6.0->jupyterthemes) (0.8.0)\n",
            "Requirement already satisfied: pyzmq>=17 in /usr/local/lib/python3.6/dist-packages (from notebook>=5.6.0->jupyterthemes) (19.0.1)\n",
            "Collecting tornado>=5.0\n",
            "\u001b[?25l  Downloading https://files.pythonhosted.org/packages/95/84/119a46d494f008969bf0c775cb2c6b3579d3c4cc1bb1b41a022aa93ee242/tornado-6.0.4.tar.gz (496kB)\n",
            "\u001b[K     |████████████████████████████████| 501kB 41.4MB/s \n",
            "\u001b[?25hRequirement already satisfied: nbconvert in /usr/local/lib/python3.6/dist-packages (from notebook>=5.6.0->jupyterthemes) (5.6.1)\n",
            "Requirement already satisfied: terminado>=0.8.1 in /usr/local/lib/python3.6/dist-packages (from notebook>=5.6.0->jupyterthemes) (0.8.3)\n",
            "Requirement already satisfied: pickleshare in /usr/local/lib/python3.6/dist-packages (from ipython>=5.4.1->jupyterthemes) (0.7.5)\n",
            "Requirement already satisfied: setuptools>=18.5 in /usr/local/lib/python3.6/dist-packages (from ipython>=5.4.1->jupyterthemes) (46.4.0)\n",
            "Requirement already satisfied: pexpect; sys_platform != \"win32\" in /usr/local/lib/python3.6/dist-packages (from ipython>=5.4.1->jupyterthemes) (4.8.0)\n",
            "Requirement already satisfied: decorator in /usr/local/lib/python3.6/dist-packages (from ipython>=5.4.1->jupyterthemes) (4.4.2)\n",
            "Requirement already satisfied: pygments in /usr/local/lib/python3.6/dist-packages (from ipython>=5.4.1->jupyterthemes) (2.1.3)\n",
            "Requirement already satisfied: simplegeneric>0.8 in /usr/local/lib/python3.6/dist-packages (from ipython>=5.4.1->jupyterthemes) (0.8.1)\n",
            "Requirement already satisfied: prompt-toolkit<2.0.0,>=1.0.4 in /usr/local/lib/python3.6/dist-packages (from ipython>=5.4.1->jupyterthemes) (1.0.18)\n",
            "Collecting ply\n",
            "\u001b[?25l  Downloading https://files.pythonhosted.org/packages/a3/58/35da89ee790598a0700ea49b2a66594140f44dec458c07e8e3d4979137fc/ply-3.11-py2.py3-none-any.whl (49kB)\n",
            "\u001b[K     |████████████████████████████████| 51kB 5.8MB/s \n",
            "\u001b[?25hRequirement already satisfied: six in /usr/local/lib/python3.6/dist-packages (from lesscpy>=0.11.2->jupyterthemes) (1.12.0)\n",
            "Requirement already satisfied: jsonschema!=2.5.0,>=2.4 in /usr/local/lib/python3.6/dist-packages (from nbformat->notebook>=5.6.0->jupyterthemes) (2.6.0)\n",
            "Requirement already satisfied: MarkupSafe>=0.23 in /usr/local/lib/python3.6/dist-packages (from jinja2->notebook>=5.6.0->jupyterthemes) (1.1.1)\n",
            "Requirement already satisfied: testpath in /usr/local/lib/python3.6/dist-packages (from nbconvert->notebook>=5.6.0->jupyterthemes) (0.4.4)\n",
            "Requirement already satisfied: bleach in /usr/local/lib/python3.6/dist-packages (from nbconvert->notebook>=5.6.0->jupyterthemes) (3.1.5)\n",
            "Requirement already satisfied: pandocfilters>=1.4.1 in /usr/local/lib/python3.6/dist-packages (from nbconvert->notebook>=5.6.0->jupyterthemes) (1.4.2)\n",
            "Requirement already satisfied: entrypoints>=0.2.2 in /usr/local/lib/python3.6/dist-packages (from nbconvert->notebook>=5.6.0->jupyterthemes) (0.3)\n",
            "Requirement already satisfied: mistune<2,>=0.8.1 in /usr/local/lib/python3.6/dist-packages (from nbconvert->notebook>=5.6.0->jupyterthemes) (0.8.4)\n",
            "Requirement already satisfied: defusedxml in /usr/local/lib/python3.6/dist-packages (from nbconvert->notebook>=5.6.0->jupyterthemes) (0.6.0)\n",
            "Requirement already satisfied: ptyprocess; os_name != \"nt\" in /usr/local/lib/python3.6/dist-packages (from terminado>=0.8.1->notebook>=5.6.0->jupyterthemes) (0.6.0)\n",
            "Requirement already satisfied: wcwidth in /usr/local/lib/python3.6/dist-packages (from prompt-toolkit<2.0.0,>=1.0.4->ipython>=5.4.1->jupyterthemes) (0.1.9)\n",
            "Requirement already satisfied: webencodings in /usr/local/lib/python3.6/dist-packages (from bleach->nbconvert->notebook>=5.6.0->jupyterthemes) (0.5.1)\n",
            "Requirement already satisfied: packaging in /usr/local/lib/python3.6/dist-packages (from bleach->nbconvert->notebook>=5.6.0->jupyterthemes) (20.4)\n",
            "Building wheels for collected packages: tornado\n",
            "  Building wheel for tornado (setup.py) ... \u001b[?25l\u001b[?25hdone\n",
            "  Created wheel for tornado: filename=tornado-6.0.4-cp36-cp36m-linux_x86_64.whl size=427629 sha256=fc1c4f789b013410dc6691b2ae35734e53674fd81acbd894697f2a5a222f6c7a\n",
            "  Stored in directory: /root/.cache/pip/wheels/93/84/2f/409c7b2bb3afc3aa727f7ee8787975e0793f74d1165f4d0104\n",
            "Successfully built tornado\n",
            "\u001b[31mERROR: google-colab 1.0.0 has requirement notebook~=5.2.0, but you'll have notebook 6.0.3 which is incompatible.\u001b[0m\n",
            "Installing collected packages: tornado, notebook, ply, lesscpy, jupyterthemes\n",
            "  Found existing installation: tornado 4.5.3\n",
            "    Uninstalling tornado-4.5.3:\n",
            "      Successfully uninstalled tornado-4.5.3\n",
            "  Found existing installation: notebook 5.2.2\n",
            "    Uninstalling notebook-5.2.2:\n",
            "      Successfully uninstalled notebook-5.2.2\n",
            "Successfully installed jupyterthemes-0.20.0 lesscpy-0.14.0 notebook-6.0.3 ply-3.11 tornado-6.0.4\n"
          ],
          "name": "stdout"
        },
        {
          "output_type": "display_data",
          "data": {
            "application/vnd.colab-display-data+json": {
              "pip_warning": {
                "packages": [
                  "tornado"
                ]
              }
            }
          },
          "metadata": {
            "tags": []
          }
        }
      ]
    },
    {
      "cell_type": "code",
      "metadata": {
        "id": "rvMoPN7D2DRy",
        "colab_type": "code",
        "colab": {
          "base_uri": "https://localhost:8080/",
          "height": 50
        },
        "outputId": "5d51fae4-2d0e-4dfc-9ff7-42caada00898"
      },
      "source": [
        "from jupyterthemes import jtplot\n",
        "\n",
        "jtplot.style(theme='monokai', context='notebook', ticks=True, grid=False)"
      ],
      "execution_count": 9,
      "outputs": [
        {
          "output_type": "stream",
          "text": [
            "/usr/local/lib/python3.6/dist-packages/statsmodels/tools/_testing.py:19: FutureWarning: pandas.util.testing is deprecated. Use the functions in the public API at pandas.testing instead.\n",
            "  import pandas.util.testing as tm\n"
          ],
          "name": "stderr"
        }
      ]
    },
    {
      "cell_type": "code",
      "metadata": {
        "id": "BZOIQ1RXspie",
        "colab_type": "code",
        "colab": {}
      },
      "source": [
        "x_scale = np.linspace(-10, 10, 5000)\n",
        "d0_pdf = stats.norm.pdf(x_scale, mu0, sigma0) \n",
        "d1_pdf = stats.norm.pdf(x_scale, mu1, sigma1)\n",
        "x_tensor = torch.tensor(x_scale.reshape(-1, 1), dtype=torch.float)\n",
        "with torch.no_grad():\n",
        "    dist = torch.sigmoid(layer(x_tensor)).numpy()\n",
        "ratio = d1_pdf / (d1_pdf + d0_pdf)"
      ],
      "execution_count": 0,
      "outputs": []
    },
    {
      "cell_type": "code",
      "metadata": {
        "id": "1HfH6LSPspii",
        "colab_type": "code",
        "outputId": "f33ef259-0ebc-425a-d40b-4370588730b5",
        "colab": {
          "base_uri": "https://localhost:8080/",
          "height": 329
        }
      },
      "source": [
        "plt.figure(figsize=(10,5))\n",
        "plt.plot(x_scale, d0_pdf*2, label='d0') # умножение на 2 для красоты графиков, на распределения не влияет\n",
        "plt.plot(x_scale, d1_pdf*2, label='d1')\n",
        "plt.plot(x_scale, dist.flatten(), label='pred')\n",
        "plt.plot(x_scale, ratio, label='ratio')\n",
        "plt.legend();"
      ],
      "execution_count": 11,
      "outputs": [
        {
          "output_type": "display_data",
          "data": {
            "image/png": "[encoded data removed]",
            "text/plain": [
              "<Figure size 720x360 with 1 Axes>"
            ]
          },
          "metadata": {
            "tags": []
          }
        }
      ]
    },
    {
      "cell_type": "code",
      "metadata": {
        "id": "MxcCimSSspik",
        "colab_type": "code",
        "outputId": "1c75afd5-e8e3-4f97-f545-712d6cbad425",
        "colab": {
          "base_uri": "https://localhost:8080/",
          "height": 33
        }
      },
      "source": [
        "print([p.data[0] for p in layer.parameters()])"
      ],
      "execution_count": 12,
      "outputs": [
        {
          "output_type": "stream",
          "text": [
            "[tensor([1.5986]), tensor(0.1152)]\n"
          ],
          "name": "stdout"
        }
      ]
    },
    {
      "cell_type": "code",
      "metadata": {
        "id": "2eAJLRvgspim",
        "colab_type": "code",
        "outputId": "56b3895b-8728-4ab5-952f-ae07e2b00afe",
        "colab": {
          "base_uri": "https://localhost:8080/",
          "height": 67
        }
      },
      "source": [
        "torch.log(F.sigmoid(torch.tensor(-100.)))"
      ],
      "execution_count": 13,
      "outputs": [
        {
          "output_type": "stream",
          "text": [
            "/usr/local/lib/python3.6/dist-packages/torch/nn/functional.py:1569: UserWarning: nn.functional.sigmoid is deprecated. Use torch.sigmoid instead.\n",
            "  warnings.warn(\"nn.functional.sigmoid is deprecated. Use torch.sigmoid instead.\")\n"
          ],
          "name": "stderr"
        },
        {
          "output_type": "execute_result",
          "data": {
            "text/plain": [
              "tensor(-inf)"
            ]
          },
          "metadata": {
            "tags": []
          },
          "execution_count": 13
        }
      ]
    },
    {
      "cell_type": "code",
      "metadata": {
        "id": "KcZNZZ5Nspio",
        "colab_type": "code",
        "outputId": "766bc3fd-aecd-438a-bcaa-3a4aa545e032",
        "colab": {
          "base_uri": "https://localhost:8080/",
          "height": 33
        }
      },
      "source": [
        "F.logsigmoid(torch.tensor(-100.))"
      ],
      "execution_count": 14,
      "outputs": [
        {
          "output_type": "execute_result",
          "data": {
            "text/plain": [
              "tensor(-100.)"
            ]
          },
          "metadata": {
            "tags": []
          },
          "execution_count": 14
        }
      ]
    },
    {
      "cell_type": "markdown",
      "metadata": {
        "id": "yDvKmiDor9R_",
        "colab_type": "text"
      },
      "source": [
        "### Homework"
      ]
    },
    {
      "cell_type": "code",
      "metadata": {
        "id": "J_0jfC2TsDmv",
        "colab_type": "code",
        "outputId": "b4d0326b-21d9-408d-e736-4a1bdbbbac70",
        "colab": {
          "base_uri": "https://localhost:8080/",
          "height": 50
        }
      },
      "source": [
        "d2_0 = torch.distributions.multivariate_normal.MultivariateNormal(torch.tensor([2., 3.]), torch.tensor([[1., 0], [0., 1]])) # делаем двумерные данные\n",
        "d2_1 = torch.distributions.multivariate_normal.MultivariateNormal(torch.tensor([-2., 1]), torch.tensor([[1., 0], [0., 1]]))\n",
        "d2_0.sample((2,))"
      ],
      "execution_count": 15,
      "outputs": [
        {
          "output_type": "execute_result",
          "data": {
            "text/plain": [
              "tensor([[1.7649, 5.6407],\n",
              "        [2.7326, 3.2367]])"
            ]
          },
          "metadata": {
            "tags": []
          },
          "execution_count": 15
        }
      ]
    },
    {
      "cell_type": "code",
      "metadata": {
        "id": "IYfbh8kvs29O",
        "colab_type": "code",
        "colab": {}
      },
      "source": [
        "def sample(d2_0, d2_1, n=32*32):\n",
        "    # из распределений набираем экземпляры обучающей выборки (n случайных элементов из каждого распределения)\n",
        "    x0 = d2_0.sample((n,))\n",
        "    x1 = d2_1.sample((n,))\n",
        "\n",
        "    # добавляем правильные ответы. считаем что принадлежность к  \n",
        "    y0 = torch.zeros((n, 1)) # d0 это класс 0\n",
        "    y1 = torch.ones((n, 1))  # d1 это класс 1 \n",
        "\n",
        "    # в результате надо вернуть два тензора. \n",
        "    # первый - со значениями функций\n",
        "    # второй - \"класс\" функции которому принадлежит соответствующее значение\n",
        "    return torch.cat([x0, x1], 0), torch.cat([y0, y1], 0)"
      ],
      "execution_count": 0,
      "outputs": []
    },
    {
      "cell_type": "code",
      "metadata": {
        "id": "La55bEy3s3Fh",
        "colab_type": "code",
        "outputId": "883f4d26-7232-4d9d-e26b-ffe062d66002",
        "colab": {
          "base_uri": "https://localhost:8080/",
          "height": 67
        }
      },
      "source": [
        "# Сделаем нейросетку из одного слоя и одного нейрона (2 вход и 1 выход)\n",
        "# Applies a linear transformation to the incoming data: y = xA^T + b\n",
        "layer = nn.Linear(2, 1)\n",
        "\n",
        "# посмотрим на параметры и данные:\n",
        "print(layer.parameters)\n",
        "for p in layer.parameters():\n",
        "    print(p.data)\n",
        "\n",
        "# теперь как будем оптимизировать ошибку:\n",
        "layer_opt = optim.SGD(lr=1e-3, params=list(layer.parameters()))"
      ],
      "execution_count": 17,
      "outputs": [
        {
          "output_type": "stream",
          "text": [
            "<bound method Module.parameters of Linear(in_features=2, out_features=1, bias=True)>\n",
            "tensor([[-0.5194, -0.1945]])\n",
            "tensor([0.0870])\n"
          ],
          "name": "stdout"
        }
      ]
    },
    {
      "cell_type": "code",
      "metadata": {
        "id": "8Bx6Ylrqs3IY",
        "colab_type": "code",
        "outputId": "2e3ce132-0d1b-43ea-d024-4a596f112e48",
        "colab": {
          "base_uri": "https://localhost:8080/",
          "height": 351
        }
      },
      "source": [
        "# начинаем обучение\n",
        "log_freq = 500\n",
        "\n",
        "# обучаем 10000 итераций\n",
        "for i in range(10000):\n",
        "    # проверяем качество раз в 500 итераций\n",
        "    if i % log_freq == 0:\n",
        "        # этот блок будет выполнен без подсчета градиентов вообще\n",
        "        with torch.no_grad():\n",
        "            # тестовой выборки у нас нет, но есть знания о распределениях\n",
        "            # поэтому просто насемплируем новых данных, которых сеть не видела\n",
        "            # и на которых не обучалась - будет эквивалент тестовой выборки\n",
        "            x, y = sample(d2_0, d2_1, 10000)\n",
        "\n",
        "            # тут два действия в одном - пропускаем через сумматор (layer)\n",
        "            # и выходы сумматора пропускаем через функцию активации\n",
        "            out = torch.sigmoid(layer(x))\n",
        "\n",
        "            # в качестве метрики ошибки считаем бинарную кросс-энтропию между ответами сети \n",
        "            # и реальными значениями классов\n",
        "            loss = F.binary_cross_entropy(out, y)\n",
        "        print(f\"Ошибка после {i} итераций: {round(loss.item(),4)}\")\n",
        "\n",
        "    # torch накапливает градиенты, поэтому принудительно перед их новым подсчетом обнуляем накопленные значений    \n",
        "    layer_opt.zero_grad()\n",
        "\n",
        "    # нужно относительно чего-то считать ошибку\n",
        "    # вот по этим ответам и посчитаем:\n",
        "    x, y = sample(d2_0, d2_1, 1024)\n",
        "    out = torch.sigmoid(layer(x))\n",
        "\n",
        "    # относительно полученного лосса и будем делать\n",
        "    loss = F.binary_cross_entropy(out, y)\n",
        "\n",
        "    # бэкпроп - считаем градиенты\n",
        "    loss.backward()\n",
        "\n",
        "    # обновляем веса по подсчитанным градиентам \n",
        "    layer_opt.step()"
      ],
      "execution_count": 18,
      "outputs": [
        {
          "output_type": "stream",
          "text": [
            "Ошибка после 0 итераций: 0.2901\n",
            "Ошибка после 500 итераций: 0.2282\n",
            "Ошибка после 1000 итераций: 0.1931\n",
            "Ошибка после 1500 итераций: 0.1682\n",
            "Ошибка после 2000 итераций: 0.1532\n",
            "Ошибка после 2500 итераций: 0.1415\n",
            "Ошибка после 3000 итераций: 0.1318\n",
            "Ошибка после 3500 итераций: 0.1229\n",
            "Ошибка после 4000 итераций: 0.1167\n",
            "Ошибка после 4500 итераций: 0.1111\n",
            "Ошибка после 5000 итераций: 0.1095\n",
            "Ошибка после 5500 итераций: 0.1026\n",
            "Ошибка после 6000 итераций: 0.0998\n",
            "Ошибка после 6500 итераций: 0.0964\n",
            "Ошибка после 7000 итераций: 0.094\n",
            "Ошибка после 7500 итераций: 0.0891\n",
            "Ошибка после 8000 итераций: 0.089\n",
            "Ошибка после 8500 итераций: 0.0873\n",
            "Ошибка после 9000 итераций: 0.0845\n",
            "Ошибка после 9500 итераций: 0.0846\n"
          ],
          "name": "stdout"
        }
      ]
    },
    {
      "cell_type": "code",
      "metadata": {
        "id": "hsG-yZWts3K2",
        "colab_type": "code",
        "colab": {}
      },
      "source": [
        ""
      ],
      "execution_count": 0,
      "outputs": []
    }
  ]
}