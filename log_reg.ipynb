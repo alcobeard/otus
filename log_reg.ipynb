{
  "nbformat": 4,
  "nbformat_minor": 0,
  "metadata": {
    "kernelspec": {
      "display_name": "Python 3",
      "language": "python",
      "name": "python3"
    },
    "language_info": {
      "codemirror_mode": {
        "name": "ipython",
        "version": 3
      },
      "file_extension": ".py",
      "mimetype": "text/x-python",
      "name": "python",
      "nbconvert_exporter": "python",
      "pygments_lexer": "ipython3",
      "version": "3.6.3"
    },
    "colab": {
      "name": "log_reg.ipynb",
      "provenance": [],
      "toc_visible": true,
      "include_colab_link": true
    },
    "accelerator": "GPU"
  },
  "cells": [
    {
      "cell_type": "markdown",
      "metadata": {
        "id": "view-in-github",
        "colab_type": "text"
      },
      "source": [
        "<a href=\"https://colab.research.google.com/github/alcobeard/otus/blob/master/log_reg.ipynb\" target=\"_parent\"><img src=\"https://colab.research.google.com/assets/colab-badge.svg\" alt=\"Open In Colab\"/></a>"
      ]
    },
    {
      "cell_type": "code",
      "metadata": {
        "id": "kmi2NheXspiQ",
        "colab_type": "code",
        "colab": {}
      },
      "source": [
        "import torch\n",
        "import torch.nn as nn\n",
        "import torch.nn.functional as F\n",
        "import torch.optim as optim\n",
        "\n",
        "import numpy as np\n",
        "import scipy.stats as stats\n",
        "import matplotlib.pyplot as plt\n",
        "\n",
        "%matplotlib inline"
      ],
      "execution_count": 0,
      "outputs": []
    },
    {
      "cell_type": "code",
      "metadata": {
        "id": "T1nQWCW9spiT",
        "colab_type": "code",
        "colab": {}
      },
      "source": [
        "# параметры распределений\n",
        "mu0, sigma0 = -2., 1. # матожидание и среднеквадратическое отклонение\n",
        "mu1, sigma1 = 3., 2."
      ],
      "execution_count": 0,
      "outputs": []
    },
    {
      "cell_type": "code",
      "metadata": {
        "id": "QiL2fLnSspiX",
        "colab_type": "code",
        "colab": {}
      },
      "source": [
        "# задаем непрерывную функцию распределения\n",
        "d0 = torch.distributions.Normal(torch.tensor([mu0]), torch.tensor([sigma0]))\n",
        "d1 = torch.distributions.Normal(torch.tensor([mu1]), torch.tensor([sigma1]))"
      ],
      "execution_count": 0,
      "outputs": []
    },
    {
      "cell_type": "code",
      "metadata": {
        "id": "AmLjV544spiV",
        "colab_type": "code",
        "colab": {}
      },
      "source": [
        "def sample(d0, d1, n=32):\n",
        "    # из распределений набираем экземпляры обучающей выборки (n случайных элементов из каждого распределения)\n",
        "    x0 = d0.sample((n,))\n",
        "    x1 = d1.sample((n,))\n",
        "\n",
        "    # добавляем правильные ответы. считаем что принадлежность к  \n",
        "    y0 = torch.zeros((n, 1)) # d0 это класс 0\n",
        "    y1 = torch.ones((n, 1))  # d1 это класс 1 \n",
        "\n",
        "    # в результате надо вернуть два тензора. \n",
        "    # первый - со значениями функций\n",
        "    # второй - \"класс\" функции которому принадлежит соответствующее значение\n",
        "    return torch.cat([x0, x1], 0), torch.cat([y0, y1], 0)"
      ],
      "execution_count": 0,
      "outputs": []
    },
    {
      "cell_type": "code",
      "metadata": {
        "id": "n8WNB3QFuoI7",
        "colab_type": "code",
        "colab": {
          "base_uri": "https://localhost:8080/",
          "height": 140
        },
        "outputId": "341e5554-009f-400a-8a62-7f5bee05d97d"
      },
      "source": [
        "sample(d0, d1, 2)"
      ],
      "execution_count": 5,
      "outputs": [
        {
          "output_type": "execute_result",
          "data": {
            "text/plain": [
              "(tensor([[-2.9099],\n",
              "         [-5.2447],\n",
              "         [ 3.0369],\n",
              "         [ 2.8070]]), tensor([[0.],\n",
              "         [0.],\n",
              "         [1.],\n",
              "         [1.]]))"
            ]
          },
          "metadata": {
            "tags": []
          },
          "execution_count": 5
        }
      ]
    },
    {
      "cell_type": "code",
      "metadata": {
        "id": "j-IRad27spiZ",
        "colab_type": "code",
        "colab": {
          "base_uri": "https://localhost:8080/",
          "height": 90
        },
        "outputId": "f19e5330-7b34-424d-b321-ae00c1f5b92f"
      },
      "source": [
        "# Сделаем нейросетку из одного слоя и одного нейрона (1 вход и 1 выход)\n",
        "# Applies a linear transformation to the incoming data: y = xA^T + b\n",
        "layer = nn.Linear(1, 1)\n",
        "\n",
        "# посмотрим на параметры и данные:\n",
        "print(layer.parameters)\n",
        "for p in layer.parameters():\n",
        "    print(p.data)\n",
        "\n",
        "# теперь как будем оптимизировать ошибку:\n",
        "layer_opt = optim.SGD(lr=1e-3, params=list(layer.parameters()))"
      ],
      "execution_count": 6,
      "outputs": [
        {
          "output_type": "stream",
          "text": [
            "<bound method Module.parameters of Linear(in_features=1, out_features=1, bias=True)>\n",
            "tensor([[-0.7069]])\n",
            "tensor([-0.0532])\n"
          ],
          "name": "stdout"
        }
      ]
    },
    {
      "cell_type": "code",
      "metadata": {
        "id": "6P3Tvrpzspic",
        "colab_type": "code",
        "colab": {
          "base_uri": "https://localhost:8080/",
          "height": 369
        },
        "outputId": "2b70fbd4-2a99-4b30-aeb4-4860ecc87c94"
      },
      "source": [
        "# начинаем обучение\n",
        "log_freq = 500\n",
        "\n",
        "# обучаем 10000 итераций\n",
        "for i in range(10000):\n",
        "    # проверяем качество раз в 500 итераций\n",
        "    if i % log_freq == 0:\n",
        "        # этот блок будет выполнен без подсчета градиентов вообще\n",
        "        with torch.no_grad():\n",
        "            # тестовой выборки у нас нет, но есть знания о распределениях\n",
        "            # поэтому просто насемплируем новых данных, которых сеть не видела\n",
        "            # и на которых не обучалась - будет эквивалент тестовой выборки\n",
        "            x, y = sample(d0, d1, 100000)\n",
        "\n",
        "            # тут два действия в одном - пропускаем через сумматор (layer)\n",
        "            # и выходы сумматора пропускаем через функцию активации\n",
        "            out = torch.sigmoid(layer(x))\n",
        "\n",
        "            # в качестве метрики ошибки считаем бинарную кросс-энтропию между ответами сети \n",
        "            # и реальными значениями классов\n",
        "            loss = F.binary_cross_entropy(out, y)\n",
        "        print(f\"Ошибка после {i} итераций: {round(loss.item(),4)}\")\n",
        "\n",
        "    # torch накапливает градиенты, поэтому принудительно перед их новым подсчетом обнуляем накопленные значений    \n",
        "    layer_opt.zero_grad()\n",
        "\n",
        "    # нужно относительно чего-то считать ошибку\n",
        "    # вот по этим ответам и посчитаем:\n",
        "    x, y = sample(d0, d1, 1024)\n",
        "    out = torch.sigmoid(layer(x))\n",
        "\n",
        "    # относительно полученного лосса и будем делать\n",
        "    loss = F.binary_cross_entropy(out, y)\n",
        "\n",
        "    # бэкпроп - считаем градиенты\n",
        "    loss.backward()\n",
        "\n",
        "    # обновляем веса по подсчитанным градиентам \n",
        "    layer_opt.step()"
      ],
      "execution_count": 13,
      "outputs": [
        {
          "output_type": "stream",
          "text": [
            "Ошибка после 0 итераций: 0.1431\n",
            "Ошибка после 500 итераций: 0.1445\n",
            "Ошибка после 1000 итераций: 0.1419\n",
            "Ошибка после 1500 итераций: 0.1411\n",
            "Ошибка после 2000 итераций: 0.14\n",
            "Ошибка после 2500 итераций: 0.1393\n",
            "Ошибка после 3000 итераций: 0.1382\n",
            "Ошибка после 3500 итераций: 0.1396\n",
            "Ошибка после 4000 итераций: 0.1384\n",
            "Ошибка после 4500 итераций: 0.1368\n",
            "Ошибка после 5000 итераций: 0.1357\n",
            "Ошибка после 5500 итераций: 0.138\n",
            "Ошибка после 6000 итераций: 0.1359\n",
            "Ошибка после 6500 итераций: 0.1364\n",
            "Ошибка после 7000 итераций: 0.1364\n",
            "Ошибка после 7500 итераций: 0.1345\n",
            "Ошибка после 8000 итераций: 0.1347\n",
            "Ошибка после 8500 итераций: 0.1346\n",
            "Ошибка после 9000 итераций: 0.1342\n",
            "Ошибка после 9500 итераций: 0.1333\n"
          ],
          "name": "stdout"
        }
      ]
    },
    {
      "cell_type": "code",
      "metadata": {
        "id": "BZOIQ1RXspie",
        "colab_type": "code",
        "colab": {}
      },
      "source": [
        "x_scale = np.linspace(-10, 10, 5000)\n",
        "d0_pdf = stats.norm.pdf(x_scale, mu0, sigma0) \n",
        "d1_pdf = stats.norm.pdf(x_scale, mu1, sigma1)\n",
        "x_tensor = torch.tensor(x_scale.reshape(-1, 1), dtype=torch.float)\n",
        "with torch.no_grad():\n",
        "    dist = torch.sigmoid(layer(x_tensor)).numpy()\n",
        "ratio = d1_pdf / (d1_pdf + d0_pdf)"
      ],
      "execution_count": 0,
      "outputs": []
    },
    {
      "cell_type": "code",
      "metadata": {
        "id": "1HfH6LSPspii",
        "colab_type": "code",
        "colab": {
          "base_uri": "https://localhost:8080/",
          "height": 320
        },
        "outputId": "dcd8c566-1855-422b-b569-7d49883dc72d"
      },
      "source": [
        "plt.figure(figsize=(10,5))\n",
        "plt.plot(x_scale, d0_pdf*2, label='d0') # умножение на 2 для красоты графиков, на распределения не влияет\n",
        "plt.plot(x_scale, d1_pdf*2, label='d1')\n",
        "plt.plot(x_scale, dist.flatten(), label='pred')\n",
        "plt.plot(x_scale, ratio, label='ratio')\n",
        "plt.legend();"
      ],
      "execution_count": 8,
      "outputs": [
        {
          "output_type": "display_data",
          "data": {
            "image/png": "[encoded data removed]",
            "text/plain": [
              "<Figure size 720x360 with 1 Axes>"
            ]
          },
          "metadata": {
            "tags": [],
            "needs_background": "light"
          }
        }
      ]
    },
    {
      "cell_type": "code",
      "metadata": {
        "id": "MxcCimSSspik",
        "colab_type": "code",
        "colab": {
          "base_uri": "https://localhost:8080/",
          "height": 34
        },
        "outputId": "b16e2354-142f-4039-9482-2530a5b44501"
      },
      "source": [
        "print([p.data[0] for p in layer.parameters()])"
      ],
      "execution_count": 9,
      "outputs": [
        {
          "output_type": "stream",
          "text": [
            "[tensor([-0.7069]), tensor(-0.0532)]\n"
          ],
          "name": "stdout"
        }
      ]
    },
    {
      "cell_type": "code",
      "metadata": {
        "id": "2eAJLRvgspim",
        "colab_type": "code",
        "colab": {
          "base_uri": "https://localhost:8080/",
          "height": 90
        },
        "outputId": "2506d8f9-b140-43cb-d569-b0698ba925c8"
      },
      "source": [
        "torch.log(F.sigmoid(torch.tensor(-100.)))"
      ],
      "execution_count": 10,
      "outputs": [
        {
          "output_type": "stream",
          "text": [
            "/usr/local/lib/python3.6/dist-packages/torch/nn/functional.py:1569: UserWarning: nn.functional.sigmoid is deprecated. Use torch.sigmoid instead.\n",
            "  warnings.warn(\"nn.functional.sigmoid is deprecated. Use torch.sigmoid instead.\")\n"
          ],
          "name": "stderr"
        },
        {
          "output_type": "execute_result",
          "data": {
            "text/plain": [
              "tensor(-inf)"
            ]
          },
          "metadata": {
            "tags": []
          },
          "execution_count": 10
        }
      ]
    },
    {
      "cell_type": "code",
      "metadata": {
        "id": "KcZNZZ5Nspio",
        "colab_type": "code",
        "colab": {
          "base_uri": "https://localhost:8080/",
          "height": 34
        },
        "outputId": "0e25ee08-eb3e-4075-b87a-0f5d86c4e0f9"
      },
      "source": [
        "F.logsigmoid(torch.tensor(-100.))"
      ],
      "execution_count": 11,
      "outputs": [
        {
          "output_type": "execute_result",
          "data": {
            "text/plain": [
              "tensor(-100.)"
            ]
          },
          "metadata": {
            "tags": []
          },
          "execution_count": 11
        }
      ]
    },
    {
      "cell_type": "markdown",
      "metadata": {
        "id": "yDvKmiDor9R_",
        "colab_type": "text"
      },
      "source": [
        "### Homework"
      ]
    },
    {
      "cell_type": "code",
      "metadata": {
        "id": "J_0jfC2TsDmv",
        "colab_type": "code",
        "colab": {
          "base_uri": "https://localhost:8080/",
          "height": 52
        },
        "outputId": "c6ac979b-cdd9-4de2-f395-cd156044df49"
      },
      "source": [
        "d2_0 = torch.distributions.multivariate_normal.MultivariateNormal(torch.tensor([1., 1.]), torch.tensor([[1., 0], [0., 1]])) # делаем двумерные данные\n",
        "d2_1 = torch.distributions.multivariate_normal.MultivariateNormal(torch.tensor([-1., -1]), torch.tensor([[1., 0], [0., 1]]))\n",
        "d2_0.sample((2,))"
      ],
      "execution_count": 4,
      "outputs": [
        {
          "output_type": "execute_result",
          "data": {
            "text/plain": [
              "tensor([[2.1484, 0.2585],\n",
              "        [0.6253, 1.3025]])"
            ]
          },
          "metadata": {
            "tags": []
          },
          "execution_count": 4
        }
      ]
    },
    {
      "cell_type": "code",
      "metadata": {
        "id": "IYfbh8kvs29O",
        "colab_type": "code",
        "colab": {}
      },
      "source": [
        "def sample(d2_0, d2_1, n=32*32):\n",
        "    # из распределений набираем экземпляры обучающей выборки (n случайных элементов из каждого распределения)\n",
        "    x0 = d2_0.sample((n,))\n",
        "    x1 = d2_1.sample((n,))\n",
        "\n",
        "    # добавляем правильные ответы. считаем что принадлежность к  \n",
        "    y0 = torch.zeros((n, 1)) # d0 это класс 0\n",
        "    y1 = torch.ones((n, 1))  # d1 это класс 1 \n",
        "\n",
        "    # в результате надо вернуть два тензора. \n",
        "    # первый - со значениями функций\n",
        "    # второй - \"класс\" функции которому принадлежит соответствующее значение\n",
        "    return torch.cat([x0, x1], 0), torch.cat([y0, y1], 0)"
      ],
      "execution_count": 0,
      "outputs": []
    },
    {
      "cell_type": "code",
      "metadata": {
        "id": "La55bEy3s3Fh",
        "colab_type": "code",
        "colab": {
          "base_uri": "https://localhost:8080/",
          "height": 90
        },
        "outputId": "c503ace1-2bde-4e16-c364-3440a4110b09"
      },
      "source": [
        "# Сделаем нейросетку из одного слоя и одного нейрона (2 вход и 1 выход)\n",
        "# Applies a linear transformation to the incoming data: y = xA^T + b\n",
        "layer = nn.Linear(2, 1)\n",
        "\n",
        "# посмотрим на параметры и данные:\n",
        "print(layer.parameters)\n",
        "for p in layer.parameters():\n",
        "    print(p.data)\n",
        "\n",
        "# теперь как будем оптимизировать ошибку:\n",
        "layer_opt = optim.SGD(lr=1e-3, params=list(layer.parameters()))"
      ],
      "execution_count": 21,
      "outputs": [
        {
          "output_type": "stream",
          "text": [
            "<bound method Module.parameters of Linear(in_features=2, out_features=1, bias=True)>\n",
            "tensor([[-0.5825,  0.2659]])\n",
            "tensor([-0.3357])\n"
          ],
          "name": "stdout"
        }
      ]
    },
    {
      "cell_type": "code",
      "metadata": {
        "id": "8Bx6Ylrqs3IY",
        "colab_type": "code",
        "colab": {
          "base_uri": "https://localhost:8080/",
          "height": 369
        },
        "outputId": "5ceec6cf-f3f9-46c0-d06d-0660e6f65049"
      },
      "source": [
        "# начинаем обучение\n",
        "log_freq = 500\n",
        "\n",
        "# обучаем 10000 итераций\n",
        "for i in range(10000):\n",
        "    # проверяем качество раз в 500 итераций\n",
        "    if i % log_freq == 0:\n",
        "        # этот блок будет выполнен без подсчета градиентов вообще\n",
        "        with torch.no_grad():\n",
        "            # тестовой выборки у нас нет, но есть знания о распределениях\n",
        "            # поэтому просто насемплируем новых данных, которых сеть не видела\n",
        "            # и на которых не обучалась - будет эквивалент тестовой выборки\n",
        "            x, y = sample(d2_0, d2_1, 10000)\n",
        "\n",
        "            # тут два действия в одном - пропускаем через сумматор (layer)\n",
        "            # и выходы сумматора пропускаем через функцию активации\n",
        "            out = torch.sigmoid(layer(x))\n",
        "\n",
        "            # в качестве метрики ошибки считаем бинарную кросс-энтропию между ответами сети \n",
        "            # и реальными значениями классов\n",
        "            loss = F.binary_cross_entropy(out, y)\n",
        "        print(f\"Ошибка после {i} итераций: {round(loss.item(),4)}\")\n",
        "\n",
        "    # torch накапливает градиенты, поэтому принудительно перед их новым подсчетом обнуляем накопленные значений    \n",
        "    layer_opt.zero_grad()\n",
        "\n",
        "    # нужно относительно чего-то считать ошибку\n",
        "    # вот по этим ответам и посчитаем:\n",
        "    x, y = sample(d2_0, d2_1, 1024)\n",
        "    out = torch.sigmoid(layer(x))\n",
        "\n",
        "    # относительно полученного лосса и будем делать\n",
        "    loss = F.binary_cross_entropy(out, y)\n",
        "\n",
        "    # бэкпроп - считаем градиенты\n",
        "    loss.backward()\n",
        "\n",
        "    # обновляем веса по подсчитанным градиентам \n",
        "    layer_opt.step()"
      ],
      "execution_count": 24,
      "outputs": [
        {
          "output_type": "stream",
          "text": [
            "Ошибка после 0 итераций: 0.2011\n",
            "Ошибка после 500 итераций: 0.1995\n",
            "Ошибка после 1000 итераций: 0.1999\n",
            "Ошибка после 1500 итераций: 0.1996\n",
            "Ошибка после 2000 итераций: 0.2018\n",
            "Ошибка после 2500 итераций: 0.1954\n",
            "Ошибка после 3000 итераций: 0.1955\n",
            "Ошибка после 3500 итераций: 0.1994\n",
            "Ошибка после 4000 итераций: 0.1998\n",
            "Ошибка после 4500 итераций: 0.1988\n",
            "Ошибка после 5000 итераций: 0.1981\n",
            "Ошибка после 5500 итераций: 0.2033\n",
            "Ошибка после 6000 итераций: 0.1951\n",
            "Ошибка после 6500 итераций: 0.1974\n",
            "Ошибка после 7000 итераций: 0.19\n",
            "Ошибка после 7500 итераций: 0.1942\n",
            "Ошибка после 8000 итераций: 0.1944\n",
            "Ошибка после 8500 итераций: 0.1971\n",
            "Ошибка после 9000 итераций: 0.1912\n",
            "Ошибка после 9500 итераций: 0.2021\n"
          ],
          "name": "stdout"
        }
      ]
    },
    {
      "cell_type": "code",
      "metadata": {
        "id": "hsG-yZWts3K2",
        "colab_type": "code",
        "colab": {}
      },
      "source": [
        ""
      ],
      "execution_count": 0,
      "outputs": []
    }
  ]
}