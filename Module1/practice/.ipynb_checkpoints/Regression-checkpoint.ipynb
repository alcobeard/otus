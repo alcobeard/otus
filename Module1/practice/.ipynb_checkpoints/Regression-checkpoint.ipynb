{
 "cells": [
  {
   "cell_type": "code",
   "execution_count": 1,
   "metadata": {},
   "outputs": [],
   "source": [
    "import pandas as pd\n",
    "import numpy as np\n",
    "import matplotlib.pyplot as plt\n",
    "%matplotlib inline\n",
    "\n",
    "import seaborn as sns"
   ]
  },
  {
   "cell_type": "code",
   "execution_count": 3,
   "metadata": {},
   "outputs": [
    {
     "name": "stdout",
     "output_type": "stream",
     "text": [
      "Collecting pandas_profiling\n",
      "\u001b[?25l  Downloading https://files.pythonhosted.org/packages/2c/2f/aae19e2173c10a9bb7fee5f5cad35dbe53a393960fc91abc477dcc4661e8/pandas-profiling-2.3.0.tar.gz (127kB)\n",
      "\u001b[K    100% |████████████████████████████████| 133kB 1.6MB/s ta 0:00:01\n",
      "\u001b[?25hRequirement already satisfied: pandas>=0.19 in /Users/alexandrbagdasarov/anaconda3/lib/python3.7/site-packages (from pandas_profiling) (0.23.4)\n",
      "Requirement already satisfied: matplotlib>=1.4 in /Users/alexandrbagdasarov/anaconda3/lib/python3.7/site-packages (from pandas_profiling) (3.0.2)\n",
      "Requirement already satisfied: jinja2>=2.8 in /Users/alexandrbagdasarov/anaconda3/lib/python3.7/site-packages (from pandas_profiling) (2.10)\n",
      "Collecting missingno>=0.4.2 (from pandas_profiling)\n",
      "  Downloading https://files.pythonhosted.org/packages/2b/de/6e4dd6d720c49939544352155dc06a08c9f7e4271aa631a559dfbeaaf9d4/missingno-0.4.2-py3-none-any.whl\n",
      "Collecting htmlmin>=0.1.12 (from pandas_profiling)\n",
      "  Downloading https://files.pythonhosted.org/packages/b3/e7/fcd59e12169de19f0131ff2812077f964c6b960e7c09804d30a7bf2ab461/htmlmin-0.1.12.tar.gz\n",
      "Collecting phik>=0.9.8 (from pandas_profiling)\n",
      "\u001b[?25l  Downloading https://files.pythonhosted.org/packages/45/ad/24a16fa4ba612fb96a3c4bb115a5b9741483f53b66d3d3afd987f20fa227/phik-0.9.8-py3-none-any.whl (606kB)\n",
      "\u001b[K    100% |████████████████████████████████| 614kB 3.6MB/s ta 0:00:011\n",
      "\u001b[?25hCollecting confuse>=1.0.0 (from pandas_profiling)\n",
      "  Downloading https://files.pythonhosted.org/packages/4c/6f/90e860cba937c174d8b3775729ccc6377eb91f52ad4eeb008e7252a3646d/confuse-1.0.0.tar.gz\n",
      "Requirement already satisfied: astropy in /Users/alexandrbagdasarov/anaconda3/lib/python3.7/site-packages (from pandas_profiling) (3.1)\n",
      "Requirement already satisfied: python-dateutil>=2.5.0 in /Users/alexandrbagdasarov/anaconda3/lib/python3.7/site-packages (from pandas>=0.19->pandas_profiling) (2.7.5)\n",
      "Requirement already satisfied: pytz>=2011k in /Users/alexandrbagdasarov/anaconda3/lib/python3.7/site-packages (from pandas>=0.19->pandas_profiling) (2018.7)\n",
      "Requirement already satisfied: numpy>=1.9.0 in /Users/alexandrbagdasarov/anaconda3/lib/python3.7/site-packages (from pandas>=0.19->pandas_profiling) (1.15.4)\n",
      "Requirement already satisfied: cycler>=0.10 in /Users/alexandrbagdasarov/anaconda3/lib/python3.7/site-packages (from matplotlib>=1.4->pandas_profiling) (0.10.0)\n",
      "Requirement already satisfied: kiwisolver>=1.0.1 in /Users/alexandrbagdasarov/anaconda3/lib/python3.7/site-packages (from matplotlib>=1.4->pandas_profiling) (1.0.1)\n",
      "Requirement already satisfied: pyparsing!=2.0.4,!=2.1.2,!=2.1.6,>=2.0.1 in /Users/alexandrbagdasarov/anaconda3/lib/python3.7/site-packages (from matplotlib>=1.4->pandas_profiling) (2.3.0)\n",
      "Requirement already satisfied: MarkupSafe>=0.23 in /Users/alexandrbagdasarov/anaconda3/lib/python3.7/site-packages (from jinja2>=2.8->pandas_profiling) (1.1.0)\n",
      "Requirement already satisfied: scipy in /Users/alexandrbagdasarov/anaconda3/lib/python3.7/site-packages (from missingno>=0.4.2->pandas_profiling) (1.1.0)\n",
      "Requirement already satisfied: seaborn in /Users/alexandrbagdasarov/anaconda3/lib/python3.7/site-packages (from missingno>=0.4.2->pandas_profiling) (0.9.0)\n",
      "Collecting pytest-pylint>=0.13.0 (from phik>=0.9.8->pandas_profiling)\n",
      "  Downloading https://files.pythonhosted.org/packages/64/dc/6f35f114844fb12e38d60c4f3d2441a55baff7043ad4e013777dff55746c/pytest_pylint-0.14.1-py3-none-any.whl\n",
      "Requirement already satisfied: jupyter-client>=5.2.3 in /Users/alexandrbagdasarov/anaconda3/lib/python3.7/site-packages (from phik>=0.9.8->pandas_profiling) (5.2.4)\n",
      "Requirement already satisfied: nbconvert>=5.3.1 in /Users/alexandrbagdasarov/anaconda3/lib/python3.7/site-packages (from phik>=0.9.8->pandas_profiling) (5.4.0)\n",
      "Requirement already satisfied: numba>=0.38.1 in /Users/alexandrbagdasarov/anaconda3/lib/python3.7/site-packages (from phik>=0.9.8->pandas_profiling) (0.41.0)\n",
      "Requirement already satisfied: pytest>=4.0.2 in /Users/alexandrbagdasarov/anaconda3/lib/python3.7/site-packages (from phik>=0.9.8->pandas_profiling) (4.0.2)\n",
      "Requirement already satisfied: pyyaml in /Users/alexandrbagdasarov/anaconda3/lib/python3.7/site-packages (from confuse>=1.0.0->pandas_profiling) (3.13)\n",
      "Requirement already satisfied: six>=1.5 in /Users/alexandrbagdasarov/anaconda3/lib/python3.7/site-packages (from python-dateutil>=2.5.0->pandas>=0.19->pandas_profiling) (1.12.0)\n",
      "Requirement already satisfied: setuptools in /Users/alexandrbagdasarov/anaconda3/lib/python3.7/site-packages (from kiwisolver>=1.0.1->matplotlib>=1.4->pandas_profiling) (40.6.3)\n",
      "Requirement already satisfied: pylint>=1.4.5 in /Users/alexandrbagdasarov/anaconda3/lib/python3.7/site-packages (from pytest-pylint>=0.13.0->phik>=0.9.8->pandas_profiling) (2.2.2)\n",
      "Requirement already satisfied: tornado>=4.1 in /Users/alexandrbagdasarov/anaconda3/lib/python3.7/site-packages (from jupyter-client>=5.2.3->phik>=0.9.8->pandas_profiling) (5.1.1)\n",
      "Requirement already satisfied: pyzmq>=13 in /Users/alexandrbagdasarov/anaconda3/lib/python3.7/site-packages (from jupyter-client>=5.2.3->phik>=0.9.8->pandas_profiling) (17.1.2)\n",
      "Requirement already satisfied: traitlets in /Users/alexandrbagdasarov/anaconda3/lib/python3.7/site-packages (from jupyter-client>=5.2.3->phik>=0.9.8->pandas_profiling) (4.3.2)\n",
      "Requirement already satisfied: jupyter-core in /Users/alexandrbagdasarov/anaconda3/lib/python3.7/site-packages (from jupyter-client>=5.2.3->phik>=0.9.8->pandas_profiling) (4.4.0)\n",
      "Requirement already satisfied: mistune>=0.8.1 in /Users/alexandrbagdasarov/anaconda3/lib/python3.7/site-packages (from nbconvert>=5.3.1->phik>=0.9.8->pandas_profiling) (0.8.4)\n",
      "Requirement already satisfied: pygments in /Users/alexandrbagdasarov/anaconda3/lib/python3.7/site-packages (from nbconvert>=5.3.1->phik>=0.9.8->pandas_profiling) (2.3.1)\n",
      "Requirement already satisfied: nbformat>=4.4 in /Users/alexandrbagdasarov/anaconda3/lib/python3.7/site-packages (from nbconvert>=5.3.1->phik>=0.9.8->pandas_profiling) (4.4.0)\n",
      "Requirement already satisfied: entrypoints>=0.2.2 in /Users/alexandrbagdasarov/anaconda3/lib/python3.7/site-packages (from nbconvert>=5.3.1->phik>=0.9.8->pandas_profiling) (0.2.3)\n",
      "Requirement already satisfied: bleach in /Users/alexandrbagdasarov/anaconda3/lib/python3.7/site-packages (from nbconvert>=5.3.1->phik>=0.9.8->pandas_profiling) (3.0.2)\n",
      "Requirement already satisfied: pandocfilters>=1.4.1 in /Users/alexandrbagdasarov/anaconda3/lib/python3.7/site-packages (from nbconvert>=5.3.1->phik>=0.9.8->pandas_profiling) (1.4.2)\n",
      "Requirement already satisfied: testpath in /Users/alexandrbagdasarov/anaconda3/lib/python3.7/site-packages (from nbconvert>=5.3.1->phik>=0.9.8->pandas_profiling) (0.4.2)\n",
      "Requirement already satisfied: defusedxml in /Users/alexandrbagdasarov/anaconda3/lib/python3.7/site-packages (from nbconvert>=5.3.1->phik>=0.9.8->pandas_profiling) (0.5.0)\n",
      "Requirement already satisfied: llvmlite>=0.26.0dev0 in /Users/alexandrbagdasarov/anaconda3/lib/python3.7/site-packages (from numba>=0.38.1->phik>=0.9.8->pandas_profiling) (0.26.0)\n",
      "Requirement already satisfied: py>=1.5.0 in /Users/alexandrbagdasarov/anaconda3/lib/python3.7/site-packages (from pytest>=4.0.2->phik>=0.9.8->pandas_profiling) (1.7.0)\n",
      "Requirement already satisfied: attrs>=17.4.0 in /Users/alexandrbagdasarov/anaconda3/lib/python3.7/site-packages (from pytest>=4.0.2->phik>=0.9.8->pandas_profiling) (18.2.0)\n",
      "Requirement already satisfied: more-itertools>=4.0.0 in /Users/alexandrbagdasarov/anaconda3/lib/python3.7/site-packages (from pytest>=4.0.2->phik>=0.9.8->pandas_profiling) (4.3.0)\n",
      "Requirement already satisfied: atomicwrites>=1.0 in /Users/alexandrbagdasarov/anaconda3/lib/python3.7/site-packages (from pytest>=4.0.2->phik>=0.9.8->pandas_profiling) (1.2.1)\n",
      "Requirement already satisfied: pluggy>=0.7 in /Users/alexandrbagdasarov/anaconda3/lib/python3.7/site-packages (from pytest>=4.0.2->phik>=0.9.8->pandas_profiling) (0.8.0)\n",
      "Requirement already satisfied: astroid>=2.0.0 in /Users/alexandrbagdasarov/anaconda3/lib/python3.7/site-packages (from pylint>=1.4.5->pytest-pylint>=0.13.0->phik>=0.9.8->pandas_profiling) (2.1.0)\n",
      "Requirement already satisfied: isort>=4.2.5 in /Users/alexandrbagdasarov/anaconda3/lib/python3.7/site-packages (from pylint>=1.4.5->pytest-pylint>=0.13.0->phik>=0.9.8->pandas_profiling) (4.3.4)\n",
      "Requirement already satisfied: mccabe in /Users/alexandrbagdasarov/anaconda3/lib/python3.7/site-packages (from pylint>=1.4.5->pytest-pylint>=0.13.0->phik>=0.9.8->pandas_profiling) (0.6.1)\n"
     ]
    },
    {
     "name": "stdout",
     "output_type": "stream",
     "text": [
      "Requirement already satisfied: decorator in /Users/alexandrbagdasarov/anaconda3/lib/python3.7/site-packages (from traitlets->jupyter-client>=5.2.3->phik>=0.9.8->pandas_profiling) (4.3.0)\n",
      "Requirement already satisfied: ipython-genutils in /Users/alexandrbagdasarov/anaconda3/lib/python3.7/site-packages (from traitlets->jupyter-client>=5.2.3->phik>=0.9.8->pandas_profiling) (0.2.0)\n",
      "Requirement already satisfied: jsonschema!=2.5.0,>=2.4 in /Users/alexandrbagdasarov/anaconda3/lib/python3.7/site-packages (from nbformat>=4.4->nbconvert>=5.3.1->phik>=0.9.8->pandas_profiling) (2.6.0)\n",
      "Requirement already satisfied: webencodings in /Users/alexandrbagdasarov/anaconda3/lib/python3.7/site-packages (from bleach->nbconvert>=5.3.1->phik>=0.9.8->pandas_profiling) (0.5.1)\n",
      "Requirement already satisfied: wrapt in /Users/alexandrbagdasarov/anaconda3/lib/python3.7/site-packages (from astroid>=2.0.0->pylint>=1.4.5->pytest-pylint>=0.13.0->phik>=0.9.8->pandas_profiling) (1.10.11)\n",
      "Requirement already satisfied: lazy-object-proxy in /Users/alexandrbagdasarov/anaconda3/lib/python3.7/site-packages (from astroid>=2.0.0->pylint>=1.4.5->pytest-pylint>=0.13.0->phik>=0.9.8->pandas_profiling) (1.3.1)\n",
      "Building wheels for collected packages: pandas-profiling, htmlmin, confuse\n",
      "  Running setup.py bdist_wheel for pandas-profiling ... \u001b[?25ldone\n",
      "\u001b[?25h  Stored in directory: /Users/alexandrbagdasarov/Library/Caches/pip/wheels/ce/c7/f1/dbfef4848ebb048cb1d4a22d1ed0c62d8ff2523747235e19fe\n",
      "  Running setup.py bdist_wheel for htmlmin ... \u001b[?25ldone\n",
      "\u001b[?25h  Stored in directory: /Users/alexandrbagdasarov/Library/Caches/pip/wheels/43/07/ac/7c5a9d708d65247ac1f94066cf1db075540b85716c30255459\n",
      "  Running setup.py bdist_wheel for confuse ... \u001b[?25ldone\n",
      "\u001b[?25h  Stored in directory: /Users/alexandrbagdasarov/Library/Caches/pip/wheels/b0/b2/96/2074eee7dbf7b7df69d004c9b6ac4e32dad04fb7666cf943bd\n",
      "Successfully built pandas-profiling htmlmin confuse\n",
      "Installing collected packages: missingno, htmlmin, pytest-pylint, phik, confuse, pandas-profiling\n",
      "Successfully installed confuse-1.0.0 htmlmin-0.1.12 missingno-0.4.2 pandas-profiling-2.3.0 phik-0.9.8 pytest-pylint-0.14.1\n"
     ]
    }
   ],
   "source": [
    "!pip install pandas_profiling"
   ]
  },
  {
   "cell_type": "code",
   "execution_count": 4,
   "metadata": {},
   "outputs": [],
   "source": [
    "import pandas_profiling"
   ]
  },
  {
   "cell_type": "code",
   "execution_count": 6,
   "metadata": {},
   "outputs": [],
   "source": [
    "df = pd.read_csv('data/Absenteeism_at_work.csv')"
   ]
  },
  {
   "cell_type": "code",
   "execution_count": null,
   "metadata": {},
   "outputs": [],
   "source": [
    "pandas_profiling."
   ]
  },
  {
   "cell_type": "code",
   "execution_count": null,
   "metadata": {},
   "outputs": [],
   "source": []
  }
 ],
 "metadata": {
  "kernelspec": {
   "display_name": "Python 3",
   "language": "python",
   "name": "python3"
  },
  "language_info": {
   "codemirror_mode": {
    "name": "ipython",
    "version": 3
   },
   "file_extension": ".py",
   "mimetype": "text/x-python",
   "name": "python",
   "nbconvert_exporter": "python",
   "pygments_lexer": "ipython3",
   "version": "3.7.1"
  }
 },
 "nbformat": 4,
 "nbformat_minor": 2
}
