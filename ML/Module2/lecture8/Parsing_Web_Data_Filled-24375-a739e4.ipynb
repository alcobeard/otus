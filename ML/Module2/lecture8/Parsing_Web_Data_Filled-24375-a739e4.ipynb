{
 "cells": [
  {
   "cell_type": "markdown",
   "metadata": {},
   "source": [
    "# How to scrap a website (no pain - no gain)"
   ]
  },
  {
   "cell_type": "markdown",
   "metadata": {},
   "source": [
    "Основные библиотеки (названия кликабельны - рекомендую почитать)"
   ]
  },
  {
   "cell_type": "markdown",
   "metadata": {},
   "source": [
    "- **[`requests`](http://docs.python-requests.org/en/master/#)** \n",
    "\n",
    "Прекрасная библиотека для создания собственных запросов к серверам, которую мы будем использовать для получения сырого, необработанного, страшного и путанного HTML кода страницы \n",
    "\n",
    "\n",
    "- **[`bs4`](https://www.crummy.com/software/BeautifulSoup/)**, a.k.a **BeautifulSoup**\n",
    "\n",
    "Красивый суп. Эта совершенно волшебная библиотека, которая из сырого и необработанного HTML (или XML) кода страницы выдаст вам структурированный массив данных, по которому очень удобно искать необходимые теги, классы, атрибуты, тексты и прочие элементы веб страниц"
   ]
  },
  {
   "cell_type": "code",
   "execution_count": 2,
   "metadata": {},
   "outputs": [],
   "source": [
    "import requests\n",
    "import re\n",
    "from bs4 import BeautifulSoup\n",
    "import pandas as pd\n",
    "import time\n",
    "import sys\n",
    "\n",
    "from tqdm import tqdm_notebook"
   ]
  },
  {
   "cell_type": "markdown",
   "metadata": {},
   "source": [
    "### Так выглядит наша главная ссылка, по которой мы будем в дальнейшем гулять, добавляя новые значения для страницы"
   ]
  },
  {
   "cell_type": "code",
   "execution_count": 3,
   "metadata": {},
   "outputs": [],
   "source": [
    "main_url = 'https://republic.ru/?page='"
   ]
  },
  {
   "cell_type": "code",
   "execution_count": 4,
   "metadata": {},
   "outputs": [],
   "source": [
    "page = 1"
   ]
  },
  {
   "cell_type": "markdown",
   "metadata": {},
   "source": [
    "Если склеить два кусочка - мы получим наш url!"
   ]
  },
  {
   "cell_type": "code",
   "execution_count": 5,
   "metadata": {},
   "outputs": [
    {
     "data": {
      "text/plain": [
       "'https://republic.ru/?page=1'"
      ]
     },
     "execution_count": 5,
     "metadata": {},
     "output_type": "execute_result"
    }
   ],
   "source": [
    "main_url+str(page)"
   ]
  },
  {
   "cell_type": "markdown",
   "metadata": {},
   "source": [
    "Благословенный 200 ответ - соединение установлено и данные получены, всё чудесно!"
   ]
  },
  {
   "cell_type": "code",
   "execution_count": 6,
   "metadata": {},
   "outputs": [
    {
     "data": {
      "text/plain": [
       "<Response [200]>"
      ]
     },
     "execution_count": 6,
     "metadata": {},
     "output_type": "execute_result"
    }
   ],
   "source": [
    "requests.get(main_url+str(page))"
   ]
  },
  {
   "cell_type": "markdown",
   "metadata": {},
   "source": [
    "Создадим переменную, которая будет держать HTML код нашей полученной страницы"
   ]
  },
  {
   "cell_type": "code",
   "execution_count": 7,
   "metadata": {},
   "outputs": [],
   "source": [
    "news_page = requests.get(main_url+str(page))\n",
    "news_page = news_page.content"
   ]
  },
  {
   "cell_type": "code",
   "execution_count": 88,
   "metadata": {},
   "outputs": [],
   "source": [
    "# news_page"
   ]
  },
  {
   "cell_type": "code",
   "execution_count": 9,
   "metadata": {},
   "outputs": [],
   "source": [
    "news_page = BeautifulSoup(news_page, 'lxml')"
   ]
  },
  {
   "cell_type": "markdown",
   "metadata": {},
   "source": [
    "### Стало намного лучше, не правда ли?"
   ]
  },
  {
   "cell_type": "code",
   "execution_count": 89,
   "metadata": {},
   "outputs": [],
   "source": [
    "# news_page"
   ]
  },
  {
   "cell_type": "markdown",
   "metadata": {},
   "source": [
    "### Зато теперь зная \"адрес\" элемента на странице мы сможем находить его в этой куче добра"
   ]
  },
  {
   "cell_type": "code",
   "execution_count": 11,
   "metadata": {},
   "outputs": [],
   "source": [
    "news_page = news_page.find('div', attrs={'class':'materials-list'})"
   ]
  },
  {
   "cell_type": "code",
   "execution_count": 12,
   "metadata": {},
   "outputs": [
    {
     "name": "stdout",
     "output_type": "stream",
     "text": [
      "Самый русский немец. Чем Россия обязана прапрадеду новой главы Еврокомиссии\n"
     ]
    }
   ],
   "source": [
    "print(news_page.find('h2', attrs = {'class':\"card__title article-feature-title\"}).text.strip())"
   ]
  },
  {
   "cell_type": "code",
   "execution_count": 13,
   "metadata": {},
   "outputs": [
    {
     "name": "stdout",
     "output_type": "stream",
     "text": [
      "Самый русский немец. Чем Россия обязана прапрадеду новой главы Еврокомиссии\n",
      "Дизайнер из деревни. Как Симон Жакмюс за 10 лет создал бренд, популярный во всем мире\n",
      "Сибирь и Дальний Восток в огне. Что нужно знать о лесных пожарах, охвативших Россию\n",
      "«С приходом немцев перед каждым жителем Смоленска вставал вопрос: что делать?»\n",
      "Бойтесь своих желаний. Что делать Москве, если Киев начнет выполнять Минские соглашения?\n",
      "Китайский связной.  Почему Ли Кай Фу прочат в вожди революции в искусственном интеллекте\n",
      "Ася Казанцева: «Мы можем влиять на наш мозг, повышая вероятность выбора тех или иных решений»\n",
      "«Я чувствую контакт». Как скептики разоблачают известных ясновидящих\n",
      "Министр в мраморной ванне. Как Минпромторг отреагировал на расследование Transparency International\n",
      "250 слуг народа. Партия Зеленского одерживает безоговорочную победу на парламентских выборах\n",
      "Хаос и паника. Что происходит с Facebook после недавних крупных скандалов?\n",
      "«Сегодня либерализм выступает в роли козла отпущения»\n",
      "«Я непременно преуспею». Полезно ли увлечение саморазвитием?\n",
      "Сдержки без противовесов. Как Верховный суд США стал инструментом узурпации власти\n",
      "Экологический авторитаризм. Что произойдет, если сортировка мусора станет обязательной?\n",
      "Конец согласия. Откуда в обществе берется поляризация?\n",
      "«Я устал терпеть то, что происходит». Вчера с журналиста Ивана Голунова были сняты обвинения, однако сегодня москвичи вышли на улицу, чтобы проявить свою гражданскую позицию\n",
      "Слишком активный гражданин. Как независимых кандидатов не пускают на выборы в городской парламент\n",
      "Феминистка и итальянская еврейка. Автором пьес Шекспира была женщина?\n"
     ]
    }
   ],
   "source": [
    "for newshead in news_page.findAll('h2', attrs = {'class':\"card__title article-feature-title\"}):\n",
    "    print(newshead.text.strip())"
   ]
  },
  {
   "cell_type": "markdown",
   "metadata": {},
   "source": [
    "## Итак, мы достали заголовки! Но на этом мы точно не остановимся - идём вглубь страницы"
   ]
  },
  {
   "cell_type": "code",
   "execution_count": 14,
   "metadata": {},
   "outputs": [],
   "source": [
    "news_link = news_page.find('a', attrs= {'class':'card__link'})"
   ]
  },
  {
   "cell_type": "code",
   "execution_count": 15,
   "metadata": {},
   "outputs": [
    {
     "data": {
      "text/plain": [
       "<a class=\"card__link\" href=\"/posts/94318\"></a>"
      ]
     },
     "execution_count": 15,
     "metadata": {},
     "output_type": "execute_result"
    }
   ],
   "source": [
    "news_link"
   ]
  },
  {
   "cell_type": "code",
   "execution_count": 16,
   "metadata": {},
   "outputs": [
    {
     "data": {
      "text/plain": [
       "'/posts/94318'"
      ]
     },
     "execution_count": 16,
     "metadata": {},
     "output_type": "execute_result"
    }
   ],
   "source": [
    "news_link.get('href')"
   ]
  },
  {
   "cell_type": "code",
   "execution_count": 17,
   "metadata": {},
   "outputs": [],
   "source": [
    "news_link = news_link.get('href')"
   ]
  },
  {
   "cell_type": "markdown",
   "metadata": {},
   "source": [
    "### А вот и недостающая часть для нашей ссылки на страницу\n",
    "Теперь мы сможем перейти и на нее"
   ]
  },
  {
   "cell_type": "code",
   "execution_count": 18,
   "metadata": {},
   "outputs": [
    {
     "data": {
      "text/plain": [
       "'https://republic.ru/posts/94318'"
      ]
     },
     "execution_count": 18,
     "metadata": {},
     "output_type": "execute_result"
    }
   ],
   "source": [
    "'https://republic.ru' + news_link"
   ]
  },
  {
   "cell_type": "code",
   "execution_count": 90,
   "metadata": {},
   "outputs": [],
   "source": [
    "# requests.get('https://republic.ru' + news_link).content"
   ]
  },
  {
   "cell_type": "code",
   "execution_count": 20,
   "metadata": {},
   "outputs": [],
   "source": [
    "sub_page = requests.get('https://republic.ru' + news_link).content\n",
    "sub_page = BeautifulSoup(sub_page, 'lxml')"
   ]
  },
  {
   "cell_type": "code",
   "execution_count": 21,
   "metadata": {},
   "outputs": [],
   "source": [
    "def get_subpage(news_link):\n",
    "    sub_page = requests.get('https://republic.ru' + news_link).content\n",
    "    sub_page = BeautifulSoup(sub_page, 'lxml')\n",
    "    return sub_page"
   ]
  },
  {
   "cell_type": "code",
   "execution_count": 22,
   "metadata": {},
   "outputs": [],
   "source": [
    "sub_page = get_subpage(news_link)"
   ]
  },
  {
   "cell_type": "markdown",
   "metadata": {},
   "source": [
    "# Дата публикации"
   ]
  },
  {
   "cell_type": "code",
   "execution_count": 23,
   "metadata": {},
   "outputs": [
    {
     "name": "stdout",
     "output_type": "stream",
     "text": [
      "<div class=\"post-meta post-header__meta\">\n",
      "<a class=\"post-meta__magazine magazine\" href=\"/mags/money\">Деньги</a>\n",
      "<a class=\"post-meta__item post-meta__tag\" href=\"/tags/64\">\n",
      "            Бизнес\n",
      "        </a>\n",
      "<span class=\"post-meta__item post-meta__published-at\">\n",
      "<span>29 июля</span>\n",
      "</span>\n",
      "</div>\n"
     ]
    }
   ],
   "source": [
    "publication_date = sub_page.find('div', attrs={'class': 'post-meta post-header__meta'})\n",
    "print(publication_date)"
   ]
  },
  {
   "cell_type": "code",
   "execution_count": 24,
   "metadata": {},
   "outputs": [
    {
     "name": "stdout",
     "output_type": "stream",
     "text": [
      "<span class=\"post-meta__item post-meta__published-at\">\n",
      "<span>29 июля</span>\n",
      "</span>\n"
     ]
    }
   ],
   "source": [
    "publication_date = publication_date.find('span', attrs={'class': 'post-meta__item post-meta__published-at'})\n",
    "print(publication_date)"
   ]
  },
  {
   "cell_type": "code",
   "execution_count": 25,
   "metadata": {},
   "outputs": [
    {
     "name": "stdout",
     "output_type": "stream",
     "text": [
      "29 июля\n"
     ]
    }
   ],
   "source": [
    "publication_date = publication_date.text.strip()\n",
    "print(publication_date)"
   ]
  },
  {
   "cell_type": "code",
   "execution_count": 26,
   "metadata": {},
   "outputs": [],
   "source": [
    "def get_publication_date(sub_page):\n",
    "    publication_date = sub_page.find('div', attrs={'class': 'post-meta post-header__meta'})\n",
    "    publication_date = publication_date.find('span', attrs={'class': 'post-meta__item post-meta__published-at'})\n",
    "    publication_date = publication_date.text.strip()\n",
    "    return publication_date"
   ]
  },
  {
   "cell_type": "code",
   "execution_count": 27,
   "metadata": {},
   "outputs": [
    {
     "data": {
      "text/plain": [
       "'29 июля'"
      ]
     },
     "execution_count": 27,
     "metadata": {},
     "output_type": "execute_result"
    }
   ],
   "source": [
    "get_publication_date(sub_page)"
   ]
  },
  {
   "cell_type": "markdown",
   "metadata": {},
   "source": [
    "# Урезанный текст публикации"
   ]
  },
  {
   "cell_type": "code",
   "execution_count": 33,
   "metadata": {},
   "outputs": [
    {
     "data": {
      "text/plain": [
       "[<p class=\"post-heroimage__caption\">Кренгольмская мануфактура, здание Йоальской фабрики</p>,\n",
       " <p class=\"post-heroimage__credit\">Фото: Narva69</p>,\n",
       " <p class=\"MsoPlainText\">За приключениями и деньгами европейцы в целом и немцы в частности отправлялись не только на запад, через Атлантику, но и на восток. Россия всегда манила энергичных и предприимчивых иностранцев возможностями, просторами и природными богатствами. «Варяги» оставили заметный след в истории страны. В том числе и в экономике.</p>,\n",
       " <p class=\"MsoPlainText\">Наиболее представительным был «десант» из Германии. Один из русских немцев, уроженец Бремена Людвиг Иоганн Кноп (1821–1894) считался одним из самых богатых людей России во второй половине XIX века. Немецкий экономист Геро фон Шульце-Геверниц <a href=\"https://books.google.ru/books?id=Zo-xAwAAQBAJ&amp;pg=PA18&amp;lpg=PA18&amp;dq=johann+ludwig+knoop&amp;source=bl&amp;ots=1K85V21TUI&amp;sig=ACfU3U1-oOvtcqR7Rouq6L7HTJhUpqWKqw&amp;hl=en&amp;sa=X&amp;ved=2ahUKEwikxJje1cXjAhUj_SoKHXt5B3I4ChDoATADegQICRAB#v=onepage&amp;q=johann%20ludwig%20knoop&amp;f=false\" target=\"_blank\">считал</a> Кнопа величайшим российским промышленником и одним из крупнейших европейских бизнесменов второй половины XIX века и сравнивал его с Джоном Рокфеллером и Ричардом Аркрайтом, отцом британской текстильной промышленности. Свою империю Людвиг Кноп построил на малоизвестных в середине XIX века в России китах: посредничестве, инвестициях и техническом перевооружении фабрик.</p>,\n",
       " <p class=\"MsoPlainText\">О Людвиге Кнопе в России слагали легенды и поговорки. Самая известная – «Где церковь, там и поп, где казарма, там и клоп, а где фабрика – там Кноп». Его называли и «ключником» за то, что он выполнял заказы «под ключ»; и «самым русским немцем» за то, что не только очень быстро научился чисто, без акцента, говорить по-русски, но и целенаправленно, изучал традиции и обычаи второй родины, чтобы быстрее ассимилироваться в нее. Еще одно прозвище – «король российского ситца» – Кноп получил за то, что в одиночку модернизировал текстильную промышленность России и много лет был ее фактическим лидером.</p>,\n",
       " <p class=\"MsoPlainText\">После смерти Людвига Кнопа в Кренгольме ему был <a href=\"https://books.google.ru/books?id=80f3vjp-uhYC&amp;pg=PA63&amp;lpg=PA63&amp;dq=johann+ludwig+knoop&amp;source=bl&amp;ots=dOwSgbtbnQ&amp;sig=ACfU3U2r5dDfoUINS55Z5EeivfJy6jAdrQ&amp;hl=en&amp;sa=X&amp;ved=2ahUKEwi93JXC1sXjAhXm-yoKHW9SAXk4FBDoATAIegQICRAB#v=onepage&amp;q=johann%20ludwig%20knoop&amp;f=false\" target=\"_blank\">воздвигнут</a> памятник, единственный в дореволюционной России памятник промышленнику.</p>]"
      ]
     },
     "execution_count": 33,
     "metadata": {},
     "output_type": "execute_result"
    }
   ],
   "source": [
    "publication_text = sub_page.find(\"div\", attrs={'class', 'post-body'}).findAll('p')\n",
    "publication_text"
   ]
  },
  {
   "cell_type": "code",
   "execution_count": 34,
   "metadata": {},
   "outputs": [
    {
     "data": {
      "text/plain": [
       "['Кренгольмская мануфактура, здание Йоальской фабрики',\n",
       " 'Фото: Narva69',\n",
       " 'За приключениями и деньгами европейцы в целом и немцы в частности отправлялись не только на запад, через Атлантику, но и на восток. Россия всегда манила энергичных и предприимчивых иностранцев возможностями, просторами и природными богатствами. «Варяги» оставили заметный след в истории страны. В том числе и в экономике.',\n",
       " 'Наиболее представительным был «десант» из Германии. Один из русских немцев, уроженец Бремена Людвиг Иоганн Кноп (1821–1894) считался одним из самых богатых людей России во второй половине XIX века. Немецкий экономист Геро фон Шульце-Геверниц считал Кнопа величайшим российским промышленником и одним из крупнейших европейских бизнесменов второй половины XIX века и сравнивал его с Джоном Рокфеллером и Ричардом Аркрайтом, отцом британской текстильной промышленности. Свою империю Людвиг Кноп построил на малоизвестных в середине XIX века в России китах: посредничестве, инвестициях и техническом перевооружении фабрик.',\n",
       " 'О Людвиге Кнопе в России слагали легенды и поговорки. Самая известная – «Где церковь, там и поп, где казарма, там и клоп, а где фабрика – там Кноп». Его называли и «ключником» за то, что он выполнял заказы «под ключ»; и «самым русским немцем» за то, что не только очень быстро научился чисто, без акцента, говорить по-русски, но и целенаправленно, изучал традиции и обычаи второй родины, чтобы быстрее ассимилироваться в нее. Еще одно прозвище – «король российского ситца» – Кноп получил за то, что в одиночку модернизировал текстильную промышленность России и много лет был ее фактическим лидером.',\n",
       " 'После смерти Людвига Кнопа в Кренгольме ему был воздвигнут памятник, единственный в дореволюционной России памятник промышленнику.']"
      ]
     },
     "execution_count": 34,
     "metadata": {},
     "output_type": "execute_result"
    }
   ],
   "source": [
    "publication_text = [raw_text.text for raw_text in publication_text]\n",
    "publication_text"
   ]
  },
  {
   "cell_type": "code",
   "execution_count": 40,
   "metadata": {},
   "outputs": [
    {
     "data": {
      "text/plain": [
       "'Кренгольмская мануфактура, здание Йоальской фабрики. Фото: Narva69. За приключениями и деньгами европейцы в целом и немцы в частности отправлялись не только на запад, через Атлантику, но и на восток. Россия всегда манила энергичных и предприимчивых иностранцев возможностями, просторами и природными богатствами. «Варяги» оставили заметный след в истории страны. В том числе и в экономике.. Наиболее представительным был «десант» из Германии. Один из русских немцев, уроженец Бремена Людвиг Иоганн Кноп (1821–1894) считался одним из самых богатых людей России во второй половине XIX века. Немецкий экономист Геро фон Шульце-Геверниц считал Кнопа величайшим российским промышленником и одним из крупнейших европейских бизнесменов второй половины XIX века и сравнивал его с Джоном Рокфеллером и Ричардом Аркрайтом, отцом британской текстильной промышленности. Свою империю Людвиг Кноп построил на малоизвестных в середине XIX века в России китах: посредничестве, инвестициях и техническом перевооружении фабрик.. О Людвиге Кнопе в России слагали легенды и поговорки. Самая известная – «Где церковь, там и поп, где казарма, там и клоп, а где фабрика – там Кноп». Его называли и «ключником» за то, что он выполнял заказы «под ключ»; и «самым русским немцем» за то, что не только очень быстро научился чисто, без акцента, говорить по-русски, но и целенаправленно, изучал традиции и обычаи второй родины, чтобы быстрее ассимилироваться в нее. Еще одно прозвище – «король российского ситца» – Кноп получил за то, что в одиночку модернизировал текстильную промышленность России и много лет был ее фактическим лидером.. После смерти Людвига Кнопа в Кренгольме ему был воздвигнут памятник, единственный в дореволюционной России памятник промышленнику.'"
      ]
     },
     "execution_count": 40,
     "metadata": {},
     "output_type": "execute_result"
    }
   ],
   "source": [
    "publication_text = \". \".join(publication_text)\n",
    "publication_text"
   ]
  },
  {
   "cell_type": "code",
   "execution_count": 41,
   "metadata": {},
   "outputs": [],
   "source": [
    "def get_publication_text(sub_page):\n",
    "    publication_text = sub_page.find(\"div\", attrs={'class', 'post-body'}).findAll('p')\n",
    "    publication_text = [raw_text.text for raw_text in publication_text]\n",
    "    publication_text = \". \".join(publication_text)\n",
    "    return publication_text"
   ]
  },
  {
   "cell_type": "code",
   "execution_count": 42,
   "metadata": {},
   "outputs": [
    {
     "data": {
      "text/plain": [
       "'Кренгольмская мануфактура, здание Йоальской фабрики. Фото: Narva69. За приключениями и деньгами европейцы в целом и немцы в частности отправлялись не только на запад, через Атлантику, но и на восток. Россия всегда манила энергичных и предприимчивых иностранцев возможностями, просторами и природными богатствами. «Варяги» оставили заметный след в истории страны. В том числе и в экономике.. Наиболее представительным был «десант» из Германии. Один из русских немцев, уроженец Бремена Людвиг Иоганн Кноп (1821–1894) считался одним из самых богатых людей России во второй половине XIX века. Немецкий экономист Геро фон Шульце-Геверниц считал Кнопа величайшим российским промышленником и одним из крупнейших европейских бизнесменов второй половины XIX века и сравнивал его с Джоном Рокфеллером и Ричардом Аркрайтом, отцом британской текстильной промышленности. Свою империю Людвиг Кноп построил на малоизвестных в середине XIX века в России китах: посредничестве, инвестициях и техническом перевооружении фабрик.. О Людвиге Кнопе в России слагали легенды и поговорки. Самая известная – «Где церковь, там и поп, где казарма, там и клоп, а где фабрика – там Кноп». Его называли и «ключником» за то, что он выполнял заказы «под ключ»; и «самым русским немцем» за то, что не только очень быстро научился чисто, без акцента, говорить по-русски, но и целенаправленно, изучал традиции и обычаи второй родины, чтобы быстрее ассимилироваться в нее. Еще одно прозвище – «король российского ситца» – Кноп получил за то, что в одиночку модернизировал текстильную промышленность России и много лет был ее фактическим лидером.. После смерти Людвига Кнопа в Кренгольме ему был воздвигнут памятник, единственный в дореволюционной России памятник промышленнику.'"
      ]
     },
     "execution_count": 42,
     "metadata": {},
     "output_type": "execute_result"
    }
   ],
   "source": [
    "get_publication_text(sub_page)"
   ]
  },
  {
   "cell_type": "markdown",
   "metadata": {},
   "source": [
    "# Лайки/дизлайки"
   ]
  },
  {
   "cell_type": "code",
   "execution_count": 43,
   "metadata": {},
   "outputs": [
    {
     "data": {
      "text/plain": [
       "[<span class=\"post-rating__counter post-rating__counter--like\">44</span>,\n",
       " <span class=\"post-rating__counter post-rating__counter--dislike\">0</span>]"
      ]
     },
     "execution_count": 43,
     "metadata": {},
     "output_type": "execute_result"
    }
   ],
   "source": [
    "likes_dislikes = sub_page.find('div', attrs={'class':'post-rating__buttons'}).findAll('span')\n",
    "likes_dislikes"
   ]
  },
  {
   "cell_type": "code",
   "execution_count": 44,
   "metadata": {},
   "outputs": [
    {
     "data": {
      "text/plain": [
       "(44, 0)"
      ]
     },
     "execution_count": 44,
     "metadata": {},
     "output_type": "execute_result"
    }
   ],
   "source": [
    "likes, dislikes = int(likes_dislikes[0].text), int(likes_dislikes[1].text)\n",
    "likes, dislikes"
   ]
  },
  {
   "cell_type": "code",
   "execution_count": 45,
   "metadata": {},
   "outputs": [],
   "source": [
    "def get_likes_dislikes(sub_page):\n",
    "    likes_dislikes = sub_page.find('div', attrs={'class':'post-rating__buttons'}).findAll('span')\n",
    "    likes, dislikes = int(likes_dislikes[0].text), int(likes_dislikes[1].text)\n",
    "    return likes, dislikes"
   ]
  },
  {
   "cell_type": "code",
   "execution_count": 46,
   "metadata": {},
   "outputs": [
    {
     "data": {
      "text/plain": [
       "(44, 0)"
      ]
     },
     "execution_count": 46,
     "metadata": {},
     "output_type": "execute_result"
    }
   ],
   "source": [
    "get_likes_dislikes(sub_page)"
   ]
  },
  {
   "cell_type": "markdown",
   "metadata": {},
   "source": [
    "# Для удобства - достанем заголовок из страницы"
   ]
  },
  {
   "cell_type": "code",
   "execution_count": 47,
   "metadata": {},
   "outputs": [
    {
     "data": {
      "text/plain": [
       "'Самый русский немец. Чем Россия обязана прапрадеду новой главы Еврокомиссии'"
      ]
     },
     "execution_count": 47,
     "metadata": {},
     "output_type": "execute_result"
    }
   ],
   "source": [
    "sub_page.find('h1').text.strip()"
   ]
  },
  {
   "cell_type": "code",
   "execution_count": 48,
   "metadata": {},
   "outputs": [],
   "source": [
    "def get_publication_header(sub_page):\n",
    "    return sub_page.find('h1').text.strip()"
   ]
  },
  {
   "cell_type": "code",
   "execution_count": 49,
   "metadata": {},
   "outputs": [
    {
     "data": {
      "text/plain": [
       "'Самый русский немец. Чем Россия обязана прапрадеду новой главы Еврокомиссии'"
      ]
     },
     "execution_count": 49,
     "metadata": {},
     "output_type": "execute_result"
    }
   ],
   "source": [
    "get_publication_header(sub_page)"
   ]
  },
  {
   "cell_type": "markdown",
   "metadata": {},
   "source": [
    "# Попробуем соединить все вместе"
   ]
  },
  {
   "cell_type": "code",
   "execution_count": 50,
   "metadata": {},
   "outputs": [
    {
     "data": {
      "text/plain": [
       "'/posts/94318'"
      ]
     },
     "execution_count": 50,
     "metadata": {},
     "output_type": "execute_result"
    }
   ],
   "source": [
    "news_link"
   ]
  },
  {
   "cell_type": "code",
   "execution_count": 51,
   "metadata": {},
   "outputs": [],
   "source": [
    "sub_page = get_subpage(news_link)\n",
    "\n",
    "date = get_publication_date(sub_page)\n",
    "text = get_publication_text(sub_page)\n",
    "likes, dislikes = get_likes_dislikes(sub_page)\n",
    "header = get_publication_header(sub_page)\n",
    "\n",
    "sub_page_data = {'header':header, 'date':date, 'text':text, 'likes':likes, 'dislikes':dislikes}"
   ]
  },
  {
   "cell_type": "code",
   "execution_count": 52,
   "metadata": {},
   "outputs": [
    {
     "data": {
      "text/plain": [
       "{'header': 'Самый русский немец. Чем Россия обязана прапрадеду новой главы Еврокомиссии',\n",
       " 'date': '29 июля',\n",
       " 'text': 'Кренгольмская мануфактура, здание Йоальской фабрики. Фото: Narva69. За приключениями и деньгами европейцы в целом и немцы в частности отправлялись не только на запад, через Атлантику, но и на восток. Россия всегда манила энергичных и предприимчивых иностранцев возможностями, просторами и природными богатствами. «Варяги» оставили заметный след в истории страны. В том числе и в экономике.. Наиболее представительным был «десант» из Германии. Один из русских немцев, уроженец Бремена Людвиг Иоганн Кноп (1821–1894) считался одним из самых богатых людей России во второй половине XIX века. Немецкий экономист Геро фон Шульце-Геверниц считал Кнопа величайшим российским промышленником и одним из крупнейших европейских бизнесменов второй половины XIX века и сравнивал его с Джоном Рокфеллером и Ричардом Аркрайтом, отцом британской текстильной промышленности. Свою империю Людвиг Кноп построил на малоизвестных в середине XIX века в России китах: посредничестве, инвестициях и техническом перевооружении фабрик.. О Людвиге Кнопе в России слагали легенды и поговорки. Самая известная – «Где церковь, там и поп, где казарма, там и клоп, а где фабрика – там Кноп». Его называли и «ключником» за то, что он выполнял заказы «под ключ»; и «самым русским немцем» за то, что не только очень быстро научился чисто, без акцента, говорить по-русски, но и целенаправленно, изучал традиции и обычаи второй родины, чтобы быстрее ассимилироваться в нее. Еще одно прозвище – «король российского ситца» – Кноп получил за то, что в одиночку модернизировал текстильную промышленность России и много лет был ее фактическим лидером.. После смерти Людвига Кнопа в Кренгольме ему был воздвигнут памятник, единственный в дореволюционной России памятник промышленнику.',\n",
       " 'likes': 44,\n",
       " 'dislikes': 0}"
      ]
     },
     "execution_count": 52,
     "metadata": {},
     "output_type": "execute_result"
    }
   ],
   "source": [
    "sub_page_data"
   ]
  },
  {
   "cell_type": "code",
   "execution_count": 53,
   "metadata": {},
   "outputs": [],
   "source": [
    "def get_sub_page_data(news_link):\n",
    "    sub_page = get_subpage(news_link)\n",
    "    date = get_publication_date(sub_page)\n",
    "    text = get_publication_text(sub_page)\n",
    "    likes, dislikes = get_likes_dislikes(sub_page)\n",
    "    header = get_publication_header(sub_page)\n",
    "    sub_page_data = {'header':header, 'date':date, 'text':text, 'likes':likes, 'dislikes':dislikes}\n",
    "    return sub_page_data"
   ]
  },
  {
   "cell_type": "markdown",
   "metadata": {},
   "source": [
    "ура!"
   ]
  },
  {
   "cell_type": "markdown",
   "metadata": {},
   "source": [
    "Теперь соберем все ссылки с одной страницы"
   ]
  },
  {
   "cell_type": "code",
   "execution_count": 56,
   "metadata": {},
   "outputs": [],
   "source": [
    "def get_news_page_links(page_number):\n",
    "    news_page = requests.get(main_url+str(page_number))\n",
    "    news_page = news_page.content\n",
    "    news_page = BeautifulSoup(news_page, 'lxml')\n",
    "    \n",
    "    news_page = news_page.find('div', attrs={'class':'materials-list'})\n",
    "    news_links = news_page.findAll('a', attrs= {'class':'card__link'})\n",
    "    news_links = list(set(news_links))\n",
    "    news_links = [link.get('href') for link in news_links]\n",
    "    \n",
    "    return news_links"
   ]
  },
  {
   "cell_type": "code",
   "execution_count": 57,
   "metadata": {},
   "outputs": [],
   "source": [
    "news_links = get_news_page_links(0)"
   ]
  },
  {
   "cell_type": "code",
   "execution_count": 58,
   "metadata": {},
   "outputs": [
    {
     "data": {
      "text/plain": [
       "['/posts/92481',\n",
       " '/posts/94125',\n",
       " '/posts/93716',\n",
       " '/posts/94317',\n",
       " '/posts/94106',\n",
       " '/posts/93563',\n",
       " '/posts/94197',\n",
       " '/posts/93985',\n",
       " '/posts/94047',\n",
       " '/posts/94218',\n",
       " '/posts/94253',\n",
       " '/posts/93974',\n",
       " '/posts/93934',\n",
       " '/posts/94318',\n",
       " '/posts/94199',\n",
       " '/posts/93172',\n",
       " '/posts/93708',\n",
       " '/posts/94184',\n",
       " '/posts/94320']"
      ]
     },
     "execution_count": 58,
     "metadata": {},
     "output_type": "execute_result"
    }
   ],
   "source": [
    "news_links"
   ]
  },
  {
   "cell_type": "markdown",
   "metadata": {},
   "source": [
    "# Пошли гулять по страничкам!"
   ]
  },
  {
   "cell_type": "code",
   "execution_count": 60,
   "metadata": {
    "scrolled": true
   },
   "outputs": [
    {
     "name": "stdout",
     "output_type": "stream",
     "text": [
      "Конец согласия. Откуда в обществе берется поляризация?\n",
      "16 ноября 2018\n",
      "Likes: 78, Dislikes: 4\n",
      "====================\n",
      "Бойтесь своих желаний. Что делать Москве, если Киев начнет выполнять Минские соглашения?\n",
      "8 июля\n",
      "Likes: 115, Dislikes: 3\n",
      "====================\n",
      "Китайский связной.  Почему Ли Кай Фу прочат в вожди революции в искусственном интеллекте\n",
      "16 мая\n",
      "Likes: 85, Dislikes: 1\n",
      "====================\n",
      "Дизайнер из деревни. Как Симон Жакмюс за 10 лет создал бренд, популярный во всем мире\n",
      "09:00\n",
      "Likes: 9, Dislikes: 0\n",
      "====================\n",
      "«Сегодня либерализм выступает в роли козла отпущения»\n",
      "6 июля\n",
      "Likes: 66, Dislikes: 8\n",
      "====================\n",
      "Хаос и паника. Что происходит с Facebook после недавних крупных скандалов?\n",
      "19 апреля\n",
      "Likes: 32, Dislikes: 18\n",
      "====================\n",
      "Слишком активный гражданин. Как независимых кандидатов не пускают на выборы в городской парламент\n",
      "16 июля\n",
      "Likes: 74, Dislikes: 0\n",
      "====================\n",
      "Ася Казанцева: «Мы можем влиять на наш мозг, повышая вероятность выбора тех или иных решений»\n",
      "20 июня\n",
      "Likes: 82, Dislikes: 2\n",
      "====================\n",
      "Министр в мраморной ванне. Как Минпромторг отреагировал на расследование Transparency International\n",
      "26 июня\n",
      "Likes: 127, Dislikes: 1\n",
      "====================\n",
      "Сдержки без противовесов. Как Верховный суд США стал инструментом узурпации власти\n",
      "20 июля\n",
      "Likes: 43, Dislikes: 13\n",
      "====================\n",
      "250 слуг народа. Партия Зеленского одерживает безоговорочную победу на парламентских выборах\n",
      "22 июля\n",
      "Likes: 66, Dislikes: 2\n",
      "====================\n",
      "«Я непременно преуспею». Полезно ли увлечение саморазвитием?\n",
      "26 июня\n",
      "Likes: 68, Dislikes: 4\n",
      "====================\n",
      "«Я устал терпеть то, что происходит». Вчера с журналиста Ивана Голунова были сняты обвинения, однако сегодня москвичи вышли на улицу, чтобы проявить свою гражданскую позицию\n",
      "12 июня\n",
      "Likes: 93, Dislikes: 0\n",
      "====================\n",
      "Самый русский немец. Чем Россия обязана прапрадеду новой главы Еврокомиссии\n",
      "29 июля\n",
      "Likes: 44, Dislikes: 0\n",
      "====================\n",
      "Экологический авторитаризм. Что произойдет, если сортировка мусора станет обязательной?\n",
      "19 июля\n",
      "Likes: 92, Dislikes: 1\n",
      "====================\n",
      "«Я чувствую контакт». Как скептики разоблачают известных ясновидящих\n",
      "1 марта\n",
      "Likes: 97, Dislikes: 2\n",
      "====================\n",
      "Феминистка и итальянская еврейка. Автором пьес Шекспира была женщина?\n",
      "15 мая\n",
      "Likes: 76, Dislikes: 5\n",
      "====================\n",
      "«С приходом немцев перед каждым жителем Смоленска вставал вопрос: что делать?»\n",
      "17 июля\n",
      "Likes: 55, Dislikes: 0\n",
      "====================\n",
      "Сибирь и Дальний Восток в огне. Что нужно знать о лесных пожарах, охвативших Россию\n",
      "29 июля\n",
      "Likes: 57, Dislikes: 0\n",
      "====================\n"
     ]
    }
   ],
   "source": [
    "for news_link in news_links:\n",
    "    sub_page_data = get_sub_page_data(news_link)\n",
    "    print(sub_page_data['header'])\n",
    "    print(sub_page_data['date'])\n",
    "    print(f\"Likes: {sub_page_data['likes']}, Dislikes: {sub_page_data['dislikes']}\")\n",
    "    print('====================')\n",
    "    time.sleep(0.2)"
   ]
  },
  {
   "cell_type": "markdown",
   "metadata": {},
   "source": [
    "Если углубимся в историю на 100 страниц, попадем примерно в февраль этого года, если на 200 - уже в октябрь 2017. Попробуем собрать немного новостей:"
   ]
  },
  {
   "cell_type": "code",
   "execution_count": 61,
   "metadata": {},
   "outputs": [],
   "source": [
    "NEWS = pd.DataFrame(columns=['header', 'date', 'text', 'likes', 'dislikes'])"
   ]
  },
  {
   "cell_type": "code",
   "execution_count": 62,
   "metadata": {},
   "outputs": [],
   "source": [
    "total_pages = 3"
   ]
  },
  {
   "cell_type": "code",
   "execution_count": 63,
   "metadata": {},
   "outputs": [
    {
     "data": {
      "application/vnd.jupyter.widget-view+json": {
       "model_id": "6e5dd821f220409ebdf06b6460fdc7d7",
       "version_major": 2,
       "version_minor": 0
      },
      "text/plain": [
       "HBox(children=(IntProgress(value=0, max=3), HTML(value='')))"
      ]
     },
     "metadata": {},
     "output_type": "display_data"
    },
    {
     "data": {
      "application/vnd.jupyter.widget-view+json": {
       "model_id": "",
       "version_major": 2,
       "version_minor": 0
      },
      "text/plain": [
       "HBox(children=(IntProgress(value=0, max=19), HTML(value='')))"
      ]
     },
     "metadata": {},
     "output_type": "display_data"
    },
    {
     "data": {
      "application/vnd.jupyter.widget-view+json": {
       "model_id": "",
       "version_major": 2,
       "version_minor": 0
      },
      "text/plain": [
       "HBox(children=(IntProgress(value=0, max=19), HTML(value='')))"
      ]
     },
     "metadata": {},
     "output_type": "display_data"
    },
    {
     "data": {
      "application/vnd.jupyter.widget-view+json": {
       "model_id": "",
       "version_major": 2,
       "version_minor": 0
      },
      "text/plain": [
       "HBox(children=(IntProgress(value=0, max=19), HTML(value='')))"
      ]
     },
     "metadata": {},
     "output_type": "display_data"
    },
    {
     "name": "stdout",
     "output_type": "stream",
     "text": [
      "\n"
     ]
    }
   ],
   "source": [
    "for page_number in tqdm_notebook(range(total_pages)):\n",
    "    # get links\n",
    "    news_links = get_news_page_links(page_number)\n",
    "\n",
    "    for news_link in tqdm_notebook(news_links, leave=False):\n",
    "        try:\n",
    "            sub_page_data = get_sub_page_data(news_link)\n",
    "            NEWS = NEWS.append(sub_page_data, ignore_index=True)\n",
    "            time.sleep(0.2)\n",
    "        except:\n",
    "            pass"
   ]
  },
  {
   "cell_type": "code",
   "execution_count": 64,
   "metadata": {},
   "outputs": [
    {
     "data": {
      "text/html": [
       "<div>\n",
       "<style scoped>\n",
       "    .dataframe tbody tr th:only-of-type {\n",
       "        vertical-align: middle;\n",
       "    }\n",
       "\n",
       "    .dataframe tbody tr th {\n",
       "        vertical-align: top;\n",
       "    }\n",
       "\n",
       "    .dataframe thead th {\n",
       "        text-align: right;\n",
       "    }\n",
       "</style>\n",
       "<table border=\"1\" class=\"dataframe\">\n",
       "  <thead>\n",
       "    <tr style=\"text-align: right;\">\n",
       "      <th></th>\n",
       "      <th>header</th>\n",
       "      <th>date</th>\n",
       "      <th>text</th>\n",
       "      <th>likes</th>\n",
       "      <th>dislikes</th>\n",
       "    </tr>\n",
       "  </thead>\n",
       "  <tbody>\n",
       "    <tr>\n",
       "      <th>0</th>\n",
       "      <td>Конец согласия. Откуда в обществе берется поля...</td>\n",
       "      <td>16 ноября 2018</td>\n",
       "      <td>Протест против реформ финансового сектора. Афи...</td>\n",
       "      <td>78</td>\n",
       "      <td>4</td>\n",
       "    </tr>\n",
       "    <tr>\n",
       "      <th>1</th>\n",
       "      <td>Бойтесь своих желаний. Что делать Москве, если...</td>\n",
       "      <td>8 июля</td>\n",
       "      <td>Президент Украины Владимир Зеленский (справа) ...</td>\n",
       "      <td>115</td>\n",
       "      <td>3</td>\n",
       "    </tr>\n",
       "    <tr>\n",
       "      <th>2</th>\n",
       "      <td>Китайский связной.  Почему Ли Кай Фу прочат в ...</td>\n",
       "      <td>16 мая</td>\n",
       "      <td>Ли Кай Фу. Фото: David Gray / Reuters. Пока ми...</td>\n",
       "      <td>85</td>\n",
       "      <td>1</td>\n",
       "    </tr>\n",
       "    <tr>\n",
       "      <th>3</th>\n",
       "      <td>Дизайнер из деревни. Как Симон Жакмюс за 10 ле...</td>\n",
       "      <td>09:00</td>\n",
       "      <td>Модели представляют творения дизайнера Симона ...</td>\n",
       "      <td>9</td>\n",
       "      <td>0</td>\n",
       "    </tr>\n",
       "    <tr>\n",
       "      <th>4</th>\n",
       "      <td>«Сегодня либерализм выступает в роли козла отп...</td>\n",
       "      <td>6 июля</td>\n",
       "      <td>Групповое фото участников саммита в Осаке. Фот...</td>\n",
       "      <td>66</td>\n",
       "      <td>8</td>\n",
       "    </tr>\n",
       "  </tbody>\n",
       "</table>\n",
       "</div>"
      ],
      "text/plain": [
       "                                              header            date  \\\n",
       "0  Конец согласия. Откуда в обществе берется поля...  16 ноября 2018   \n",
       "1  Бойтесь своих желаний. Что делать Москве, если...          8 июля   \n",
       "2  Китайский связной.  Почему Ли Кай Фу прочат в ...          16 мая   \n",
       "3  Дизайнер из деревни. Как Симон Жакмюс за 10 ле...           09:00   \n",
       "4  «Сегодня либерализм выступает в роли козла отп...          6 июля   \n",
       "\n",
       "                                                text likes dislikes  \n",
       "0  Протест против реформ финансового сектора. Афи...    78        4  \n",
       "1  Президент Украины Владимир Зеленский (справа) ...   115        3  \n",
       "2  Ли Кай Фу. Фото: David Gray / Reuters. Пока ми...    85        1  \n",
       "3  Модели представляют творения дизайнера Симона ...     9        0  \n",
       "4  Групповое фото участников саммита в Осаке. Фот...    66        8  "
      ]
     },
     "execution_count": 64,
     "metadata": {},
     "output_type": "execute_result"
    }
   ],
   "source": [
    "NEWS.head()"
   ]
  },
  {
   "cell_type": "markdown",
   "metadata": {},
   "source": [
    "![](http://i0.kym-cdn.com/entries/icons/facebook/000/006/077/so_good.jpg)"
   ]
  },
  {
   "cell_type": "code",
   "execution_count": 75,
   "metadata": {},
   "outputs": [],
   "source": [
    "NEWS = NEWS.drop_duplicates().reset_index(drop=True)"
   ]
  },
  {
   "cell_type": "code",
   "execution_count": 76,
   "metadata": {},
   "outputs": [
    {
     "data": {
      "image/png": "[encoded data removed]",
      "text/plain": [
       "<Figure size 432x288 with 1 Axes>"
      ]
     },
     "metadata": {},
     "output_type": "display_data"
    }
   ],
   "source": [
    "NEWS.likes.astype(int).hist();"
   ]
  },
  {
   "cell_type": "code",
   "execution_count": 77,
   "metadata": {},
   "outputs": [
    {
     "data": {
      "image/png": "[encoded data removed]",
      "text/plain": [
       "<Figure size 432x288 with 1 Axes>"
      ]
     },
     "metadata": {},
     "output_type": "display_data"
    }
   ],
   "source": [
    "NEWS.dislikes.astype(int).hist();"
   ]
  },
  {
   "cell_type": "code",
   "execution_count": 81,
   "metadata": {},
   "outputs": [
    {
     "data": {
      "text/html": [
       "<div>\n",
       "<style scoped>\n",
       "    .dataframe tbody tr th:only-of-type {\n",
       "        vertical-align: middle;\n",
       "    }\n",
       "\n",
       "    .dataframe tbody tr th {\n",
       "        vertical-align: top;\n",
       "    }\n",
       "\n",
       "    .dataframe thead th {\n",
       "        text-align: right;\n",
       "    }\n",
       "</style>\n",
       "<table border=\"1\" class=\"dataframe\">\n",
       "  <thead>\n",
       "    <tr style=\"text-align: right;\">\n",
       "      <th></th>\n",
       "      <th>header</th>\n",
       "      <th>date</th>\n",
       "      <th>text</th>\n",
       "      <th>likes</th>\n",
       "      <th>dislikes</th>\n",
       "    </tr>\n",
       "  </thead>\n",
       "  <tbody>\n",
       "    <tr>\n",
       "      <th>8</th>\n",
       "      <td>Министр в мраморной ванне. Как Минпромторг отр...</td>\n",
       "      <td>26 июня</td>\n",
       "      <td>Денис Мантуров. Сергей Фадеичев / ТАСС. Пока А...</td>\n",
       "      <td>127</td>\n",
       "      <td>1</td>\n",
       "    </tr>\n",
       "  </tbody>\n",
       "</table>\n",
       "</div>"
      ],
      "text/plain": [
       "                                              header     date  \\\n",
       "8  Министр в мраморной ванне. Как Минпромторг отр...  26 июня   \n",
       "\n",
       "                                                text likes dislikes  \n",
       "8  Денис Мантуров. Сергей Фадеичев / ТАСС. Пока А...   127        1  "
      ]
     },
     "execution_count": 81,
     "metadata": {},
     "output_type": "execute_result"
    }
   ],
   "source": [
    "NEWS[NEWS.likes == max(NEWS.likes)]"
   ]
  },
  {
   "cell_type": "code",
   "execution_count": 82,
   "metadata": {},
   "outputs": [
    {
     "data": {
      "text/html": [
       "<div>\n",
       "<style scoped>\n",
       "    .dataframe tbody tr th:only-of-type {\n",
       "        vertical-align: middle;\n",
       "    }\n",
       "\n",
       "    .dataframe tbody tr th {\n",
       "        vertical-align: top;\n",
       "    }\n",
       "\n",
       "    .dataframe thead th {\n",
       "        text-align: right;\n",
       "    }\n",
       "</style>\n",
       "<table border=\"1\" class=\"dataframe\">\n",
       "  <thead>\n",
       "    <tr style=\"text-align: right;\">\n",
       "      <th></th>\n",
       "      <th>header</th>\n",
       "      <th>date</th>\n",
       "      <th>text</th>\n",
       "      <th>likes</th>\n",
       "      <th>dislikes</th>\n",
       "    </tr>\n",
       "  </thead>\n",
       "  <tbody>\n",
       "    <tr>\n",
       "      <th>5</th>\n",
       "      <td>Хаос и паника. Что происходит с Facebook после...</td>\n",
       "      <td>19 апреля</td>\n",
       "      <td>Марк Цукерберг. Фото: Charles Platiau / Reuter...</td>\n",
       "      <td>32</td>\n",
       "      <td>18</td>\n",
       "    </tr>\n",
       "  </tbody>\n",
       "</table>\n",
       "</div>"
      ],
      "text/plain": [
       "                                              header       date  \\\n",
       "5  Хаос и паника. Что происходит с Facebook после...  19 апреля   \n",
       "\n",
       "                                                text likes dislikes  \n",
       "5  Марк Цукерберг. Фото: Charles Platiau / Reuter...    32       18  "
      ]
     },
     "execution_count": 82,
     "metadata": {},
     "output_type": "execute_result"
    }
   ],
   "source": [
    "NEWS[NEWS.dislikes == max(NEWS.dislikes)]"
   ]
  },
  {
   "cell_type": "code",
   "execution_count": 86,
   "metadata": {},
   "outputs": [
    {
     "data": {
      "text/plain": [
       "'Министр в\\xa0мраморной ванне. Как Минпромторг отреагировал на\\xa0расследование Transparency International'"
      ]
     },
     "execution_count": 86,
     "metadata": {},
     "output_type": "execute_result"
    }
   ],
   "source": [
    "NEWS.loc[8].header"
   ]
  },
  {
   "cell_type": "code",
   "execution_count": 87,
   "metadata": {},
   "outputs": [
    {
     "data": {
      "text/plain": [
       "'Хаос и\\xa0паника. Что происходит с\\xa0Facebook после недавних крупных скандалов?'"
      ]
     },
     "execution_count": 87,
     "metadata": {},
     "output_type": "execute_result"
    }
   ],
   "source": [
    "NEWS.loc[5].header"
   ]
  }
 ],
 "metadata": {
  "anaconda-cloud": {},
  "kernelspec": {
   "display_name": "Python 3",
   "language": "python",
   "name": "python3"
  },
  "language_info": {
   "codemirror_mode": {
    "name": "ipython",
    "version": 3
   },
   "file_extension": ".py",
   "mimetype": "text/x-python",
   "name": "python",
   "nbconvert_exporter": "python",
   "pygments_lexer": "ipython3",
   "version": "3.7.4"
  },
  "toc": {
   "base_numbering": 1,
   "nav_menu": {},
   "number_sections": true,
   "sideBar": true,
   "skip_h1_title": false,
   "title_cell": "Table of Contents",
   "title_sidebar": "Contents",
   "toc_cell": false,
   "toc_position": {},
   "toc_section_display": true,
   "toc_window_display": false
  },
  "varInspector": {
   "cols": {
    "lenName": 16,
    "lenType": 16,
    "lenVar": 40
   },
   "kernels_config": {
    "python": {
     "delete_cmd_postfix": "",
     "delete_cmd_prefix": "del ",
     "library": "var_list.py",
     "varRefreshCmd": "print(var_dic_list())"
    },
    "r": {
     "delete_cmd_postfix": ") ",
     "delete_cmd_prefix": "rm(",
     "library": "var_list.r",
     "varRefreshCmd": "cat(var_dic_list()) "
    }
   },
   "types_to_exclude": [
    "module",
    "function",
    "builtin_function_or_method",
    "instance",
    "_Feature"
   ],
   "window_display": false
  }
 },
 "nbformat": 4,
 "nbformat_minor": 1
}
