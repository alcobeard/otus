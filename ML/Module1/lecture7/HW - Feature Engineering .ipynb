{
 "cells": [
  {
   "cell_type": "code",
   "execution_count": 1,
   "metadata": {},
   "outputs": [],
   "source": [
    "# import jtplot submodule from jupyterthemes\n",
    "from jupyterthemes import jtplot\n",
    "# currently installed theme will be used to\n",
    "# set plot style if no arguments provided\n",
    "jtplot.style()"
   ]
  },
  {
   "cell_type": "code",
   "execution_count": 2,
   "metadata": {},
   "outputs": [],
   "source": [
    "import numpy as np\n",
    "import pandas as pd \n",
    "import seaborn as sns\n",
    "import matplotlib.pyplot as plt\n",
    "import os\n",
    "\n",
    "from sklearn.model_selection import train_test_split\n",
    "from sklearn.preprocessing import StandardScaler\n",
    "from sklearn.preprocessing import MinMaxScaler\n",
    "from sklearn.preprocessing import RobustScaler\n",
    "from sklearn.feature_selection import SelectKBest, SelectPercentile\n",
    "from sklearn.feature_selection import mutual_info_classif,chi2\n",
    "from sklearn.tree import DecisionTreeClassifier, DecisionTreeRegressor\n",
    "from sklearn.metrics import roc_auc_score, mean_squared_error\n",
    "\n",
    "from imblearn.over_sampling import SMOTE\n",
    "from imblearn.under_sampling import CondensedNearestNeighbour\n",
    "\n",
    "import category_encoders as ce\n",
    "\n",
    "plt.style.use('seaborn-colorblind')\n",
    "%matplotlib inline"
   ]
  },
  {
   "cell_type": "code",
   "execution_count": 3,
   "metadata": {},
   "outputs": [
    {
     "name": "stderr",
     "output_type": "stream",
     "text": [
      "/opt/anaconda3/lib/python3.7/site-packages/ipykernel_launcher.py:6: ParserWarning: Falling back to the 'python' engine because the 'c' engine does not support regex separators (separators > 1 char and different from '\\s+' are interpreted as regex); you can avoid this warning by specifying engine='python'.\n",
      "  \n"
     ]
    },
    {
     "name": "stdout",
     "output_type": "stream",
     "text": [
      "(32561, 15)\n"
     ]
    },
    {
     "data": {
      "text/html": [
       "<div>\n",
       "<style scoped>\n",
       "    .dataframe tbody tr th:only-of-type {\n",
       "        vertical-align: middle;\n",
       "    }\n",
       "\n",
       "    .dataframe tbody tr th {\n",
       "        vertical-align: top;\n",
       "    }\n",
       "\n",
       "    .dataframe thead th {\n",
       "        text-align: right;\n",
       "    }\n",
       "</style>\n",
       "<table border=\"1\" class=\"dataframe\">\n",
       "  <thead>\n",
       "    <tr style=\"text-align: right;\">\n",
       "      <th></th>\n",
       "      <th>age</th>\n",
       "      <th>workclass</th>\n",
       "      <th>fnlwgt</th>\n",
       "      <th>education</th>\n",
       "      <th>education-num</th>\n",
       "      <th>marital-status</th>\n",
       "      <th>occupation</th>\n",
       "      <th>relationship</th>\n",
       "      <th>race</th>\n",
       "      <th>sex</th>\n",
       "      <th>capital-gain</th>\n",
       "      <th>capital-loss</th>\n",
       "      <th>hours-per-week</th>\n",
       "      <th>native-country</th>\n",
       "      <th>makes_over_50K_a_year</th>\n",
       "    </tr>\n",
       "  </thead>\n",
       "  <tbody>\n",
       "    <tr>\n",
       "      <td>0</td>\n",
       "      <td>39</td>\n",
       "      <td>State-gov</td>\n",
       "      <td>77516</td>\n",
       "      <td>Bachelors</td>\n",
       "      <td>13</td>\n",
       "      <td>Never-married</td>\n",
       "      <td>Adm-clerical</td>\n",
       "      <td>Not-in-family</td>\n",
       "      <td>White</td>\n",
       "      <td>Male</td>\n",
       "      <td>2174</td>\n",
       "      <td>0</td>\n",
       "      <td>40</td>\n",
       "      <td>United-States</td>\n",
       "      <td>&lt;=50K</td>\n",
       "    </tr>\n",
       "    <tr>\n",
       "      <td>1</td>\n",
       "      <td>50</td>\n",
       "      <td>Self-emp-not-inc</td>\n",
       "      <td>83311</td>\n",
       "      <td>Bachelors</td>\n",
       "      <td>13</td>\n",
       "      <td>Married-civ-spouse</td>\n",
       "      <td>Exec-managerial</td>\n",
       "      <td>Husband</td>\n",
       "      <td>White</td>\n",
       "      <td>Male</td>\n",
       "      <td>0</td>\n",
       "      <td>0</td>\n",
       "      <td>13</td>\n",
       "      <td>United-States</td>\n",
       "      <td>&lt;=50K</td>\n",
       "    </tr>\n",
       "    <tr>\n",
       "      <td>2</td>\n",
       "      <td>38</td>\n",
       "      <td>Private</td>\n",
       "      <td>215646</td>\n",
       "      <td>HS-grad</td>\n",
       "      <td>9</td>\n",
       "      <td>Divorced</td>\n",
       "      <td>Handlers-cleaners</td>\n",
       "      <td>Not-in-family</td>\n",
       "      <td>White</td>\n",
       "      <td>Male</td>\n",
       "      <td>0</td>\n",
       "      <td>0</td>\n",
       "      <td>40</td>\n",
       "      <td>United-States</td>\n",
       "      <td>&lt;=50K</td>\n",
       "    </tr>\n",
       "    <tr>\n",
       "      <td>3</td>\n",
       "      <td>53</td>\n",
       "      <td>Private</td>\n",
       "      <td>234721</td>\n",
       "      <td>11th</td>\n",
       "      <td>7</td>\n",
       "      <td>Married-civ-spouse</td>\n",
       "      <td>Handlers-cleaners</td>\n",
       "      <td>Husband</td>\n",
       "      <td>Black</td>\n",
       "      <td>Male</td>\n",
       "      <td>0</td>\n",
       "      <td>0</td>\n",
       "      <td>40</td>\n",
       "      <td>United-States</td>\n",
       "      <td>&lt;=50K</td>\n",
       "    </tr>\n",
       "    <tr>\n",
       "      <td>4</td>\n",
       "      <td>28</td>\n",
       "      <td>Private</td>\n",
       "      <td>338409</td>\n",
       "      <td>Bachelors</td>\n",
       "      <td>13</td>\n",
       "      <td>Married-civ-spouse</td>\n",
       "      <td>Prof-specialty</td>\n",
       "      <td>Wife</td>\n",
       "      <td>Black</td>\n",
       "      <td>Female</td>\n",
       "      <td>0</td>\n",
       "      <td>0</td>\n",
       "      <td>40</td>\n",
       "      <td>Cuba</td>\n",
       "      <td>&lt;=50K</td>\n",
       "    </tr>\n",
       "  </tbody>\n",
       "</table>\n",
       "</div>"
      ],
      "text/plain": [
       "   age         workclass  fnlwgt  education  education-num  \\\n",
       "0   39         State-gov   77516  Bachelors             13   \n",
       "1   50  Self-emp-not-inc   83311  Bachelors             13   \n",
       "2   38           Private  215646    HS-grad              9   \n",
       "3   53           Private  234721       11th              7   \n",
       "4   28           Private  338409  Bachelors             13   \n",
       "\n",
       "       marital-status         occupation   relationship   race     sex  \\\n",
       "0       Never-married       Adm-clerical  Not-in-family  White    Male   \n",
       "1  Married-civ-spouse    Exec-managerial        Husband  White    Male   \n",
       "2            Divorced  Handlers-cleaners  Not-in-family  White    Male   \n",
       "3  Married-civ-spouse  Handlers-cleaners        Husband  Black    Male   \n",
       "4  Married-civ-spouse     Prof-specialty           Wife  Black  Female   \n",
       "\n",
       "   capital-gain  capital-loss  hours-per-week native-country  \\\n",
       "0          2174             0              40  United-States   \n",
       "1             0             0              13  United-States   \n",
       "2             0             0              40  United-States   \n",
       "3             0             0              40  United-States   \n",
       "4             0             0              40           Cuba   \n",
       "\n",
       "  makes_over_50K_a_year  \n",
       "0                 <=50K  \n",
       "1                 <=50K  \n",
       "2                 <=50K  \n",
       "3                 <=50K  \n",
       "4                 <=50K  "
      ]
     },
     "execution_count": 3,
     "metadata": {},
     "output_type": "execute_result"
    }
   ],
   "source": [
    "use_cols = [\n",
    "    'age','workclass','fnlwgt','education','education-num','marital-status','occupation','relationship','race',\n",
    "    'sex','capital-gain','capital-loss','hours-per-week','native-country','makes_over_50K_a_year'\n",
    "]\n",
    "\n",
    "df = pd.read_csv('data/adult.data', names = use_cols, sep=', ')\n",
    "df.to_csv(\"feature_engineering.csv\", sep=',')\n",
    "print(df.shape)\n",
    "df.head(5)"
   ]
  },
  {
   "cell_type": "markdown",
   "metadata": {},
   "source": [
    "## Проверим пропущенные значения"
   ]
  },
  {
   "cell_type": "code",
   "execution_count": 4,
   "metadata": {},
   "outputs": [],
   "source": [
    "def check_missing(df,output_path=None):    \n",
    "    result = pd.concat([df.isnull().sum(),df.isnull().mean()],axis=1)\n",
    "    result = result.rename(index=str,columns={0:'total missing',1:'proportion'})\n",
    "    if output_path is not None:\n",
    "        result.to_csv(output_path+'missing.csv')\n",
    "        print(output_path, 'missing.csv')\n",
    "    return result"
   ]
  },
  {
   "cell_type": "code",
   "execution_count": 5,
   "metadata": {},
   "outputs": [
    {
     "data": {
      "text/html": [
       "<div>\n",
       "<style scoped>\n",
       "    .dataframe tbody tr th:only-of-type {\n",
       "        vertical-align: middle;\n",
       "    }\n",
       "\n",
       "    .dataframe tbody tr th {\n",
       "        vertical-align: top;\n",
       "    }\n",
       "\n",
       "    .dataframe thead th {\n",
       "        text-align: right;\n",
       "    }\n",
       "</style>\n",
       "<table border=\"1\" class=\"dataframe\">\n",
       "  <thead>\n",
       "    <tr style=\"text-align: right;\">\n",
       "      <th></th>\n",
       "      <th>total missing</th>\n",
       "      <th>proportion</th>\n",
       "    </tr>\n",
       "  </thead>\n",
       "  <tbody>\n",
       "    <tr>\n",
       "      <td>age</td>\n",
       "      <td>0</td>\n",
       "      <td>0.0</td>\n",
       "    </tr>\n",
       "    <tr>\n",
       "      <td>workclass</td>\n",
       "      <td>0</td>\n",
       "      <td>0.0</td>\n",
       "    </tr>\n",
       "    <tr>\n",
       "      <td>fnlwgt</td>\n",
       "      <td>0</td>\n",
       "      <td>0.0</td>\n",
       "    </tr>\n",
       "    <tr>\n",
       "      <td>education</td>\n",
       "      <td>0</td>\n",
       "      <td>0.0</td>\n",
       "    </tr>\n",
       "    <tr>\n",
       "      <td>education-num</td>\n",
       "      <td>0</td>\n",
       "      <td>0.0</td>\n",
       "    </tr>\n",
       "    <tr>\n",
       "      <td>marital-status</td>\n",
       "      <td>0</td>\n",
       "      <td>0.0</td>\n",
       "    </tr>\n",
       "    <tr>\n",
       "      <td>occupation</td>\n",
       "      <td>0</td>\n",
       "      <td>0.0</td>\n",
       "    </tr>\n",
       "    <tr>\n",
       "      <td>relationship</td>\n",
       "      <td>0</td>\n",
       "      <td>0.0</td>\n",
       "    </tr>\n",
       "    <tr>\n",
       "      <td>race</td>\n",
       "      <td>0</td>\n",
       "      <td>0.0</td>\n",
       "    </tr>\n",
       "    <tr>\n",
       "      <td>sex</td>\n",
       "      <td>0</td>\n",
       "      <td>0.0</td>\n",
       "    </tr>\n",
       "    <tr>\n",
       "      <td>capital-gain</td>\n",
       "      <td>0</td>\n",
       "      <td>0.0</td>\n",
       "    </tr>\n",
       "    <tr>\n",
       "      <td>capital-loss</td>\n",
       "      <td>0</td>\n",
       "      <td>0.0</td>\n",
       "    </tr>\n",
       "    <tr>\n",
       "      <td>hours-per-week</td>\n",
       "      <td>0</td>\n",
       "      <td>0.0</td>\n",
       "    </tr>\n",
       "    <tr>\n",
       "      <td>native-country</td>\n",
       "      <td>0</td>\n",
       "      <td>0.0</td>\n",
       "    </tr>\n",
       "    <tr>\n",
       "      <td>makes_over_50K_a_year</td>\n",
       "      <td>0</td>\n",
       "      <td>0.0</td>\n",
       "    </tr>\n",
       "  </tbody>\n",
       "</table>\n",
       "</div>"
      ],
      "text/plain": [
       "                       total missing  proportion\n",
       "age                                0         0.0\n",
       "workclass                          0         0.0\n",
       "fnlwgt                             0         0.0\n",
       "education                          0         0.0\n",
       "education-num                      0         0.0\n",
       "marital-status                     0         0.0\n",
       "occupation                         0         0.0\n",
       "relationship                       0         0.0\n",
       "race                               0         0.0\n",
       "sex                                0         0.0\n",
       "capital-gain                       0         0.0\n",
       "capital-loss                       0         0.0\n",
       "hours-per-week                     0         0.0\n",
       "native-country                     0         0.0\n",
       "makes_over_50K_a_year              0         0.0"
      ]
     },
     "execution_count": 5,
     "metadata": {},
     "output_type": "execute_result"
    }
   ],
   "source": [
    "check_missing(df=df)"
   ]
  },
  {
   "cell_type": "markdown",
   "metadata": {},
   "source": [
    "ееее, их нет"
   ]
  },
  {
   "cell_type": "markdown",
   "metadata": {},
   "source": [
    "## Выбросы"
   ]
  },
  {
   "cell_type": "code",
   "execution_count": 6,
   "metadata": {},
   "outputs": [
    {
     "name": "stdout",
     "output_type": "stream",
     "text": [
      "['age', 'fnlwgt', 'education-num', 'capital-gain', 'capital-loss', 'hours-per-week']\n"
     ]
    }
   ],
   "source": [
    "not_null_columns = []\n",
    "for j in df.select_dtypes(exclude=['object']).columns.values:\n",
    "    not_null_columns.append(j)\n",
    "print(not_null_columns)"
   ]
  },
  {
   "cell_type": "code",
   "execution_count": 7,
   "metadata": {},
   "outputs": [
    {
     "data": {
      "image/png": "[encoded data removed]",
      "text/plain": [
       "<Figure size 432x288 with 1 Axes>"
      ]
     },
     "metadata": {
      "needs_background": "dark"
     },
     "output_type": "display_data"
    },
    {
     "data": {
      "image/png": "[encoded data removed]",
      "text/plain": [
       "<Figure size 432x288 with 1 Axes>"
      ]
     },
     "metadata": {
      "needs_background": "dark"
     },
     "output_type": "display_data"
    },
    {
     "data": {
      "image/png": "[encoded data removed]",
      "text/plain": [
       "<Figure size 432x288 with 1 Axes>"
      ]
     },
     "metadata": {
      "needs_background": "dark"
     },
     "output_type": "display_data"
    },
    {
     "data": {
      "image/png": "[encoded data removed]",
      "text/plain": [
       "<Figure size 432x288 with 1 Axes>"
      ]
     },
     "metadata": {
      "needs_background": "dark"
     },
     "output_type": "display_data"
    },
    {
     "data": {
      "image/png": "[encoded data removed]",
      "text/plain": [
       "<Figure size 432x288 with 1 Axes>"
      ]
     },
     "metadata": {
      "needs_background": "dark"
     },
     "output_type": "display_data"
    },
    {
     "data": {
      "image/png": "[encoded data removed]",
      "text/plain": [
       "<Figure size 432x288 with 1 Axes>"
      ]
     },
     "metadata": {
      "needs_background": "dark"
     },
     "output_type": "display_data"
    }
   ],
   "source": [
    "for j in not_null_columns:\n",
    "    plt.figure()\n",
    "    plt.title(j)\n",
    "    sns.boxplot(data=df[j])"
   ]
  },
  {
   "cell_type": "code",
   "execution_count": 8,
   "metadata": {},
   "outputs": [
    {
     "name": "stdout",
     "output_type": "stream",
     "text": [
      "age: 73\n",
      "[17 18 19 20 21 22 23 24 25 26 27 28 29 30 31 32 33 34 35 36 37 38 39 40\n",
      " 41 42 43 44 45 46 47 48 49 50 51 52 53 54 55 56 57 58 59 60 61 62 63 64\n",
      " 65 66 67 68 69 70 71 72 73 74 75 76 77 78 79 80 81 82 83 84 85 86 87 88\n",
      " 90]\n",
      "\n",
      "workclass: 9\n",
      "['?' 'Federal-gov' 'Local-gov' 'Never-worked' 'Private' 'Self-emp-inc'\n",
      " 'Self-emp-not-inc' 'State-gov' 'Without-pay']\n",
      "\n",
      "fnlwgt: 21648\n",
      "[  12285   13769   14878 ... 1366120 1455435 1484705]\n",
      "\n",
      "education: 16\n",
      "['10th' '11th' '12th' '1st-4th' '5th-6th' '7th-8th' '9th' 'Assoc-acdm'\n",
      " 'Assoc-voc' 'Bachelors' 'Doctorate' 'HS-grad' 'Masters' 'Preschool'\n",
      " 'Prof-school' 'Some-college']\n",
      "\n",
      "education-num: 16\n",
      "[ 1  2  3  4  5  6  7  8  9 10 11 12 13 14 15 16]\n",
      "\n",
      "marital-status: 7\n",
      "['Divorced' 'Married-AF-spouse' 'Married-civ-spouse'\n",
      " 'Married-spouse-absent' 'Never-married' 'Separated' 'Widowed']\n",
      "\n",
      "occupation: 15\n",
      "['?' 'Adm-clerical' 'Armed-Forces' 'Craft-repair' 'Exec-managerial'\n",
      " 'Farming-fishing' 'Handlers-cleaners' 'Machine-op-inspct' 'Other-service'\n",
      " 'Priv-house-serv' 'Prof-specialty' 'Protective-serv' 'Sales'\n",
      " 'Tech-support' 'Transport-moving']\n",
      "\n",
      "relationship: 6\n",
      "['Husband' 'Not-in-family' 'Other-relative' 'Own-child' 'Unmarried' 'Wife']\n",
      "\n",
      "race: 5\n",
      "['Amer-Indian-Eskimo' 'Asian-Pac-Islander' 'Black' 'Other' 'White']\n",
      "\n",
      "sex: 2\n",
      "['Female' 'Male']\n",
      "\n",
      "capital-gain: 119\n",
      "[    0   114   401   594   914   991  1055  1086  1111  1151  1173  1409\n",
      "  1424  1455  1471  1506  1639  1797  1831  1848  2009  2036  2050  2062\n",
      "  2105  2174  2176  2202  2228  2290  2329  2346  2354  2387  2407  2414\n",
      "  2463  2538  2580  2597  2635  2653  2829  2885  2907  2936  2961  2964\n",
      "  2977  2993  3103  3137  3273  3325  3411  3418  3432  3456  3464  3471\n",
      "  3674  3781  3818  3887  3908  3942  4064  4101  4386  4416  4508  4650\n",
      "  4687  4787  4865  4931  4934  5013  5060  5178  5455  5556  5721  6097\n",
      "  6360  6418  6497  6514  6723  6767  6849  7298  7430  7443  7688  7896\n",
      "  7978  8614  9386  9562 10520 10566 10605 11678 13550 14084 14344 15020\n",
      " 15024 15831 18481 20051 22040 25124 25236 27828 34095 41310 99999]\n",
      "\n",
      "capital-loss: 92\n",
      "[   0  155  213  323  419  625  653  810  880  974 1092 1138 1258 1340\n",
      " 1380 1408 1411 1485 1504 1539 1564 1573 1579 1590 1594 1602 1617 1628\n",
      " 1648 1651 1668 1669 1672 1719 1721 1726 1735 1740 1741 1755 1762 1816\n",
      " 1825 1844 1848 1876 1887 1902 1944 1974 1977 1980 2001 2002 2042 2051\n",
      " 2057 2080 2129 2149 2163 2174 2179 2201 2205 2206 2231 2238 2246 2258\n",
      " 2267 2282 2339 2352 2377 2392 2415 2444 2457 2467 2472 2489 2547 2559\n",
      " 2603 2754 2824 3004 3683 3770 3900 4356]\n",
      "\n",
      "hours-per-week: 94\n",
      "[ 1  2  3  4  5  6  7  8  9 10 11 12 13 14 15 16 17 18 19 20 21 22 23 24\n",
      " 25 26 27 28 29 30 31 32 33 34 35 36 37 38 39 40 41 42 43 44 45 46 47 48\n",
      " 49 50 51 52 53 54 55 56 57 58 59 60 61 62 63 64 65 66 67 68 70 72 73 74\n",
      " 75 76 77 78 80 81 82 84 85 86 87 88 89 90 91 92 94 95 96 97 98 99]\n",
      "\n",
      "native-country: 42\n",
      "['?' 'Cambodia' 'Canada' 'China' 'Columbia' 'Cuba' 'Dominican-Republic'\n",
      " 'Ecuador' 'El-Salvador' 'England' 'France' 'Germany' 'Greece' 'Guatemala'\n",
      " 'Haiti' 'Holand-Netherlands' 'Honduras' 'Hong' 'Hungary' 'India' 'Iran'\n",
      " 'Ireland' 'Italy' 'Jamaica' 'Japan' 'Laos' 'Mexico' 'Nicaragua'\n",
      " 'Outlying-US(Guam-USVI-etc)' 'Peru' 'Philippines' 'Poland' 'Portugal'\n",
      " 'Puerto-Rico' 'Scotland' 'South' 'Taiwan' 'Thailand' 'Trinadad&Tobago'\n",
      " 'United-States' 'Vietnam' 'Yugoslavia']\n",
      "\n",
      "makes_over_50K_a_year: 2\n",
      "['<=50K' '>50K']\n",
      "\n"
     ]
    }
   ],
   "source": [
    "#вывод всех уникальных значений для каждой фичи\n",
    "for j in df:\n",
    "    uniq = np.unique(df[j].values)\n",
    "    print(j+\": \"+str(len(uniq))+\"\\n\"+str(uniq)+\"\\n\")"
   ]
  },
  {
   "cell_type": "code",
   "execution_count": 12,
   "metadata": {},
   "outputs": [
    {
     "data": {
      "text/html": [
       "<div>\n",
       "<style scoped>\n",
       "    .dataframe tbody tr th:only-of-type {\n",
       "        vertical-align: middle;\n",
       "    }\n",
       "\n",
       "    .dataframe tbody tr th {\n",
       "        vertical-align: top;\n",
       "    }\n",
       "\n",
       "    .dataframe thead th {\n",
       "        text-align: right;\n",
       "    }\n",
       "</style>\n",
       "<table border=\"1\" class=\"dataframe\">\n",
       "  <thead>\n",
       "    <tr style=\"text-align: right;\">\n",
       "      <th></th>\n",
       "      <th>age</th>\n",
       "      <th>workclass</th>\n",
       "      <th>education</th>\n",
       "      <th>education-num</th>\n",
       "      <th>marital-status</th>\n",
       "      <th>occupation</th>\n",
       "      <th>relationship</th>\n",
       "      <th>race</th>\n",
       "      <th>sex</th>\n",
       "      <th>capital-gain</th>\n",
       "      <th>capital-loss</th>\n",
       "      <th>hours-per-week</th>\n",
       "      <th>native-country</th>\n",
       "      <th>makes_over_50K_a_year</th>\n",
       "    </tr>\n",
       "  </thead>\n",
       "  <tbody>\n",
       "    <tr>\n",
       "      <td>0</td>\n",
       "      <td>39</td>\n",
       "      <td>State-gov</td>\n",
       "      <td>Bachelors</td>\n",
       "      <td>13</td>\n",
       "      <td>Never-married</td>\n",
       "      <td>Adm-clerical</td>\n",
       "      <td>Not-in-family</td>\n",
       "      <td>White</td>\n",
       "      <td>Male</td>\n",
       "      <td>2174</td>\n",
       "      <td>0</td>\n",
       "      <td>40</td>\n",
       "      <td>United-States</td>\n",
       "      <td>&lt;=50K</td>\n",
       "    </tr>\n",
       "    <tr>\n",
       "      <td>1</td>\n",
       "      <td>50</td>\n",
       "      <td>Self-emp-not-inc</td>\n",
       "      <td>Bachelors</td>\n",
       "      <td>13</td>\n",
       "      <td>Married-civ-spouse</td>\n",
       "      <td>Exec-managerial</td>\n",
       "      <td>Husband</td>\n",
       "      <td>White</td>\n",
       "      <td>Male</td>\n",
       "      <td>0</td>\n",
       "      <td>0</td>\n",
       "      <td>13</td>\n",
       "      <td>United-States</td>\n",
       "      <td>&lt;=50K</td>\n",
       "    </tr>\n",
       "    <tr>\n",
       "      <td>2</td>\n",
       "      <td>38</td>\n",
       "      <td>Private</td>\n",
       "      <td>HS-grad</td>\n",
       "      <td>9</td>\n",
       "      <td>Divorced</td>\n",
       "      <td>Handlers-cleaners</td>\n",
       "      <td>Not-in-family</td>\n",
       "      <td>White</td>\n",
       "      <td>Male</td>\n",
       "      <td>0</td>\n",
       "      <td>0</td>\n",
       "      <td>40</td>\n",
       "      <td>United-States</td>\n",
       "      <td>&lt;=50K</td>\n",
       "    </tr>\n",
       "    <tr>\n",
       "      <td>3</td>\n",
       "      <td>53</td>\n",
       "      <td>Private</td>\n",
       "      <td>11th</td>\n",
       "      <td>7</td>\n",
       "      <td>Married-civ-spouse</td>\n",
       "      <td>Handlers-cleaners</td>\n",
       "      <td>Husband</td>\n",
       "      <td>Black</td>\n",
       "      <td>Male</td>\n",
       "      <td>0</td>\n",
       "      <td>0</td>\n",
       "      <td>40</td>\n",
       "      <td>United-States</td>\n",
       "      <td>&lt;=50K</td>\n",
       "    </tr>\n",
       "    <tr>\n",
       "      <td>4</td>\n",
       "      <td>28</td>\n",
       "      <td>Private</td>\n",
       "      <td>Bachelors</td>\n",
       "      <td>13</td>\n",
       "      <td>Married-civ-spouse</td>\n",
       "      <td>Prof-specialty</td>\n",
       "      <td>Wife</td>\n",
       "      <td>Black</td>\n",
       "      <td>Female</td>\n",
       "      <td>0</td>\n",
       "      <td>0</td>\n",
       "      <td>40</td>\n",
       "      <td>Cuba</td>\n",
       "      <td>&lt;=50K</td>\n",
       "    </tr>\n",
       "    <tr>\n",
       "      <td>...</td>\n",
       "      <td>...</td>\n",
       "      <td>...</td>\n",
       "      <td>...</td>\n",
       "      <td>...</td>\n",
       "      <td>...</td>\n",
       "      <td>...</td>\n",
       "      <td>...</td>\n",
       "      <td>...</td>\n",
       "      <td>...</td>\n",
       "      <td>...</td>\n",
       "      <td>...</td>\n",
       "      <td>...</td>\n",
       "      <td>...</td>\n",
       "      <td>...</td>\n",
       "    </tr>\n",
       "    <tr>\n",
       "      <td>32556</td>\n",
       "      <td>27</td>\n",
       "      <td>Private</td>\n",
       "      <td>Assoc-acdm</td>\n",
       "      <td>12</td>\n",
       "      <td>Married-civ-spouse</td>\n",
       "      <td>Tech-support</td>\n",
       "      <td>Wife</td>\n",
       "      <td>White</td>\n",
       "      <td>Female</td>\n",
       "      <td>0</td>\n",
       "      <td>0</td>\n",
       "      <td>38</td>\n",
       "      <td>United-States</td>\n",
       "      <td>&lt;=50K</td>\n",
       "    </tr>\n",
       "    <tr>\n",
       "      <td>32557</td>\n",
       "      <td>40</td>\n",
       "      <td>Private</td>\n",
       "      <td>HS-grad</td>\n",
       "      <td>9</td>\n",
       "      <td>Married-civ-spouse</td>\n",
       "      <td>Machine-op-inspct</td>\n",
       "      <td>Husband</td>\n",
       "      <td>White</td>\n",
       "      <td>Male</td>\n",
       "      <td>0</td>\n",
       "      <td>0</td>\n",
       "      <td>40</td>\n",
       "      <td>United-States</td>\n",
       "      <td>&gt;50K</td>\n",
       "    </tr>\n",
       "    <tr>\n",
       "      <td>32558</td>\n",
       "      <td>58</td>\n",
       "      <td>Private</td>\n",
       "      <td>HS-grad</td>\n",
       "      <td>9</td>\n",
       "      <td>Widowed</td>\n",
       "      <td>Adm-clerical</td>\n",
       "      <td>Unmarried</td>\n",
       "      <td>White</td>\n",
       "      <td>Female</td>\n",
       "      <td>0</td>\n",
       "      <td>0</td>\n",
       "      <td>40</td>\n",
       "      <td>United-States</td>\n",
       "      <td>&lt;=50K</td>\n",
       "    </tr>\n",
       "    <tr>\n",
       "      <td>32559</td>\n",
       "      <td>22</td>\n",
       "      <td>Private</td>\n",
       "      <td>HS-grad</td>\n",
       "      <td>9</td>\n",
       "      <td>Never-married</td>\n",
       "      <td>Adm-clerical</td>\n",
       "      <td>Own-child</td>\n",
       "      <td>White</td>\n",
       "      <td>Male</td>\n",
       "      <td>0</td>\n",
       "      <td>0</td>\n",
       "      <td>20</td>\n",
       "      <td>United-States</td>\n",
       "      <td>&lt;=50K</td>\n",
       "    </tr>\n",
       "    <tr>\n",
       "      <td>32560</td>\n",
       "      <td>52</td>\n",
       "      <td>Self-emp-inc</td>\n",
       "      <td>HS-grad</td>\n",
       "      <td>9</td>\n",
       "      <td>Married-civ-spouse</td>\n",
       "      <td>Exec-managerial</td>\n",
       "      <td>Wife</td>\n",
       "      <td>White</td>\n",
       "      <td>Female</td>\n",
       "      <td>15024</td>\n",
       "      <td>0</td>\n",
       "      <td>40</td>\n",
       "      <td>United-States</td>\n",
       "      <td>&gt;50K</td>\n",
       "    </tr>\n",
       "  </tbody>\n",
       "</table>\n",
       "<p>32166 rows × 14 columns</p>\n",
       "</div>"
      ],
      "text/plain": [
       "       age         workclass   education  education-num      marital-status  \\\n",
       "0       39         State-gov   Bachelors             13       Never-married   \n",
       "1       50  Self-emp-not-inc   Bachelors             13  Married-civ-spouse   \n",
       "2       38           Private     HS-grad              9            Divorced   \n",
       "3       53           Private        11th              7  Married-civ-spouse   \n",
       "4       28           Private   Bachelors             13  Married-civ-spouse   \n",
       "...    ...               ...         ...            ...                 ...   \n",
       "32556   27           Private  Assoc-acdm             12  Married-civ-spouse   \n",
       "32557   40           Private     HS-grad              9  Married-civ-spouse   \n",
       "32558   58           Private     HS-grad              9             Widowed   \n",
       "32559   22           Private     HS-grad              9       Never-married   \n",
       "32560   52      Self-emp-inc     HS-grad              9  Married-civ-spouse   \n",
       "\n",
       "              occupation   relationship   race     sex  capital-gain  \\\n",
       "0           Adm-clerical  Not-in-family  White    Male          2174   \n",
       "1        Exec-managerial        Husband  White    Male             0   \n",
       "2      Handlers-cleaners  Not-in-family  White    Male             0   \n",
       "3      Handlers-cleaners        Husband  Black    Male             0   \n",
       "4         Prof-specialty           Wife  Black  Female             0   \n",
       "...                  ...            ...    ...     ...           ...   \n",
       "32556       Tech-support           Wife  White  Female             0   \n",
       "32557  Machine-op-inspct        Husband  White    Male             0   \n",
       "32558       Adm-clerical      Unmarried  White  Female             0   \n",
       "32559       Adm-clerical      Own-child  White    Male             0   \n",
       "32560    Exec-managerial           Wife  White  Female         15024   \n",
       "\n",
       "       capital-loss  hours-per-week native-country makes_over_50K_a_year  \n",
       "0                 0              40  United-States                 <=50K  \n",
       "1                 0              13  United-States                 <=50K  \n",
       "2                 0              40  United-States                 <=50K  \n",
       "3                 0              40  United-States                 <=50K  \n",
       "4                 0              40           Cuba                 <=50K  \n",
       "...             ...             ...            ...                   ...  \n",
       "32556             0              38  United-States                 <=50K  \n",
       "32557             0              40  United-States                  >50K  \n",
       "32558             0              40  United-States                 <=50K  \n",
       "32559             0              20  United-States                 <=50K  \n",
       "32560             0              40  United-States                  >50K  \n",
       "\n",
       "[32166 rows x 14 columns]"
      ]
     },
     "execution_count": 12,
     "metadata": {},
     "output_type": "execute_result"
    }
   ],
   "source": [
    "#не совсем понятно, что за фича, поэтому дропну ее\n",
    "df.drop('fnlwgt',axis = 1)"
   ]
  },
  {
   "cell_type": "code",
   "execution_count": 13,
   "metadata": {},
   "outputs": [
    {
     "name": "stdout",
     "output_type": "stream",
     "text": [
      "['age', 17] 0\n",
      "['occupation', '?'] 1778\n",
      "['workclass', '?'] 1772\n",
      "['capital-gain', 0] 29464\n",
      "['capital-gain', 99999] 159\n",
      "['capital-loss', 0] 30657\n",
      "['native-country', '?'] 581\n"
     ]
    },
    {
     "data": {
      "text/plain": [
       "(32166, 15)"
      ]
     },
     "execution_count": 13,
     "metadata": {},
     "output_type": "execute_result"
    }
   ],
   "source": [
    "to_review = []\n",
    "to_review.append([\"age\", 17]) \n",
    "to_review.append([\"occupation\", \"?\"]) \n",
    "to_review.append([\"workclass\", \"?\"])\n",
    "to_review.append([\"capital-gain\", 0])\n",
    "to_review.append([\"capital-gain\", 99999])\n",
    "to_review.append([\"capital-loss\", 0])\n",
    "to_review.append([\"native-country\", \"?\"])\n",
    "\n",
    "for j in to_review:\n",
    "    print(j, (df[j[0]] == j[1]).sum())\n",
    "df.shape"
   ]
  },
  {
   "cell_type": "code",
   "execution_count": 14,
   "metadata": {},
   "outputs": [
    {
     "name": "stdout",
     "output_type": "stream",
     "text": [
      "['age', 17] 0\n",
      "['occupation', '?'] 1778\n",
      "['workclass', '?'] 1772\n",
      "['capital-gain', 0] 29464\n",
      "['capital-gain', 99999] 159\n",
      "['capital-loss', 0] 30657\n",
      "['native-country', '?'] 581\n"
     ]
    },
    {
     "data": {
      "text/plain": [
       "(32166, 15)"
      ]
     },
     "execution_count": 14,
     "metadata": {},
     "output_type": "execute_result"
    }
   ],
   "source": [
    "df = df[df[\"age\"] >= 18]\n",
    "for j in to_review:\n",
    "    print(j, (df[j[0]] == j[1]).sum())\n",
    "df.shape"
   ]
  },
  {
   "cell_type": "code",
   "execution_count": 15,
   "metadata": {},
   "outputs": [
    {
     "name": "stdout",
     "output_type": "stream",
     "text": [
      "['age', 17] 0\n",
      "['occupation', '?'] 0\n",
      "['workclass', '?'] 0\n",
      "['capital-gain', 0] 27807\n",
      "['capital-gain', 99999] 155\n",
      "['capital-loss', 0] 28937\n",
      "['native-country', '?'] 554\n"
     ]
    },
    {
     "data": {
      "text/plain": [
       "(30388, 15)"
      ]
     },
     "execution_count": 15,
     "metadata": {},
     "output_type": "execute_result"
    }
   ],
   "source": [
    "df = df[df[\"occupation\"] != \"?\"]\n",
    "for j in to_review:\n",
    "    print(j, (df[j[0]] == j[1]).sum())\n",
    "df.shape"
   ]
  },
  {
   "cell_type": "code",
   "execution_count": 16,
   "metadata": {},
   "outputs": [
    {
     "name": "stdout",
     "output_type": "stream",
     "text": [
      "['age', 17] 0\n",
      "['occupation', '?'] 0\n",
      "['workclass', '?'] 0\n",
      "['native-country', '?'] 554\n"
     ]
    },
    {
     "data": {
      "text/plain": [
       "(30388, 13)"
      ]
     },
     "execution_count": 16,
     "metadata": {},
     "output_type": "execute_result"
    }
   ],
   "source": [
    "df.drop(\"capital-gain\", axis=1, inplace=True)\n",
    "to_review.remove(['capital-gain', 0])\n",
    "to_review.remove(['capital-gain', 99999])\n",
    "\n",
    "df.drop(\"capital-loss\", axis=1, inplace=True)\n",
    "to_review.remove(['capital-loss', 0])\n",
    "\n",
    "for j in to_review:\n",
    "    print(j, (df[j[0]] == j[1]).sum())\n",
    "df.shape"
   ]
  },
  {
   "cell_type": "code",
   "execution_count": 17,
   "metadata": {},
   "outputs": [
    {
     "name": "stdout",
     "output_type": "stream",
     "text": [
      "['age', 17] 0\n",
      "['occupation', '?'] 0\n",
      "['workclass', '?'] 0\n",
      "['native-country', '?'] 0\n"
     ]
    },
    {
     "data": {
      "text/plain": [
       "(30388, 13)"
      ]
     },
     "execution_count": 17,
     "metadata": {},
     "output_type": "execute_result"
    }
   ],
   "source": [
    "# to_review.append([\"native-country\", \"?\"]) # можно заменить на other, а можно дропнуть, посмотрим на количество\n",
    "# дропать не будем, заменим на какую-нибудь страну \"Other\"\n",
    "df[\"native-country\"].replace(\"?\", \"Other\", inplace=True)\n",
    "for j in to_review:\n",
    "    print(j, (df[j[0]] == j[1]).sum())\n",
    "df.shape"
   ]
  },
  {
   "cell_type": "code",
   "execution_count": 18,
   "metadata": {},
   "outputs": [
    {
     "name": "stdout",
     "output_type": "stream",
     "text": [
      "age: 71\n",
      "[18 19 20 21 22 23 24 25 26 27 28 29 30 31 32 33 34 35 36 37 38 39 40 41\n",
      " 42 43 44 45 46 47 48 49 50 51 52 53 54 55 56 57 58 59 60 61 62 63 64 65\n",
      " 66 67 68 69 70 71 72 73 74 75 76 77 78 79 80 81 82 83 84 85 86 88 90]\n",
      "\n",
      "workclass: 7\n",
      "['Federal-gov' 'Local-gov' 'Private' 'Self-emp-inc' 'Self-emp-not-inc'\n",
      " 'State-gov' 'Without-pay']\n",
      "\n",
      "fnlwgt: 20197\n",
      "[  13769   14878   18827 ... 1366120 1455435 1484705]\n",
      "\n",
      "education: 16\n",
      "['10th' '11th' '12th' '1st-4th' '5th-6th' '7th-8th' '9th' 'Assoc-acdm'\n",
      " 'Assoc-voc' 'Bachelors' 'Doctorate' 'HS-grad' 'Masters' 'Preschool'\n",
      " 'Prof-school' 'Some-college']\n",
      "\n",
      "education-num: 16\n",
      "[ 1  2  3  4  5  6  7  8  9 10 11 12 13 14 15 16]\n",
      "\n",
      "marital-status: 7\n",
      "['Divorced' 'Married-AF-spouse' 'Married-civ-spouse'\n",
      " 'Married-spouse-absent' 'Never-married' 'Separated' 'Widowed']\n",
      "\n",
      "occupation: 14\n",
      "['Adm-clerical' 'Armed-Forces' 'Craft-repair' 'Exec-managerial'\n",
      " 'Farming-fishing' 'Handlers-cleaners' 'Machine-op-inspct' 'Other-service'\n",
      " 'Priv-house-serv' 'Prof-specialty' 'Protective-serv' 'Sales'\n",
      " 'Tech-support' 'Transport-moving']\n",
      "\n",
      "relationship: 6\n",
      "['Husband' 'Not-in-family' 'Other-relative' 'Own-child' 'Unmarried' 'Wife']\n",
      "\n",
      "race: 5\n",
      "['Amer-Indian-Eskimo' 'Asian-Pac-Islander' 'Black' 'Other' 'White']\n",
      "\n",
      "sex: 2\n",
      "['Female' 'Male']\n",
      "\n",
      "hours-per-week: 94\n",
      "[ 1  2  3  4  5  6  7  8  9 10 11 12 13 14 15 16 17 18 19 20 21 22 23 24\n",
      " 25 26 27 28 29 30 31 32 33 34 35 36 37 38 39 40 41 42 43 44 45 46 47 48\n",
      " 49 50 51 52 53 54 55 56 57 58 59 60 61 62 63 64 65 66 67 68 70 72 73 74\n",
      " 75 76 77 78 80 81 82 84 85 86 87 88 89 90 91 92 94 95 96 97 98 99]\n",
      "\n",
      "native-country: 42\n",
      "['Cambodia' 'Canada' 'China' 'Columbia' 'Cuba' 'Dominican-Republic'\n",
      " 'Ecuador' 'El-Salvador' 'England' 'France' 'Germany' 'Greece' 'Guatemala'\n",
      " 'Haiti' 'Holand-Netherlands' 'Honduras' 'Hong' 'Hungary' 'India' 'Iran'\n",
      " 'Ireland' 'Italy' 'Jamaica' 'Japan' 'Laos' 'Mexico' 'Nicaragua' 'Other'\n",
      " 'Outlying-US(Guam-USVI-etc)' 'Peru' 'Philippines' 'Poland' 'Portugal'\n",
      " 'Puerto-Rico' 'Scotland' 'South' 'Taiwan' 'Thailand' 'Trinadad&Tobago'\n",
      " 'United-States' 'Vietnam' 'Yugoslavia']\n",
      "\n",
      "makes_over_50K_a_year: 2\n",
      "['<=50K' '>50K']\n",
      "\n"
     ]
    }
   ],
   "source": [
    "# еще раз смотрим, все ли значения нас устраивают:\n",
    "for j in df:\n",
    "    uniq = np.unique(df[j].values)\n",
    "    print(j+\": \"+str(len(uniq))+\"\\n\"+str(uniq)+\"\\n\")"
   ]
  },
  {
   "cell_type": "code",
   "execution_count": 19,
   "metadata": {},
   "outputs": [
    {
     "name": "stdout",
     "output_type": "stream",
     "text": [
      "1 -> ['Preschool']\n",
      "2 -> ['1st-4th']\n",
      "3 -> ['5th-6th']\n",
      "4 -> ['7th-8th']\n",
      "5 -> ['9th']\n",
      "6 -> ['10th']\n",
      "7 -> ['11th']\n",
      "8 -> ['12th']\n",
      "9 -> ['HS-grad']\n",
      "10 -> ['Some-college']\n",
      "11 -> ['Assoc-voc']\n",
      "12 -> ['Assoc-acdm']\n",
      "13 -> ['Bachelors']\n",
      "14 -> ['Masters']\n",
      "15 -> ['Prof-school']\n",
      "16 -> ['Doctorate']\n"
     ]
    }
   ],
   "source": [
    "# уже лучше. проверим, совпадают ли \"education\" и \"education-num\"\n",
    "for j in sorted(df[\"education-num\"].unique()):\n",
    "    print(str(j)+\" -> \"+str(df[df[\"education-num\"] == j][\"education\"].unique()))"
   ]
  },
  {
   "cell_type": "code",
   "execution_count": 20,
   "metadata": {},
   "outputs": [
    {
     "data": {
      "text/html": [
       "<div>\n",
       "<style scoped>\n",
       "    .dataframe tbody tr th:only-of-type {\n",
       "        vertical-align: middle;\n",
       "    }\n",
       "\n",
       "    .dataframe tbody tr th {\n",
       "        vertical-align: top;\n",
       "    }\n",
       "\n",
       "    .dataframe thead th {\n",
       "        text-align: right;\n",
       "    }\n",
       "</style>\n",
       "<table border=\"1\" class=\"dataframe\">\n",
       "  <thead>\n",
       "    <tr style=\"text-align: right;\">\n",
       "      <th></th>\n",
       "      <th>age</th>\n",
       "      <th>workclass</th>\n",
       "      <th>fnlwgt</th>\n",
       "      <th>education</th>\n",
       "      <th>marital-status</th>\n",
       "      <th>occupation</th>\n",
       "      <th>relationship</th>\n",
       "      <th>race</th>\n",
       "      <th>sex</th>\n",
       "      <th>hours-per-week</th>\n",
       "      <th>native-country</th>\n",
       "      <th>makes_over_50K_a_year</th>\n",
       "    </tr>\n",
       "  </thead>\n",
       "  <tbody>\n",
       "    <tr>\n",
       "      <td>32556</td>\n",
       "      <td>27</td>\n",
       "      <td>Private</td>\n",
       "      <td>257302</td>\n",
       "      <td>Assoc-acdm</td>\n",
       "      <td>Married-civ-spouse</td>\n",
       "      <td>Tech-support</td>\n",
       "      <td>Wife</td>\n",
       "      <td>White</td>\n",
       "      <td>Female</td>\n",
       "      <td>38</td>\n",
       "      <td>United-States</td>\n",
       "      <td>&lt;=50K</td>\n",
       "    </tr>\n",
       "    <tr>\n",
       "      <td>32557</td>\n",
       "      <td>40</td>\n",
       "      <td>Private</td>\n",
       "      <td>154374</td>\n",
       "      <td>HS-grad</td>\n",
       "      <td>Married-civ-spouse</td>\n",
       "      <td>Machine-op-inspct</td>\n",
       "      <td>Husband</td>\n",
       "      <td>White</td>\n",
       "      <td>Male</td>\n",
       "      <td>40</td>\n",
       "      <td>United-States</td>\n",
       "      <td>&gt;50K</td>\n",
       "    </tr>\n",
       "    <tr>\n",
       "      <td>32558</td>\n",
       "      <td>58</td>\n",
       "      <td>Private</td>\n",
       "      <td>151910</td>\n",
       "      <td>HS-grad</td>\n",
       "      <td>Widowed</td>\n",
       "      <td>Adm-clerical</td>\n",
       "      <td>Unmarried</td>\n",
       "      <td>White</td>\n",
       "      <td>Female</td>\n",
       "      <td>40</td>\n",
       "      <td>United-States</td>\n",
       "      <td>&lt;=50K</td>\n",
       "    </tr>\n",
       "    <tr>\n",
       "      <td>32559</td>\n",
       "      <td>22</td>\n",
       "      <td>Private</td>\n",
       "      <td>201490</td>\n",
       "      <td>HS-grad</td>\n",
       "      <td>Never-married</td>\n",
       "      <td>Adm-clerical</td>\n",
       "      <td>Own-child</td>\n",
       "      <td>White</td>\n",
       "      <td>Male</td>\n",
       "      <td>20</td>\n",
       "      <td>United-States</td>\n",
       "      <td>&lt;=50K</td>\n",
       "    </tr>\n",
       "    <tr>\n",
       "      <td>32560</td>\n",
       "      <td>52</td>\n",
       "      <td>Self-emp-inc</td>\n",
       "      <td>287927</td>\n",
       "      <td>HS-grad</td>\n",
       "      <td>Married-civ-spouse</td>\n",
       "      <td>Exec-managerial</td>\n",
       "      <td>Wife</td>\n",
       "      <td>White</td>\n",
       "      <td>Female</td>\n",
       "      <td>40</td>\n",
       "      <td>United-States</td>\n",
       "      <td>&gt;50K</td>\n",
       "    </tr>\n",
       "  </tbody>\n",
       "</table>\n",
       "</div>"
      ],
      "text/plain": [
       "       age     workclass  fnlwgt   education      marital-status  \\\n",
       "32556   27       Private  257302  Assoc-acdm  Married-civ-spouse   \n",
       "32557   40       Private  154374     HS-grad  Married-civ-spouse   \n",
       "32558   58       Private  151910     HS-grad             Widowed   \n",
       "32559   22       Private  201490     HS-grad       Never-married   \n",
       "32560   52  Self-emp-inc  287927     HS-grad  Married-civ-spouse   \n",
       "\n",
       "              occupation relationship   race     sex  hours-per-week  \\\n",
       "32556       Tech-support         Wife  White  Female              38   \n",
       "32557  Machine-op-inspct      Husband  White    Male              40   \n",
       "32558       Adm-clerical    Unmarried  White  Female              40   \n",
       "32559       Adm-clerical    Own-child  White    Male              20   \n",
       "32560    Exec-managerial         Wife  White  Female              40   \n",
       "\n",
       "      native-country makes_over_50K_a_year  \n",
       "32556  United-States                 <=50K  \n",
       "32557  United-States                  >50K  \n",
       "32558  United-States                 <=50K  \n",
       "32559  United-States                 <=50K  \n",
       "32560  United-States                  >50K  "
      ]
     },
     "execution_count": 20,
     "metadata": {},
     "output_type": "execute_result"
    }
   ],
   "source": [
    "# видно что каждому значению \"education-num\" соответствует единственное значение \"education\"\n",
    "# будем заниматься энкодингом, поэтому что-то нужно дропнуть\n",
    "# т.к. избыточное дублирование существующей информации\n",
    "# для OHE удобнее дропнуть \"education-num\" чтобы проще интерпретировать\n",
    "# но OHE сюда не подходит - слишком сильно увеличится размерность данных\n",
    "# при этом \"education\" выглядит как результат OrdinalEncoder(\"education-num\")\n",
    "# можем оставить, но хочется поперекодировать руками\n",
    "# для этого датасета мне нравится Target Encoder, дает вероятность категории на предоставленной выборке\n",
    "# посему прямо сейчас дропаем \"education-num\" \n",
    "# и немного позже будем делать TargetEncoding(\"education\"), поскольку потребуется делить данные\n",
    "\n",
    "df.drop(\"education-num\", axis=1, inplace=True)\n",
    "df.tail()"
   ]
  },
  {
   "cell_type": "code",
   "execution_count": 21,
   "metadata": {},
   "outputs": [],
   "source": [
    "# похоже что data[\"fnlwgt\"] нужно выкинуть, без разбивки по штатам он бесполезен\n",
    "df.drop(\"fnlwgt\", axis=1, inplace=True)"
   ]
  },
  {
   "cell_type": "code",
   "execution_count": 22,
   "metadata": {
    "scrolled": true
   },
   "outputs": [
    {
     "data": {
      "text/html": [
       "<div>\n",
       "<style scoped>\n",
       "    .dataframe tbody tr th:only-of-type {\n",
       "        vertical-align: middle;\n",
       "    }\n",
       "\n",
       "    .dataframe tbody tr th {\n",
       "        vertical-align: top;\n",
       "    }\n",
       "\n",
       "    .dataframe thead th {\n",
       "        text-align: right;\n",
       "    }\n",
       "</style>\n",
       "<table border=\"1\" class=\"dataframe\">\n",
       "  <thead>\n",
       "    <tr style=\"text-align: right;\">\n",
       "      <th></th>\n",
       "      <th>age</th>\n",
       "      <th>workclass</th>\n",
       "      <th>education</th>\n",
       "      <th>marital-status</th>\n",
       "      <th>occupation</th>\n",
       "      <th>relationship</th>\n",
       "      <th>race</th>\n",
       "      <th>sex</th>\n",
       "      <th>hours-per-week</th>\n",
       "      <th>native-country</th>\n",
       "      <th>makes_over_50K_a_year</th>\n",
       "    </tr>\n",
       "  </thead>\n",
       "  <tbody>\n",
       "    <tr>\n",
       "      <td>32556</td>\n",
       "      <td>27</td>\n",
       "      <td>Private</td>\n",
       "      <td>Assoc-acdm</td>\n",
       "      <td>Married-civ-spouse</td>\n",
       "      <td>Tech-support</td>\n",
       "      <td>Wife</td>\n",
       "      <td>White</td>\n",
       "      <td>0</td>\n",
       "      <td>38</td>\n",
       "      <td>United-States</td>\n",
       "      <td>0</td>\n",
       "    </tr>\n",
       "    <tr>\n",
       "      <td>32557</td>\n",
       "      <td>40</td>\n",
       "      <td>Private</td>\n",
       "      <td>HS-grad</td>\n",
       "      <td>Married-civ-spouse</td>\n",
       "      <td>Machine-op-inspct</td>\n",
       "      <td>Husband</td>\n",
       "      <td>White</td>\n",
       "      <td>1</td>\n",
       "      <td>40</td>\n",
       "      <td>United-States</td>\n",
       "      <td>1</td>\n",
       "    </tr>\n",
       "    <tr>\n",
       "      <td>32558</td>\n",
       "      <td>58</td>\n",
       "      <td>Private</td>\n",
       "      <td>HS-grad</td>\n",
       "      <td>Widowed</td>\n",
       "      <td>Adm-clerical</td>\n",
       "      <td>Unmarried</td>\n",
       "      <td>White</td>\n",
       "      <td>0</td>\n",
       "      <td>40</td>\n",
       "      <td>United-States</td>\n",
       "      <td>0</td>\n",
       "    </tr>\n",
       "    <tr>\n",
       "      <td>32559</td>\n",
       "      <td>22</td>\n",
       "      <td>Private</td>\n",
       "      <td>HS-grad</td>\n",
       "      <td>Never-married</td>\n",
       "      <td>Adm-clerical</td>\n",
       "      <td>Own-child</td>\n",
       "      <td>White</td>\n",
       "      <td>1</td>\n",
       "      <td>20</td>\n",
       "      <td>United-States</td>\n",
       "      <td>0</td>\n",
       "    </tr>\n",
       "    <tr>\n",
       "      <td>32560</td>\n",
       "      <td>52</td>\n",
       "      <td>Self-emp-inc</td>\n",
       "      <td>HS-grad</td>\n",
       "      <td>Married-civ-spouse</td>\n",
       "      <td>Exec-managerial</td>\n",
       "      <td>Wife</td>\n",
       "      <td>White</td>\n",
       "      <td>0</td>\n",
       "      <td>40</td>\n",
       "      <td>United-States</td>\n",
       "      <td>1</td>\n",
       "    </tr>\n",
       "  </tbody>\n",
       "</table>\n",
       "</div>"
      ],
      "text/plain": [
       "       age     workclass   education      marital-status         occupation  \\\n",
       "32556   27       Private  Assoc-acdm  Married-civ-spouse       Tech-support   \n",
       "32557   40       Private     HS-grad  Married-civ-spouse  Machine-op-inspct   \n",
       "32558   58       Private     HS-grad             Widowed       Adm-clerical   \n",
       "32559   22       Private     HS-grad       Never-married       Adm-clerical   \n",
       "32560   52  Self-emp-inc     HS-grad  Married-civ-spouse    Exec-managerial   \n",
       "\n",
       "      relationship   race  sex  hours-per-week native-country  \\\n",
       "32556         Wife  White    0              38  United-States   \n",
       "32557      Husband  White    1              40  United-States   \n",
       "32558    Unmarried  White    0              40  United-States   \n",
       "32559    Own-child  White    1              20  United-States   \n",
       "32560         Wife  White    0              40  United-States   \n",
       "\n",
       "       makes_over_50K_a_year  \n",
       "32556                      0  \n",
       "32557                      1  \n",
       "32558                      0  \n",
       "32559                      0  \n",
       "32560                      1  "
      ]
     },
     "execution_count": 22,
     "metadata": {},
     "output_type": "execute_result"
    }
   ],
   "source": [
    "# а пока что OHE, есть пара удобных атрибутов \n",
    "# уже существующие бинарные параметры меняем с помощью lambda-функции:\n",
    "#\n",
    "# sex: 2\n",
    "# ['Female' 'Male']\n",
    "#\n",
    "# makes_over_50K_a_year: 2\n",
    "# ['<=50K' '>50K']\n",
    "\n",
    "df[\"sex\"] = df[\"sex\"].apply(lambda x: 1 if x=='Male' else 0)\n",
    "df[\"makes_over_50K_a_year\"] = df[\"makes_over_50K_a_year\"].apply(lambda x: 1 if x=='>50K' else 0)\n",
    "df.tail()"
   ]
  },
  {
   "cell_type": "code",
   "execution_count": 23,
   "metadata": {},
   "outputs": [
    {
     "name": "stdout",
     "output_type": "stream",
     "text": [
      "age: 71\n",
      "[18 19 20 21 22 23 24 25 26 27 28 29 30 31 32 33 34 35 36 37 38 39 40 41\n",
      " 42 43 44 45 46 47 48 49 50 51 52 53 54 55 56 57 58 59 60 61 62 63 64 65\n",
      " 66 67 68 69 70 71 72 73 74 75 76 77 78 79 80 81 82 83 84 85 86 88 90]\n",
      "\n",
      "workclass: 7\n",
      "['Federal-gov' 'Local-gov' 'Private' 'Self-emp-inc' 'Self-emp-not-inc'\n",
      " 'State-gov' 'Without-pay']\n",
      "\n",
      "education: 16\n",
      "['10th' '11th' '12th' '1st-4th' '5th-6th' '7th-8th' '9th' 'Assoc-acdm'\n",
      " 'Assoc-voc' 'Bachelors' 'Doctorate' 'HS-grad' 'Masters' 'Preschool'\n",
      " 'Prof-school' 'Some-college']\n",
      "\n",
      "marital-status: 7\n",
      "['Divorced' 'Married-AF-spouse' 'Married-civ-spouse'\n",
      " 'Married-spouse-absent' 'Never-married' 'Separated' 'Widowed']\n",
      "\n",
      "occupation: 14\n",
      "['Adm-clerical' 'Armed-Forces' 'Craft-repair' 'Exec-managerial'\n",
      " 'Farming-fishing' 'Handlers-cleaners' 'Machine-op-inspct' 'Other-service'\n",
      " 'Priv-house-serv' 'Prof-specialty' 'Protective-serv' 'Sales'\n",
      " 'Tech-support' 'Transport-moving']\n",
      "\n",
      "relationship: 6\n",
      "['Husband' 'Not-in-family' 'Other-relative' 'Own-child' 'Unmarried' 'Wife']\n",
      "\n",
      "race: 5\n",
      "['Amer-Indian-Eskimo' 'Asian-Pac-Islander' 'Black' 'Other' 'White']\n",
      "\n",
      "sex: 2\n",
      "[0 1]\n",
      "\n",
      "hours-per-week: 94\n",
      "[ 1  2  3  4  5  6  7  8  9 10 11 12 13 14 15 16 17 18 19 20 21 22 23 24\n",
      " 25 26 27 28 29 30 31 32 33 34 35 36 37 38 39 40 41 42 43 44 45 46 47 48\n",
      " 49 50 51 52 53 54 55 56 57 58 59 60 61 62 63 64 65 66 67 68 70 72 73 74\n",
      " 75 76 77 78 80 81 82 84 85 86 87 88 89 90 91 92 94 95 96 97 98 99]\n",
      "\n",
      "native-country: 42\n",
      "['Cambodia' 'Canada' 'China' 'Columbia' 'Cuba' 'Dominican-Republic'\n",
      " 'Ecuador' 'El-Salvador' 'England' 'France' 'Germany' 'Greece' 'Guatemala'\n",
      " 'Haiti' 'Holand-Netherlands' 'Honduras' 'Hong' 'Hungary' 'India' 'Iran'\n",
      " 'Ireland' 'Italy' 'Jamaica' 'Japan' 'Laos' 'Mexico' 'Nicaragua' 'Other'\n",
      " 'Outlying-US(Guam-USVI-etc)' 'Peru' 'Philippines' 'Poland' 'Portugal'\n",
      " 'Puerto-Rico' 'Scotland' 'South' 'Taiwan' 'Thailand' 'Trinadad&Tobago'\n",
      " 'United-States' 'Vietnam' 'Yugoslavia']\n",
      "\n",
      "makes_over_50K_a_year: 2\n",
      "[0 1]\n",
      "\n"
     ]
    }
   ],
   "source": [
    "# посмотрим что OHE хорошо все перекодировал\n",
    "for j in df:\n",
    "    uniq = np.unique(df[j].values)\n",
    "    print(j+\": \"+str(len(uniq))+\"\\n\"+str(uniq)+\"\\n\")"
   ]
  },
  {
   "cell_type": "code",
   "execution_count": 24,
   "metadata": {},
   "outputs": [
    {
     "data": {
      "image/png": "[encoded data removed]",
      "text/plain": [
       "<Figure size 1440x1440 with 4 Axes>"
      ]
     },
     "metadata": {
      "needs_background": "dark"
     },
     "output_type": "display_data"
    }
   ],
   "source": [
    "# теперь посмотрим на гистограммы и выбросы по имеющимся цифрам\n",
    "df.hist(figsize=(20,20));\n"
   ]
  },
  {
   "cell_type": "code",
   "execution_count": 25,
   "metadata": {},
   "outputs": [
    {
     "data": {
      "image/png": "[encoded data removed]",
      "text/plain": [
       "<Figure size 432x288 with 1 Axes>"
      ]
     },
     "metadata": {
      "needs_background": "dark"
     },
     "output_type": "display_data"
    },
    {
     "data": {
      "image/png": "[encoded data removed]",
      "text/plain": [
       "<Figure size 432x288 with 1 Axes>"
      ]
     },
     "metadata": {
      "needs_background": "dark"
     },
     "output_type": "display_data"
    },
    {
     "data": {
      "image/png": "[encoded data removed]",
      "text/plain": [
       "<Figure size 432x288 with 1 Axes>"
      ]
     },
     "metadata": {
      "needs_background": "dark"
     },
     "output_type": "display_data"
    },
    {
     "data": {
      "image/png": "[encoded data removed]",
      "text/plain": [
       "<Figure size 432x288 with 1 Axes>"
      ]
     },
     "metadata": {
      "needs_background": "dark"
     },
     "output_type": "display_data"
    }
   ],
   "source": [
    "# посмотрим на boxplot\n",
    "for j in df.loc[:, df.dtypes != np.object].columns.values:\n",
    "    plt.figure()\n",
    "    plt.title(j)\n",
    "    sns.boxplot(data=df[j])"
   ]
  },
  {
   "cell_type": "code",
   "execution_count": 26,
   "metadata": {},
   "outputs": [
    {
     "name": "stdout",
     "output_type": "stream",
     "text": [
      "Количество выбросов в данных: 0\n",
      "Доля выбросов: 0.0\n",
      "Верхняя граница: 104.0 \n",
      "Нижняя граница: -29.0\n"
     ]
    }
   ],
   "source": [
    "# отлично, можем смотреть на \"age\" и \"hours-per-week\"\n",
    "# ищем выбросы\n",
    "# варианты: \n",
    "# - границы в абсолютных значениях\n",
    "# - интерквартильное расстояние (IQR)\n",
    "# - cреднее-среднеквадратичное отклонение \n",
    "# - Медианы абсолютного отклонения (MAD)\n",
    "# сегодня мне нравится интерквартильное расстояние, хотя на практике стоит перебрать все варианты.\n",
    "\n",
    "# опять пришлось модифицировать предложенную формулу\n",
    "def outlier_detect_IQR(df,col,threshold=3):    \n",
    "    IQR = df[col].quantile(0.75) - df[col].quantile(0.25)\n",
    "    Lower_fence = df[col].quantile(0.25) - (IQR * threshold)\n",
    "    Upper_fence = df[col].quantile(0.75) + (IQR * threshold)\n",
    "    para = (Upper_fence, Lower_fence)\n",
    "    tmp = pd.concat([df[col]>Upper_fence,df[col]<Lower_fence],axis=1)\n",
    "    outlier_index = tmp.any(axis=1)\n",
    "    #print('Количество выбросов в данных:', outlier_index.value_counts()[1])\n",
    "    # везде outlier_index.value_counts()[1] -> outlier_index.sum()\n",
    "    print('Количество выбросов в данных:', outlier_index.sum())\n",
    "    print('Доля выбросов:', outlier_index.sum()/len(df)) # и тут на ноль больше не делим\n",
    "    return outlier_index, para\n",
    "\n",
    "# для возраста\n",
    "index,para = outlier_detect_IQR(df=df,col=\"age\",threshold=3)\n",
    "print('Верхняя граница:', para[0],'\\nНижняя граница:',para[1])"
   ]
  },
  {
   "cell_type": "code",
   "execution_count": 27,
   "metadata": {},
   "outputs": [
    {
     "name": "stdout",
     "output_type": "stream",
     "text": [
      "Количество выбросов в данных: 610\n",
      "Доля выбросов: 0.02007371330788469\n",
      "Верхняя граница: 75.0 \n",
      "Нижняя граница: 10.0\n",
      "(30388, 11)\n"
     ]
    }
   ],
   "source": [
    "# по \"age\" сильных выбросов нет, не трогаем\n",
    "# по \"hours-per-week\": threshold=3 дает много выбросов:\n",
    "#\n",
    "# Количество выбросов в данных: 3557\n",
    "# Доля выбросов: 0.11705278399368171\n",
    "# Верхняя граница: 60.0 \n",
    "# Нижняя граница: 25.0\n",
    "#\n",
    "# поэтому будем расширять /// либо надо использовать другой способ\n",
    "\n",
    "# для часов в неделю\n",
    "index,para = outlier_detect_IQR(df=df,col=\"hours-per-week\",threshold=6) \n",
    "print('Верхняя граница:',para[0],'\\nНижняя граница:',para[1])\n",
    "print(df.shape)\n",
    "\n",
    "# запишем в новую переменную\n",
    "df_iqr = df.drop(df.loc[index].index)"
   ]
  },
  {
   "cell_type": "code",
   "execution_count": 28,
   "metadata": {},
   "outputs": [
    {
     "data": {
      "text/html": [
       "<div>\n",
       "<style scoped>\n",
       "    .dataframe tbody tr th:only-of-type {\n",
       "        vertical-align: middle;\n",
       "    }\n",
       "\n",
       "    .dataframe tbody tr th {\n",
       "        vertical-align: top;\n",
       "    }\n",
       "\n",
       "    .dataframe thead th {\n",
       "        text-align: right;\n",
       "    }\n",
       "</style>\n",
       "<table border=\"1\" class=\"dataframe\">\n",
       "  <thead>\n",
       "    <tr style=\"text-align: right;\">\n",
       "      <th></th>\n",
       "      <th>workclass</th>\n",
       "      <th>education</th>\n",
       "      <th>marital-status</th>\n",
       "      <th>occupation</th>\n",
       "      <th>relationship</th>\n",
       "      <th>race</th>\n",
       "      <th>native-country</th>\n",
       "    </tr>\n",
       "  </thead>\n",
       "  <tbody>\n",
       "    <tr>\n",
       "      <td>32556</td>\n",
       "      <td>Private</td>\n",
       "      <td>Assoc-acdm</td>\n",
       "      <td>Married-civ-spouse</td>\n",
       "      <td>Tech-support</td>\n",
       "      <td>Wife</td>\n",
       "      <td>White</td>\n",
       "      <td>United-States</td>\n",
       "    </tr>\n",
       "    <tr>\n",
       "      <td>32557</td>\n",
       "      <td>Private</td>\n",
       "      <td>HS-grad</td>\n",
       "      <td>Married-civ-spouse</td>\n",
       "      <td>Machine-op-inspct</td>\n",
       "      <td>Husband</td>\n",
       "      <td>White</td>\n",
       "      <td>United-States</td>\n",
       "    </tr>\n",
       "    <tr>\n",
       "      <td>32558</td>\n",
       "      <td>Private</td>\n",
       "      <td>HS-grad</td>\n",
       "      <td>Widowed</td>\n",
       "      <td>Adm-clerical</td>\n",
       "      <td>Unmarried</td>\n",
       "      <td>White</td>\n",
       "      <td>United-States</td>\n",
       "    </tr>\n",
       "    <tr>\n",
       "      <td>32559</td>\n",
       "      <td>Private</td>\n",
       "      <td>HS-grad</td>\n",
       "      <td>Never-married</td>\n",
       "      <td>Adm-clerical</td>\n",
       "      <td>Own-child</td>\n",
       "      <td>White</td>\n",
       "      <td>United-States</td>\n",
       "    </tr>\n",
       "    <tr>\n",
       "      <td>32560</td>\n",
       "      <td>Self-emp-inc</td>\n",
       "      <td>HS-grad</td>\n",
       "      <td>Married-civ-spouse</td>\n",
       "      <td>Exec-managerial</td>\n",
       "      <td>Wife</td>\n",
       "      <td>White</td>\n",
       "      <td>United-States</td>\n",
       "    </tr>\n",
       "  </tbody>\n",
       "</table>\n",
       "</div>"
      ],
      "text/plain": [
       "          workclass   education      marital-status         occupation  \\\n",
       "32556       Private  Assoc-acdm  Married-civ-spouse       Tech-support   \n",
       "32557       Private     HS-grad  Married-civ-spouse  Machine-op-inspct   \n",
       "32558       Private     HS-grad             Widowed       Adm-clerical   \n",
       "32559       Private     HS-grad       Never-married       Adm-clerical   \n",
       "32560  Self-emp-inc     HS-grad  Married-civ-spouse    Exec-managerial   \n",
       "\n",
       "      relationship   race native-country  \n",
       "32556         Wife  White  United-States  \n",
       "32557      Husband  White  United-States  \n",
       "32558    Unmarried  White  United-States  \n",
       "32559    Own-child  White  United-States  \n",
       "32560         Wife  White  United-States  "
      ]
     },
     "execution_count": 28,
     "metadata": {},
     "output_type": "execute_result"
    }
   ],
   "source": [
    "# Ok, поскольку непрерывные атрибуты потрогали, теперь можно в энкодинг вот этих атрибутов\n",
    "objects = df_iqr.loc[:, df_iqr.dtypes == np.object]\n",
    "objects.tail(5)"
   ]
  },
  {
   "cell_type": "code",
   "execution_count": 29,
   "metadata": {},
   "outputs": [
    {
     "name": "stdout",
     "output_type": "stream",
     "text": [
      "workclass: 7\n",
      "education: 16\n",
      "marital-status: 7\n",
      "occupation: 14\n",
      "relationship: 6\n",
      "race: 5\n",
      "native-country: 42\n"
     ]
    }
   ],
   "source": [
    "# Посмотрим на разнообразие:\n",
    "object_classes = []\n",
    "for j in objects.columns.values: \n",
    "    print(j+\":\", np.unique(df_iqr[j]).size)\n",
    "    object_classes.append(j)"
   ]
  },
  {
   "cell_type": "code",
   "execution_count": 30,
   "metadata": {},
   "outputs": [
    {
     "data": {
      "text/plain": [
       "((20844, 10), (8934, 10))"
      ]
     },
     "execution_count": 30,
     "metadata": {},
     "output_type": "execute_result"
    }
   ],
   "source": [
    "# Для OHE слишком велико разнообразие\n",
    "# Из лекций знаем про Ordinal, Target, WOE\n",
    "# для любого из них нужно бить датасет на train/test\n",
    "# иначе в train попадет информация из теста\n",
    "# и модель будет слишком оптимистичной\n",
    "# - Ordinal для классификации мне не нравится\n",
    "# - Target подходит лучше - вероятностное распределение по категориям в выборке\n",
    "# - WOE хорош именно для logit, для каждой категории ln(hit/target)\n",
    "# в нашем случае как раз логистическая регрессия, берем WOE\n",
    "\n",
    "x_train, x_test, y_train, y_test = train_test_split(\n",
    "    df_iqr.drop([\"makes_over_50K_a_year\"], axis=1), # кроме целевого значения\n",
    "    df_iqr[\"makes_over_50K_a_year\"], # только целевое значение, его предсказываем\n",
    "    test_size=0.3, # 30% на тесты\n",
    "    random_state=13, # повторяемая рандомность №13 (число произвольное)\n",
    "    stratify=df_iqr[\"makes_over_50K_a_year\"] # бьем чтобы в тест попало пропорциональное число с True/False\n",
    ")\n",
    "\n",
    "x_train.shape, x_test.shape"
   ]
  },
  {
   "cell_type": "code",
   "execution_count": 31,
   "metadata": {},
   "outputs": [
    {
     "name": "stdout",
     "output_type": "stream",
     "text": [
      "age: 71\n",
      "[18 19 20 21 22 23 24 25 26 27 28 29 30 31 32 33 34 35 36 37 38 39 40 41\n",
      " 42 43 44 45 46 47 48 49 50 51 52 53 54 55 56 57 58 59 60 61 62 63 64 65\n",
      " 66 67 68 69 70 71 72 73 74 75 76 77 78 79 80 81 82 83 84 85 86 88 90]\n",
      "\n",
      "hours-per-week: 64\n",
      "[10 11 12 13 14 15 16 17 18 19 20 21 22 23 24 25 26 27 28 29 30 31 32 33\n",
      " 34 35 36 37 38 39 40 41 42 43 44 45 46 47 48 49 50 51 52 53 54 55 56 57\n",
      " 58 59 60 61 62 63 64 65 66 67 68 70 72 73 74 75]\n",
      "\n"
     ]
    }
   ],
   "source": [
    "# scaling https://scikit-learn.org/stable/auto_examples/preprocessing/plot_all_scaling.html\n",
    "# StandardScaler плох при выбросах, не приводит к одной шкале\n",
    "# MinMaxScaler приводит к [0,1] но тоже плох при выбросах\n",
    "# RobustScaler == StandartScaler только по интерквантильному расстоянию, а не по M/D\n",
    "# В идеале нужно аккуратно причесать все выбросы и использовать scaler + transformer\n",
    "# но выбросы уже убрали а про трансформеры не знаем\n",
    "# в текущей задаче нужно скейлить два параметра: \"age\", \"hours-per-week\"\n",
    "\n",
    "# age\n",
    "uniq = np.unique(df_iqr[\"age\"].values)\n",
    "print(\"age\"+\": \"+str(len(uniq))+\"\\n\"+str(uniq)+\"\\n\")\n",
    "# hours-per-week\n",
    "uniq = np.unique(df_iqr[\"hours-per-week\"].values)\n",
    "print(\"hours-per-week\"+\": \"+str(len(uniq))+\"\\n\"+str(uniq)+\"\\n\")"
   ]
  },
  {
   "cell_type": "code",
   "execution_count": 32,
   "metadata": {},
   "outputs": [
    {
     "data": {
      "text/html": [
       "<div>\n",
       "<style scoped>\n",
       "    .dataframe tbody tr th:only-of-type {\n",
       "        vertical-align: middle;\n",
       "    }\n",
       "\n",
       "    .dataframe tbody tr th {\n",
       "        vertical-align: top;\n",
       "    }\n",
       "\n",
       "    .dataframe thead th {\n",
       "        text-align: right;\n",
       "    }\n",
       "</style>\n",
       "<table border=\"1\" class=\"dataframe\">\n",
       "  <thead>\n",
       "    <tr style=\"text-align: right;\">\n",
       "      <th></th>\n",
       "      <th>age</th>\n",
       "      <th>workclass</th>\n",
       "      <th>education</th>\n",
       "      <th>marital-status</th>\n",
       "      <th>occupation</th>\n",
       "      <th>relationship</th>\n",
       "      <th>race</th>\n",
       "      <th>sex</th>\n",
       "      <th>hours-per-week</th>\n",
       "      <th>native-country</th>\n",
       "    </tr>\n",
       "  </thead>\n",
       "  <tbody>\n",
       "    <tr>\n",
       "      <td>13538</td>\n",
       "      <td>-0.824349</td>\n",
       "      <td>Private</td>\n",
       "      <td>10th</td>\n",
       "      <td>Never-married</td>\n",
       "      <td>Machine-op-inspct</td>\n",
       "      <td>Own-child</td>\n",
       "      <td>White</td>\n",
       "      <td>0</td>\n",
       "      <td>-0.099555</td>\n",
       "      <td>United-States</td>\n",
       "    </tr>\n",
       "    <tr>\n",
       "      <td>30710</td>\n",
       "      <td>-0.280616</td>\n",
       "      <td>Private</td>\n",
       "      <td>HS-grad</td>\n",
       "      <td>Divorced</td>\n",
       "      <td>Other-service</td>\n",
       "      <td>Not-in-family</td>\n",
       "      <td>White</td>\n",
       "      <td>0</td>\n",
       "      <td>-0.587842</td>\n",
       "      <td>United-States</td>\n",
       "    </tr>\n",
       "    <tr>\n",
       "      <td>14829</td>\n",
       "      <td>0.573821</td>\n",
       "      <td>Private</td>\n",
       "      <td>Assoc-voc</td>\n",
       "      <td>Divorced</td>\n",
       "      <td>Sales</td>\n",
       "      <td>Unmarried</td>\n",
       "      <td>White</td>\n",
       "      <td>0</td>\n",
       "      <td>-0.099555</td>\n",
       "      <td>United-States</td>\n",
       "    </tr>\n",
       "    <tr>\n",
       "      <td>13531</td>\n",
       "      <td>0.884525</td>\n",
       "      <td>Private</td>\n",
       "      <td>HS-grad</td>\n",
       "      <td>Married-civ-spouse</td>\n",
       "      <td>Craft-repair</td>\n",
       "      <td>Husband</td>\n",
       "      <td>White</td>\n",
       "      <td>1</td>\n",
       "      <td>-0.099555</td>\n",
       "      <td>United-States</td>\n",
       "    </tr>\n",
       "    <tr>\n",
       "      <td>12758</td>\n",
       "      <td>0.651497</td>\n",
       "      <td>Private</td>\n",
       "      <td>Masters</td>\n",
       "      <td>Married-civ-spouse</td>\n",
       "      <td>Adm-clerical</td>\n",
       "      <td>Wife</td>\n",
       "      <td>White</td>\n",
       "      <td>0</td>\n",
       "      <td>-0.294870</td>\n",
       "      <td>United-States</td>\n",
       "    </tr>\n",
       "  </tbody>\n",
       "</table>\n",
       "</div>"
      ],
      "text/plain": [
       "            age workclass  education      marital-status         occupation  \\\n",
       "13538 -0.824349   Private       10th       Never-married  Machine-op-inspct   \n",
       "30710 -0.280616   Private    HS-grad            Divorced      Other-service   \n",
       "14829  0.573821   Private  Assoc-voc            Divorced              Sales   \n",
       "13531  0.884525   Private    HS-grad  Married-civ-spouse       Craft-repair   \n",
       "12758  0.651497   Private    Masters  Married-civ-spouse       Adm-clerical   \n",
       "\n",
       "        relationship   race  sex  hours-per-week native-country  \n",
       "13538      Own-child  White    0       -0.099555  United-States  \n",
       "30710  Not-in-family  White    0       -0.587842  United-States  \n",
       "14829      Unmarried  White    0       -0.099555  United-States  \n",
       "13531        Husband  White    1       -0.099555  United-States  \n",
       "12758           Wife  White    0       -0.294870  United-States  "
      ]
     },
     "execution_count": 32,
     "metadata": {},
     "output_type": "execute_result"
    }
   ],
   "source": [
    "# это примерно одинаковые шкалы, с убранными выбросами и с похожими boxplot'ами\n",
    "# можно пробовать StandardScaler на обеих\n",
    "x_train_scaled = x_train.copy(deep=True)\n",
    "x_test_scaled = x_test.copy(deep=True)\n",
    "age_scaler = StandardScaler().fit(x_train[[\"age\"]])\n",
    "hpw_scaler = StandardScaler().fit(x_train[[\"hours-per-week\"]])\n",
    "\n",
    "x_train_scaled[\"age\"] = age_scaler.transform(x_train_scaled[[\"age\"]])\n",
    "x_train_scaled[\"hours-per-week\"] = hpw_scaler.transform(x_train_scaled[[\"hours-per-week\"]])\n",
    "\n",
    "# # # # # # # # # # # # # # #\n",
    "# вот тут все правильно? fit на train и transform на test?\n",
    "x_test_scaled[\"age\"] = age_scaler.transform(x_test_scaled[[\"age\"]])\n",
    "x_test_scaled[\"hours-per-week\"] = hpw_scaler.transform(x_test_scaled[[\"hours-per-week\"]])\n",
    "# # # # # # # # # # # # # # #\n",
    "\n",
    "x_train_scaled.tail()"
   ]
  },
  {
   "cell_type": "code",
   "execution_count": 33,
   "metadata": {},
   "outputs": [
    {
     "name": "stdout",
     "output_type": "stream",
     "text": [
      "['workclass' 'education' 'marital-status' 'occupation' 'relationship'\n",
      " 'race' 'native-country']\n"
     ]
    }
   ],
   "source": [
    "print(objects.columns.values)"
   ]
  },
  {
   "cell_type": "code",
   "execution_count": 34,
   "metadata": {},
   "outputs": [
    {
     "data": {
      "text/html": [
       "<div>\n",
       "<style scoped>\n",
       "    .dataframe tbody tr th:only-of-type {\n",
       "        vertical-align: middle;\n",
       "    }\n",
       "\n",
       "    .dataframe tbody tr th {\n",
       "        vertical-align: top;\n",
       "    }\n",
       "\n",
       "    .dataframe thead th {\n",
       "        text-align: right;\n",
       "    }\n",
       "</style>\n",
       "<table border=\"1\" class=\"dataframe\">\n",
       "  <thead>\n",
       "    <tr style=\"text-align: right;\">\n",
       "      <th></th>\n",
       "      <th>age</th>\n",
       "      <th>workclass</th>\n",
       "      <th>education</th>\n",
       "      <th>marital-status</th>\n",
       "      <th>occupation</th>\n",
       "      <th>relationship</th>\n",
       "      <th>race</th>\n",
       "      <th>sex</th>\n",
       "      <th>hours-per-week</th>\n",
       "      <th>native-country</th>\n",
       "    </tr>\n",
       "  </thead>\n",
       "  <tbody>\n",
       "    <tr>\n",
       "      <td>12783</td>\n",
       "      <td>-1.290405</td>\n",
       "      <td>-0.175015</td>\n",
       "      <td>-1.927893</td>\n",
       "      <td>-1.819630</td>\n",
       "      <td>-0.105412</td>\n",
       "      <td>-0.996787</td>\n",
       "      <td>0.085538</td>\n",
       "      <td>1</td>\n",
       "      <td>-0.099555</td>\n",
       "      <td>-1.263733</td>\n",
       "    </tr>\n",
       "    <tr>\n",
       "      <td>19120</td>\n",
       "      <td>0.806849</td>\n",
       "      <td>-0.175015</td>\n",
       "      <td>-0.529195</td>\n",
       "      <td>0.900294</td>\n",
       "      <td>-0.105412</td>\n",
       "      <td>0.908941</td>\n",
       "      <td>0.085538</td>\n",
       "      <td>1</td>\n",
       "      <td>0.388732</td>\n",
       "      <td>0.030498</td>\n",
       "    </tr>\n",
       "    <tr>\n",
       "      <td>7231</td>\n",
       "      <td>-0.668996</td>\n",
       "      <td>-0.175015</td>\n",
       "      <td>-0.300280</td>\n",
       "      <td>-1.019241</td>\n",
       "      <td>0.142059</td>\n",
       "      <td>-3.138301</td>\n",
       "      <td>0.085538</td>\n",
       "      <td>1</td>\n",
       "      <td>-0.099555</td>\n",
       "      <td>0.030498</td>\n",
       "    </tr>\n",
       "    <tr>\n",
       "      <td>14166</td>\n",
       "      <td>1.272905</td>\n",
       "      <td>-0.175015</td>\n",
       "      <td>-0.529195</td>\n",
       "      <td>-1.019241</td>\n",
       "      <td>1.041952</td>\n",
       "      <td>-0.996787</td>\n",
       "      <td>0.085538</td>\n",
       "      <td>0</td>\n",
       "      <td>-0.099555</td>\n",
       "      <td>0.030498</td>\n",
       "    </tr>\n",
       "    <tr>\n",
       "      <td>23093</td>\n",
       "      <td>-1.212729</td>\n",
       "      <td>-0.175015</td>\n",
       "      <td>-0.300280</td>\n",
       "      <td>0.900294</td>\n",
       "      <td>0.142059</td>\n",
       "      <td>0.908941</td>\n",
       "      <td>0.085538</td>\n",
       "      <td>1</td>\n",
       "      <td>-0.099555</td>\n",
       "      <td>0.030498</td>\n",
       "    </tr>\n",
       "  </tbody>\n",
       "</table>\n",
       "</div>"
      ],
      "text/plain": [
       "            age  workclass  education  marital-status  occupation  \\\n",
       "12783 -1.290405  -0.175015  -1.927893       -1.819630   -0.105412   \n",
       "19120  0.806849  -0.175015  -0.529195        0.900294   -0.105412   \n",
       "7231  -0.668996  -0.175015  -0.300280       -1.019241    0.142059   \n",
       "14166  1.272905  -0.175015  -0.529195       -1.019241    1.041952   \n",
       "23093 -1.212729  -0.175015  -0.300280        0.900294    0.142059   \n",
       "\n",
       "       relationship      race  sex  hours-per-week  native-country  \n",
       "12783     -0.996787  0.085538    1       -0.099555       -1.263733  \n",
       "19120      0.908941  0.085538    1        0.388732        0.030498  \n",
       "7231      -3.138301  0.085538    1       -0.099555        0.030498  \n",
       "14166     -0.996787  0.085538    0       -0.099555        0.030498  \n",
       "23093      0.908941  0.085538    1       -0.099555        0.030498  "
      ]
     },
     "execution_count": 34,
     "metadata": {},
     "output_type": "execute_result"
    }
   ],
   "source": [
    "# нормализовали числовые, теперь энкодинг категориальных\n",
    "# уже определились что берем WOE\n",
    "\n",
    "woe_enc = ce.WOEEncoder(cols=objects.columns.values).fit(x_train_scaled,y_train)\n",
    "x_train_scaled = woe_enc.transform(x_train_scaled)\n",
    "x_test_scaled = woe_enc.transform(x_test_scaled)\n",
    "x_train_scaled.head()"
   ]
  },
  {
   "cell_type": "code",
   "execution_count": 35,
   "metadata": {
    "scrolled": true
   },
   "outputs": [
    {
     "data": {
      "text/html": [
       "<div>\n",
       "<style scoped>\n",
       "    .dataframe tbody tr th:only-of-type {\n",
       "        vertical-align: middle;\n",
       "    }\n",
       "\n",
       "    .dataframe tbody tr th {\n",
       "        vertical-align: top;\n",
       "    }\n",
       "\n",
       "    .dataframe thead th {\n",
       "        text-align: right;\n",
       "    }\n",
       "</style>\n",
       "<table border=\"1\" class=\"dataframe\">\n",
       "  <thead>\n",
       "    <tr style=\"text-align: right;\">\n",
       "      <th></th>\n",
       "      <th>age</th>\n",
       "      <th>workclass</th>\n",
       "      <th>education</th>\n",
       "      <th>marital-status</th>\n",
       "      <th>occupation</th>\n",
       "      <th>relationship</th>\n",
       "      <th>race</th>\n",
       "      <th>sex</th>\n",
       "      <th>hours-per-week</th>\n",
       "      <th>native-country</th>\n",
       "    </tr>\n",
       "  </thead>\n",
       "  <tbody>\n",
       "    <tr>\n",
       "      <td>23259</td>\n",
       "      <td>-0.746673</td>\n",
       "      <td>0.190240</td>\n",
       "      <td>-0.529195</td>\n",
       "      <td>0.900294</td>\n",
       "      <td>-0.105412</td>\n",
       "      <td>0.908941</td>\n",
       "      <td>0.085538</td>\n",
       "      <td>1</td>\n",
       "      <td>-0.392527</td>\n",
       "      <td>0.030498</td>\n",
       "    </tr>\n",
       "    <tr>\n",
       "      <td>23555</td>\n",
       "      <td>-1.368081</td>\n",
       "      <td>-0.175015</td>\n",
       "      <td>-0.300280</td>\n",
       "      <td>-1.819630</td>\n",
       "      <td>-0.330988</td>\n",
       "      <td>-3.138301</td>\n",
       "      <td>0.085538</td>\n",
       "      <td>1</td>\n",
       "      <td>-1.076130</td>\n",
       "      <td>0.030498</td>\n",
       "    </tr>\n",
       "    <tr>\n",
       "      <td>25199</td>\n",
       "      <td>-0.047588</td>\n",
       "      <td>-0.175015</td>\n",
       "      <td>-0.300280</td>\n",
       "      <td>-1.819630</td>\n",
       "      <td>-1.992450</td>\n",
       "      <td>-0.996787</td>\n",
       "      <td>0.085538</td>\n",
       "      <td>1</td>\n",
       "      <td>-0.099555</td>\n",
       "      <td>0.030498</td>\n",
       "    </tr>\n",
       "    <tr>\n",
       "      <td>12655</td>\n",
       "      <td>-0.202940</td>\n",
       "      <td>1.326053</td>\n",
       "      <td>-0.529195</td>\n",
       "      <td>0.900294</td>\n",
       "      <td>1.041952</td>\n",
       "      <td>0.908941</td>\n",
       "      <td>0.085538</td>\n",
       "      <td>1</td>\n",
       "      <td>0.877020</td>\n",
       "      <td>0.070491</td>\n",
       "    </tr>\n",
       "    <tr>\n",
       "      <td>4702</td>\n",
       "      <td>-1.601109</td>\n",
       "      <td>-0.175015</td>\n",
       "      <td>-0.529195</td>\n",
       "      <td>-1.819630</td>\n",
       "      <td>0.142059</td>\n",
       "      <td>-3.138301</td>\n",
       "      <td>0.085538</td>\n",
       "      <td>0</td>\n",
       "      <td>-2.540992</td>\n",
       "      <td>0.030498</td>\n",
       "    </tr>\n",
       "  </tbody>\n",
       "</table>\n",
       "</div>"
      ],
      "text/plain": [
       "            age  workclass  education  marital-status  occupation  \\\n",
       "23259 -0.746673   0.190240  -0.529195        0.900294   -0.105412   \n",
       "23555 -1.368081  -0.175015  -0.300280       -1.819630   -0.330988   \n",
       "25199 -0.047588  -0.175015  -0.300280       -1.819630   -1.992450   \n",
       "12655 -0.202940   1.326053  -0.529195        0.900294    1.041952   \n",
       "4702  -1.601109  -0.175015  -0.529195       -1.819630    0.142059   \n",
       "\n",
       "       relationship      race  sex  hours-per-week  native-country  \n",
       "23259      0.908941  0.085538    1       -0.392527        0.030498  \n",
       "23555     -3.138301  0.085538    1       -1.076130        0.030498  \n",
       "25199     -0.996787  0.085538    1       -0.099555        0.030498  \n",
       "12655      0.908941  0.085538    1        0.877020        0.070491  \n",
       "4702      -3.138301  0.085538    0       -2.540992        0.030498  "
      ]
     },
     "execution_count": 35,
     "metadata": {},
     "output_type": "execute_result"
    }
   ],
   "source": [
    "x_test_scaled.tail()"
   ]
  },
  {
   "cell_type": "code",
   "execution_count": 36,
   "metadata": {},
   "outputs": [
    {
     "data": {
      "image/png": "[encoded data removed]",
      "text/plain": [
       "<Figure size 1440x1440 with 12 Axes>"
      ]
     },
     "metadata": {
      "needs_background": "dark"
     },
     "output_type": "display_data"
    }
   ],
   "source": [
    "# теперь гистограммы и корреляции, должно быть интересно\n",
    "x_train_scaled.hist(figsize=(20, 20), bins=30);"
   ]
  },
  {
   "cell_type": "code",
   "execution_count": 37,
   "metadata": {},
   "outputs": [
    {
     "data": {
      "image/png": "[encoded data removed]",
      "text/plain": [
       "<Figure size 864x720 with 2 Axes>"
      ]
     },
     "metadata": {
      "needs_background": "dark"
     },
     "output_type": "display_data"
    }
   ],
   "source": [
    "plt.figure(figsize=(12, 10))\n",
    "sns.heatmap(x_train_scaled.corr(), annot=True);"
   ]
  },
  {
   "cell_type": "code",
   "execution_count": 38,
   "metadata": {},
   "outputs": [
    {
     "name": "stdout",
     "output_type": "stream",
     "text": [
      "0.8844573620619649    marital-status    relationship\n"
     ]
    }
   ],
   "source": [
    "# выведем программно:\n",
    "correlations = x_train_scaled.corr()\n",
    "used_corr_index = []\n",
    "interesting_corr_index=[]\n",
    "for i in correlations:\n",
    "    for j in correlations.index[correlations[i].abs() > 0.8]:\n",
    "        # if i != j and i not in used_corr_index and j not in used_corr_index:\n",
    "        if i != j and [i,j] not in used_corr_index and [j,i] not in used_corr_index:\n",
    "        #if i != j and [i,j] not in used_corr_index:\n",
    "            used_corr_index.append([i,j])\n",
    "            print(correlations[i][correlations.index == j].values[0], \"  \", i, \"  \", j )\n",
    "            interesting_corr_index.append([i,j,correlations[i][correlations.index == j].values[0]])"
   ]
  },
  {
   "cell_type": "code",
   "execution_count": 39,
   "metadata": {},
   "outputs": [
    {
     "name": "stdout",
     "output_type": "stream",
     "text": [
      "0 константные переменные\n"
     ]
    }
   ],
   "source": [
    "# посмотрим, есть ли константные признаки, которые слабо меняются:\n",
    "def constant_feature_detect(df,threshold=0.98):    \n",
    "    df_copy = df.copy(deep=True)\n",
    "    quasi_constant_feature = []\n",
    "    for feature in df_copy.columns:\n",
    "        predominant = (df_copy[feature].value_counts() / np.float(\n",
    "                      len(df_copy))).sort_values(ascending=False).values[0]\n",
    "        if predominant >= threshold:\n",
    "            quasi_constant_feature.append(feature)\n",
    "    print(len(quasi_constant_feature),'константные переменные')    \n",
    "    return quasi_constant_feature\n",
    "quasi_constant_feature = constant_feature_detect(df=x_train_scaled,threshold=0.9)"
   ]
  },
  {
   "cell_type": "code",
   "execution_count": 40,
   "metadata": {},
   "outputs": [
    {
     "data": {
      "text/plain": [
       "<matplotlib.axes._subplots.AxesSubplot at 0x1a41304f10>"
      ]
     },
     "execution_count": 40,
     "metadata": {},
     "output_type": "execute_result"
    },
    {
     "data": {
      "image/png": "[encoded data removed]",
      "text/plain": [
       "<Figure size 432x288 with 1 Axes>"
      ]
     },
     "metadata": {
      "needs_background": "dark"
     },
     "output_type": "display_data"
    }
   ],
   "source": [
    "# посмотрим на целевую переменную, насколько сбалансированны классы\n",
    "# можно смотреть на изначальный датасет, поскольку в таргете ничего не менялось\n",
    "df_iqr[\"makes_over_50K_a_year\"].hist()"
   ]
  },
  {
   "cell_type": "code",
   "execution_count": 41,
   "metadata": {},
   "outputs": [
    {
     "data": {
      "text/plain": [
       "0    22274\n",
       "1     7504\n",
       "Name: makes_over_50K_a_year, dtype: int64"
      ]
     },
     "execution_count": 41,
     "metadata": {},
     "output_type": "execute_result"
    }
   ],
   "source": [
    "df_iqr[\"makes_over_50K_a_year\"].value_counts()"
   ]
  },
  {
   "cell_type": "code",
   "execution_count": 42,
   "metadata": {},
   "outputs": [],
   "source": [
    "# дисбаланс сильный\n",
    "# нужно \n",
    "# - либо выкинуть рандомно часть данных, но это за рамками лекции, не подходит (хотя я бы так и сделал)\n",
    "# - либо undersampling на false, сильно уменьшая датасет\n",
    "# https://imbalanced-learn.readthedocs.io/en/stable/under_sampling.html#controlled-under-sampling\n",
    "# - либо oversampling на true, ухудшая репрезентативность данных искуственными значениями\n",
    "# https://imbalanced-learn.readthedocs.io/en/stable/over_sampling.html#random-over-sampler\n",
    "# мне не нравится забивание искуственными данными, будем делать undersampling\n",
    "# хотя на практике нужно тестировать три варианта - без модификаций, с over, с under\n",
    "cnn = CondensedNearestNeighbour(random_state=13)"
   ]
  },
  {
   "cell_type": "code",
   "execution_count": 44,
   "metadata": {},
   "outputs": [],
   "source": [
    "# очень долго выполняется, сложность квадратичная - особенности алгоритма\n",
    "x_train_scaled_res, y_train_res = cnn.fit_resample(x_train_scaled, y_train)"
   ]
  },
  {
   "cell_type": "code",
   "execution_count": 45,
   "metadata": {},
   "outputs": [
    {
     "name": "stdout",
     "output_type": "stream",
     "text": [
      "9266\n"
     ]
    },
    {
     "data": {
      "text/plain": [
       "array([[   0, 4013],\n",
       "       [   1, 5253]])"
      ]
     },
     "execution_count": 45,
     "metadata": {},
     "output_type": "execute_result"
    }
   ],
   "source": [
    "print(len(x_train_scaled_res))\n",
    "np.array(np.unique(y_train_res, return_counts=True)).T"
   ]
  },
  {
   "cell_type": "code",
   "execution_count": 46,
   "metadata": {},
   "outputs": [
    {
     "name": "stderr",
     "output_type": "stream",
     "text": [
      "/opt/anaconda3/lib/python3.7/site-packages/statsmodels/nonparametric/kde.py:487: RuntimeWarning: invalid value encountered in true_divide\n",
      "  binned = fast_linbin(X, a, b, gridsize) / (delta * nobs)\n",
      "/opt/anaconda3/lib/python3.7/site-packages/statsmodels/nonparametric/kdetools.py:34: RuntimeWarning: invalid value encountered in double_scalars\n",
      "  FAC1 = 2*(np.pi*bw/RANGE)**2\n"
     ]
    },
    {
     "data": {
      "text/plain": [
       "<seaborn.axisgrid.PairGrid at 0x1a4176ce50>"
      ]
     },
     "execution_count": 46,
     "metadata": {},
     "output_type": "execute_result"
    },
    {
     "data": {
      "image/png": "[encoded data removed]",
      "text/plain": [
       "<Figure size 869.33x720 with 20 Axes>"
      ]
     },
     "metadata": {
      "needs_background": "dark"
     },
     "output_type": "display_data"
    }
   ],
   "source": [
    "# для x/y _ test выборок resample можно не делать, они в обучении не участвуют\n",
    "# pairplot для того что было, будем сравнивать с тем что наделали\n",
    "sns.pairplot(data=df_iqr, hue=\"makes_over_50K_a_year\", palette=(\"bright\"))"
   ]
  },
  {
   "cell_type": "code",
   "execution_count": 1,
   "metadata": {},
   "outputs": [
    {
     "ename": "NameError",
     "evalue": "name 'pd' is not defined",
     "output_type": "error",
     "traceback": [
      "\u001b[0;31m---------------------------------------------------------------------------\u001b[0m",
      "\u001b[0;31mNameError\u001b[0m                                 Traceback (most recent call last)",
      "\u001b[0;32m<ipython-input-1-f18ee9284c24>\u001b[0m in \u001b[0;36m<module>\u001b[0;34m\u001b[0m\n\u001b[0;32m----> 1\u001b[0;31m \u001b[0mmodifyed_data_iqr\u001b[0m \u001b[0;34m=\u001b[0m \u001b[0mpd\u001b[0m\u001b[0;34m.\u001b[0m\u001b[0mconcat\u001b[0m\u001b[0;34m(\u001b[0m\u001b[0;34m[\u001b[0m\u001b[0mx_train_scaled\u001b[0m\u001b[0;34m,\u001b[0m \u001b[0my_train\u001b[0m\u001b[0;34m]\u001b[0m\u001b[0;34m)\u001b[0m\u001b[0;34m\u001b[0m\u001b[0;34m\u001b[0m\u001b[0m\n\u001b[0m\u001b[1;32m      2\u001b[0m \u001b[0mmodifyed_data_iqr\u001b[0m\u001b[0;34m[\u001b[0m\u001b[0my_train\u001b[0m\u001b[0;34m.\u001b[0m\u001b[0mname\u001b[0m\u001b[0;34m]\u001b[0m \u001b[0;34m=\u001b[0m \u001b[0my_train\u001b[0m\u001b[0;34m\u001b[0m\u001b[0;34m\u001b[0m\u001b[0m\n\u001b[1;32m      3\u001b[0m \u001b[0msns\u001b[0m\u001b[0;34m.\u001b[0m\u001b[0mpairplot\u001b[0m\u001b[0;34m(\u001b[0m\u001b[0mdata\u001b[0m\u001b[0;34m=\u001b[0m\u001b[0mmodifyed_data_iqr\u001b[0m\u001b[0;34m,\u001b[0m \u001b[0mhue\u001b[0m\u001b[0;34m=\u001b[0m\u001b[0;34m\"makes_over_50K_a_year\"\u001b[0m\u001b[0;34m,\u001b[0m \u001b[0mpalette\u001b[0m\u001b[0;34m=\u001b[0m\u001b[0;34m(\u001b[0m\u001b[0;34m\"bright\"\u001b[0m\u001b[0;34m)\u001b[0m\u001b[0;34m)\u001b[0m\u001b[0;34m\u001b[0m\u001b[0;34m\u001b[0m\u001b[0m\n",
      "\u001b[0;31mNameError\u001b[0m: name 'pd' is not defined"
     ]
    }
   ],
   "source": [
    "modifyed_data_iqr = pd.concat([x_train_scaled, y_train])\n",
    "modifyed_data_iqr[y_train.name] = y_train\n",
    "sns.pairplot(data=modifyed_data_iqr, hue=\"makes_over_50K_a_year\", palette=(\"bright\"))"
   ]
  },
  {
   "cell_type": "code",
   "execution_count": null,
   "metadata": {},
   "outputs": [],
   "source": [
    "# теперь регрессия\n",
    "from sklearn.metrics import accuracy_score, precision_score, recall_score, f1_score\n",
    "from sklearn.linear_model import LogisticRegression, LogisticRegressionCV\n",
    "\n",
    "def quality_report(prediction, actual):\n",
    "    print(\"Accuracy: {:.3f}\\nPrecision: {:.3f}\\nRecall: {:.3f}\\nf1_score: {:.3f}\".format(\n",
    "        accuracy_score(prediction, actual),\n",
    "        precision_score(prediction, actual),\n",
    "        recall_score(prediction, actual),\n",
    "        f1_score(prediction, actual)\n",
    "    ))"
   ]
  },
  {
   "cell_type": "code",
   "execution_count": null,
   "metadata": {},
   "outputs": [],
   "source": [
    "log_reg = LogisticRegression()\n",
    "\n",
    "log_reg.fit(x_train_scaled_res, y_train_res)\n",
    "print(\"Train quality:\")\n",
    "quality_report(log_reg.predict(x_train_scaled_res), y_train_res)\n",
    "print(\"\\nTest quality:\")\n",
    "quality_report(log_reg.predict(x_test_scaled), y_test)"
   ]
  },
  {
   "cell_type": "code",
   "execution_count": null,
   "metadata": {},
   "outputs": [],
   "source": [
    "featureImportance = pd.DataFrame({\"feature\": df.drop(\"makes_over_50K_a_year\",axis=1).columns, \n",
    "                                  \"importance\": log_reg.coef_[0]})\n",
    "\n",
    "featureImportance.set_index('feature', inplace=True)\n",
    "featureImportance.sort_values([\"importance\"], ascending=False, inplace=True)\n",
    "featureImportance[\"importance\"].plot(kind='bar', figsize=(15, 7));"
   ]
  },
  {
   "cell_type": "code",
   "execution_count": null,
   "metadata": {},
   "outputs": [],
   "source": [
    "# тут видно, что relationship влияет меньше чем marital-status, значит его можно убрать в дальнейшем\n",
    "# \n",
    "from sklearn.metrics import roc_auc_score, roc_curve\n",
    "\n",
    "def plot_roc_curve(prob_prediction, actual):\n",
    "    fpr, tpr, thresholds = roc_curve(y_test, prob_prediction)\n",
    "    auc_score = roc_auc_score(y_test, prob_prediction)\n",
    "    \n",
    "    plt.plot(fpr, tpr, label='ROC curve ')\n",
    "    plt.plot([0, 1], [0, 1])\n",
    "    plt.xlim([0.0, 1.0])\n",
    "    plt.ylim([0.0, 1.05])\n",
    "    plt.xlabel('False Positive Rate')\n",
    "    plt.ylabel('True Positive Rate')\n",
    "    plt.title('ROC AUC: {:.3f}'.format(auc_score))\n",
    "    plt.show()"
   ]
  },
  {
   "cell_type": "code",
   "execution_count": null,
   "metadata": {},
   "outputs": [],
   "source": [
    "plot_roc_curve(log_reg.predict_proba(x_test_scaled)[:,1], y_test)\n"
   ]
  },
  {
   "cell_type": "code",
   "execution_count": null,
   "metadata": {},
   "outputs": [],
   "source": [
    "from sklearn.metrics import confusion_matrix\n",
    "cm = confusion_matrix(y_test, log_reg.predict_proba(x_test_scaled)[:, 1]>0.8)\n",
    "\n",
    "conf_matrix = pd.DataFrame(data = cm, columns = ['Predicted:0','Predicted:1'], index=['Actual:0','Actual:1'])\n",
    "plt.figure(figsize = (4,4))\n",
    "sns.heatmap(conf_matrix, annot=True,fmt='d',cmap=\"YlGnBu\", cbar=False);"
   ]
  },
  {
   "cell_type": "code",
   "execution_count": null,
   "metadata": {},
   "outputs": [],
   "source": [
    "log_reg_default = LogisticRegression()\n",
    "\n",
    "log_reg_default.fit(x_train_scaled, y_train)\n",
    "print(\"Train quality:\")\n",
    "quality_report(log_reg_default.predict(x_train_scaled), y_train)\n",
    "print(\"\\nTest quality:\")\n",
    "quality_report(log_reg_default.predict(x_test_scaled), y_test)"
   ]
  },
  {
   "cell_type": "code",
   "execution_count": null,
   "metadata": {},
   "outputs": [],
   "source": [
    "featureImportance = pd.DataFrame({\"feature\": df.drop(\"makes_over_50K_a_year\",axis=1).columns, \n",
    "                                  \"importance\": log_reg_default.coef_[0]})\n",
    "\n",
    "featureImportance.set_index('feature', inplace=True)\n",
    "featureImportance.sort_values([\"importance\"], ascending=False, inplace=True)\n",
    "featureImportance[\"importance\"].plot(kind='bar', figsize=(15, 7));"
   ]
  },
  {
   "cell_type": "code",
   "execution_count": null,
   "metadata": {},
   "outputs": [],
   "source": [
    "plot_roc_curve(log_reg_default.predict_proba(x_test_scaled)[:,1], y_test)\n"
   ]
  },
  {
   "cell_type": "code",
   "execution_count": null,
   "metadata": {},
   "outputs": [],
   "source": [
    "cm = confusion_matrix(y_test, log_reg_default.predict_proba(x_test_scaled)[:, 1]>0.8)\n",
    "\n",
    "conf_matrix = pd.DataFrame(data = cm, columns = ['Predicted:0','Predicted:1'], index=['Actual:0','Actual:1'])\n",
    "plt.figure(figsize = (4,4))\n",
    "sns.heatmap(conf_matrix, annot=True,fmt='d',cmap=\"YlGnBu\", cbar=False);"
   ]
  },
  {
   "cell_type": "code",
   "execution_count": null,
   "metadata": {},
   "outputs": [],
   "source": []
  }
 ],
 "metadata": {
  "kernelspec": {
   "display_name": "Python 3",
   "language": "python",
   "name": "python3"
  },
  "language_info": {
   "codemirror_mode": {
    "name": "ipython",
    "version": 3
   },
   "file_extension": ".py",
   "mimetype": "text/x-python",
   "name": "python",
   "nbconvert_exporter": "python",
   "pygments_lexer": "ipython3",
   "version": "3.7.4"
  },
  "toc": {
   "base_numbering": 1,
   "nav_menu": {},
   "number_sections": true,
   "sideBar": true,
   "skip_h1_title": false,
   "title_cell": "Table of Contents",
   "title_sidebar": "Contents",
   "toc_cell": false,
   "toc_position": {},
   "toc_section_display": true,
   "toc_window_display": false
  }
 },
 "nbformat": 4,
 "nbformat_minor": 2
}
